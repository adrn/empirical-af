{
 "cells": [
  {
   "cell_type": "code",
   "execution_count": null,
   "id": "0cf479e8",
   "metadata": {},
   "outputs": [],
   "source": [
    "import astropy.coordinates as coord\n",
    "import astropy.table as at\n",
    "import astropy.units as u\n",
    "import matplotlib as mpl\n",
    "import matplotlib.pyplot as plt\n",
    "%matplotlib inline\n",
    "import numpy as np\n",
    "from scipy.ndimage import gaussian_filter\n",
    "\n",
    "# gala\n",
    "import gala.coordinates as gc\n",
    "import gala.dynamics as gd\n",
    "import gala.potential as gp\n",
    "import gala.integrate as gi\n",
    "from gala.units import galactic\n",
    "\n",
    "import agama\n",
    "agama.setUnits(mass=u.Msun, length=u.kpc, time=u.Myr)\n",
    "\n",
    "from helpers import gala_pot, agama_pot"
   ]
  },
  {
   "cell_type": "code",
   "execution_count": null,
   "id": "197431f0",
   "metadata": {},
   "outputs": [],
   "source": [
    "Rsun = 8.275 * u.kpc\n",
    "\n",
    "vcirc = gala_pot.circular_velocity([1.,0,0] * Rsun)[0]\n",
    "print(vcirc)\n",
    "\n",
    "Jphi0 = (vcirc * Rsun).decompose(galactic).value"
   ]
  },
  {
   "cell_type": "code",
   "execution_count": null,
   "id": "d7b3340c",
   "metadata": {},
   "outputs": [],
   "source": [
    "dJphi = Jphi0 * 0.01  # 5% solar\n",
    "dJr = (10 * u.km/u.s * 0.1*u.kpc).decompose(galactic).value\n",
    "dJz = (50 * u.km/u.s * 0.5*u.kpc).decompose(galactic).value\n",
    "\n",
    "N = 10_000_000\n",
    "def df(J):\n",
    "    Jr, Jz, Jphi = J.T\n",
    "    return np.exp(-np.abs(Jr)/dJr - 0.5*((Jphi-Jphi0)/dJphi)**2 - np.abs(Jz)/dJz)\n",
    "\n",
    "gm = agama.GalaxyModel(agama_pot, df)\n",
    "xv = gm.sample(N)[0]"
   ]
  },
  {
   "cell_type": "code",
   "execution_count": null,
   "id": "04453cd1",
   "metadata": {},
   "outputs": [],
   "source": [
    "act_finder = agama.ActionFinder(agama_pot)\n",
    "agama_act = act_finder(xv)  # JR, Jz, Jphi"
   ]
  },
  {
   "cell_type": "code",
   "execution_count": null,
   "id": "ef2f612f",
   "metadata": {},
   "outputs": [],
   "source": [
    "w0 = gd.PhaseSpacePosition.from_w(xv.T, units=galactic)"
   ]
  },
  {
   "cell_type": "code",
   "execution_count": null,
   "id": "511468d6",
   "metadata": {},
   "outputs": [],
   "source": [
    "plt.hist(w0.cylindrical.v_rho.value, bins=100);"
   ]
  },
  {
   "cell_type": "code",
   "execution_count": null,
   "id": "94016344",
   "metadata": {},
   "outputs": [],
   "source": [
    "plt.hist2d(xv[:, 5], xv[:, 2], bins=128, norm=mpl.colors.LogNorm());"
   ]
  },
  {
   "cell_type": "code",
   "execution_count": null,
   "id": "9223e538",
   "metadata": {},
   "outputs": [],
   "source": [
    "Norbits = 12\n",
    "orbits = []\n",
    "\n",
    "Nt = 1024\n",
    "zeros = np.zeros(Nt)\n",
    "\n",
    "Jzs = np.linspace(1.5e-2, np.sqrt(0.12), Norbits) ** 2 # u.kpc**2 / u.Myr\n",
    "Omzs = []\n",
    "for Jz in Jzs:\n",
    "    act = u.Quantity([0, Jz, Jphi0])\n",
    "    torus_mapper = agama.ActionMapper(agama_pot, act)\n",
    "\n",
    "    t_grid = np.linspace(0, 2 * np.pi / torus_mapper.Omegaz, Nt)\n",
    "    thz = torus_mapper.Omegaz * t_grid\n",
    "    Omzs.append(torus_mapper.Omegaz)\n",
    "    angles = np.stack((zeros, thz, zeros)).T\n",
    "    z, vz = torus_mapper(angles)[:, [2, 5]].T\n",
    "\n",
    "    # vz = (vz * u.kpc / u.Myr).to_value(u.km / u.s)\n",
    "    \n",
    "    orbits.append((z, vz))"
   ]
  },
  {
   "cell_type": "code",
   "execution_count": null,
   "id": "db6b5c85",
   "metadata": {},
   "outputs": [],
   "source": []
  },
  {
   "cell_type": "code",
   "execution_count": null,
   "id": "9cf79f75",
   "metadata": {},
   "outputs": [],
   "source": []
  },
  {
   "cell_type": "code",
   "execution_count": null,
   "id": "a885a020",
   "metadata": {},
   "outputs": [],
   "source": [
    "# Jr, Jz, Jphi\n",
    "JR = 0 * u.km / u.s * u.kpc\n",
    "Jphi = 240 * u.km / u.s * 8.275 * u.kpc"
   ]
  },
  {
   "cell_type": "code",
   "execution_count": null,
   "id": "14730454",
   "metadata": {},
   "outputs": [],
   "source": [
    "Norbits = 12\n",
    "orbits = []\n",
    "\n",
    "Nt = 1024\n",
    "zeros = np.zeros(Nt)\n",
    "\n",
    "Jzs = np.linspace(1.5e-2, np.sqrt(0.12), Norbits) ** 2 * u.kpc**2 / u.Myr\n",
    "Omzs = []\n",
    "for Jz in Jzs:\n",
    "    act = u.Quantity([JR, Jz, Jphi]).to_value(u.kpc**2 / u.Myr)\n",
    "    torus_mapper = agama.ActionMapper(agama_pot, act)\n",
    "\n",
    "    t_grid = np.linspace(0, 2 * np.pi / torus_mapper.Omegaz, Nt)\n",
    "    thz = torus_mapper.Omegaz * t_grid\n",
    "    Omzs.append(torus_mapper.Omegaz)\n",
    "    angles = np.stack((zeros, thz, zeros)).T\n",
    "    z, vz = torus_mapper(angles)[:, [2, 5]].T\n",
    "\n",
    "    vz = (vz * u.kpc / u.Myr).to_value(u.km / u.s)\n",
    "    \n",
    "    orbits.append((z, vz))"
   ]
  },
  {
   "cell_type": "code",
   "execution_count": null,
   "id": "94fd7fa7",
   "metadata": {},
   "outputs": [],
   "source": [
    "cm = plt.get_cmap(\"viridis\")\n",
    "norm = mpl.colors.Normalize(vmin=0, vmax=120)\n",
    "\n",
    "fig, axes = plt.subplots(1, 3, figsize=(15, 6.), constrained_layout=True, sharex=True, sharey=True)\n",
    "\n",
    "# Orbits:\n",
    "ax = axes[0]\n",
    "for (z, vz), Jz in zip(orbits, Jzs):\n",
    "    ax.plot(\n",
    "        vz, z, marker=\"\", ls=\"-\", lw=2, color=cm(norm(Jz.to_value(u.km / u.s * u.kpc)))\n",
    "    )\n",
    "\n",
    "ax.set_xlim(-100, 100)\n",
    "ax.set_ylim(-3, 3)\n",
    "\n",
    "smap = mpl.cm.ScalarMappable(norm=norm, cmap=cm)\n",
    "cb = fig.colorbar(smap, ax=ax, orientation='horizontal')\n",
    "cb.set_label(f\"$J_z$ [{u.kpc*u.km/u.s:latex_inline}]\")\n",
    "\n",
    "# DF:\n",
    "ax = axes[1]\n",
    "\n",
    "bins = (np.linspace(-100, 100, 151), np.linspace(-3, 3, 151))\n",
    "H, xe, ye = np.histogram2d(\n",
    "    tbl['vz'].to_value(u.km/u.s),\n",
    "    tbl['z'].to_value(u.kpc),\n",
    "    bins=bins\n",
    ")\n",
    "H /= H.max()\n",
    "xc = 0.5 * (xe[:-1] + xe[1:])\n",
    "yc = 0.5 * (ye[:-1] + ye[1:])\n",
    "cs = ax.contourf(xc, yc, H.T, levels=np.linspace(0, np.max(H), len(Jzs)+2))\n",
    "\n",
    "cb = fig.colorbar(cs, ax=ax, orientation='horizontal')\n",
    "cb.set_label(f\"scaled density\")\n",
    "\n",
    "for ax in axes:\n",
    "    ax.set_xlabel(f\"$v_z$ [{u.km/u.s:latex_inline}]\")\n",
    "axes[0].set_ylabel(f\"$z$ [{u.kpc:latex_inline}]\")\n",
    "\n",
    "# fig.savefig(\"../tex/figures/illustrate-zvz.pdf\")"
   ]
  },
  {
   "cell_type": "code",
   "execution_count": null,
   "id": "ca833b26",
   "metadata": {},
   "outputs": [],
   "source": []
  }
 ],
 "metadata": {
  "kernelspec": {
   "display_name": "Python [conda env:root] *",
   "language": "python",
   "name": "conda-root-py"
  },
  "language_info": {
   "codemirror_mode": {
    "name": "ipython",
    "version": 3
   },
   "file_extension": ".py",
   "mimetype": "text/x-python",
   "name": "python",
   "nbconvert_exporter": "python",
   "pygments_lexer": "ipython3",
   "version": "3.10.4"
  },
  "toc": {
   "base_numbering": 1,
   "nav_menu": {},
   "number_sections": true,
   "sideBar": true,
   "skip_h1_title": false,
   "title_cell": "Table of Contents",
   "title_sidebar": "Contents",
   "toc_cell": false,
   "toc_position": {},
   "toc_section_display": true,
   "toc_window_display": false
  }
 },
 "nbformat": 4,
 "nbformat_minor": 5
}
