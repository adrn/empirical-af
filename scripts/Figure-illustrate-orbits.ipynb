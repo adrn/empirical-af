{
 "cells": [
  {
   "cell_type": "code",
   "execution_count": 1,
   "id": "ffc0ea86",
   "metadata": {
    "ExecuteTime": {
     "end_time": "2023-06-10T20:18:09.878852Z",
     "start_time": "2023-06-10T20:18:09.874659Z"
    }
   },
   "outputs": [],
   "source": [
    "import pathlib"
   ]
  },
  {
   "cell_type": "code",
   "execution_count": 2,
   "id": "94816bd3",
   "metadata": {
    "ExecuteTime": {
     "end_time": "2023-06-10T20:18:12.295500Z",
     "start_time": "2023-06-10T20:18:10.242600Z"
    }
   },
   "outputs": [],
   "source": [
    "import agama\n",
    "import astropy.table as at\n",
    "import astropy.units as u\n",
    "import gala.integrate as gi\n",
    "import matplotlib as mpl\n",
    "import matplotlib.pyplot as plt"
   ]
  },
  {
   "cell_type": "code",
   "execution_count": 3,
   "id": "4d2b18e5",
   "metadata": {
    "ExecuteTime": {
     "end_time": "2023-06-10T20:18:12.335918Z",
     "start_time": "2023-06-10T20:18:12.296656Z"
    }
   },
   "outputs": [],
   "source": [
    "%matplotlib inline\n",
    "import numpy as np\n",
    "from make_toy_df import get_potentials\n",
    "from scipy.ndimage import gaussian_filter"
   ]
  },
  {
   "cell_type": "code",
   "execution_count": 4,
   "id": "39126b06",
   "metadata": {
    "ExecuteTime": {
     "end_time": "2023-06-10T20:18:12.338768Z",
     "start_time": "2023-06-10T20:18:12.336593Z"
    }
   },
   "outputs": [],
   "source": [
    "agama.setUnits(mass=u.Msun, length=u.kpc, time=u.Myr)"
   ]
  },
  {
   "cell_type": "code",
   "execution_count": 5,
   "id": "7579beb3",
   "metadata": {
    "ExecuteTime": {
     "end_time": "2023-06-10T20:18:12.342762Z",
     "start_time": "2023-06-10T20:18:12.340871Z"
    }
   },
   "outputs": [],
   "source": [
    "try:\n",
    "    this_path = pathlib.Path(__file__).absolute().parent\n",
    "except NameError:\n",
    "    this_path = pathlib.Path(\".\").absolute()\n",
    "\n",
    "data_path = this_path.parent / \"data\"\n",
    "figure_path = this_path.parent / \"figures\""
   ]
  },
  {
   "cell_type": "code",
   "execution_count": 6,
   "id": "7b88a7cc",
   "metadata": {
    "ExecuteTime": {
     "end_time": "2023-06-10T20:18:13.361475Z",
     "start_time": "2023-06-10T20:18:12.918683Z"
    }
   },
   "outputs": [
    {
     "ename": "FileNotFoundError",
     "evalue": "[Errno 2] No such file or directory: '/Users/apricewhelan/projects/empirical-af/tex/data/toy-df.fits'",
     "output_type": "error",
     "traceback": [
      "\u001b[0;31m---------------------------------------------------------------------------\u001b[0m",
      "\u001b[0;31mFileNotFoundError\u001b[0m                         Traceback (most recent call last)",
      "Cell \u001b[0;32mIn[6], line 1\u001b[0m\n\u001b[0;32m----> 1\u001b[0m tbl \u001b[38;5;241m=\u001b[39m \u001b[43mat\u001b[49m\u001b[38;5;241;43m.\u001b[39;49m\u001b[43mQTable\u001b[49m\u001b[38;5;241;43m.\u001b[39;49m\u001b[43mread\u001b[49m\u001b[43m(\u001b[49m\u001b[43mdata_path\u001b[49m\u001b[43m \u001b[49m\u001b[38;5;241;43m/\u001b[39;49m\u001b[43m \u001b[49m\u001b[38;5;124;43m\"\u001b[39;49m\u001b[38;5;124;43mtoy-df.fits\u001b[39;49m\u001b[38;5;124;43m\"\u001b[39;49m\u001b[43m)\u001b[49m\n\u001b[1;32m      2\u001b[0m \u001b[38;5;28mlen\u001b[39m(tbl)\n",
      "File \u001b[0;32m~/anaconda3/lib/python3.10/site-packages/astropy/table/connect.py:62\u001b[0m, in \u001b[0;36mTableRead.__call__\u001b[0;34m(self, *args, **kwargs)\u001b[0m\n\u001b[1;32m     59\u001b[0m units \u001b[38;5;241m=\u001b[39m kwargs\u001b[38;5;241m.\u001b[39mpop(\u001b[38;5;124m\"\u001b[39m\u001b[38;5;124munits\u001b[39m\u001b[38;5;124m\"\u001b[39m, \u001b[38;5;28;01mNone\u001b[39;00m)\n\u001b[1;32m     60\u001b[0m descriptions \u001b[38;5;241m=\u001b[39m kwargs\u001b[38;5;241m.\u001b[39mpop(\u001b[38;5;124m\"\u001b[39m\u001b[38;5;124mdescriptions\u001b[39m\u001b[38;5;124m\"\u001b[39m, \u001b[38;5;28;01mNone\u001b[39;00m)\n\u001b[0;32m---> 62\u001b[0m out \u001b[38;5;241m=\u001b[39m \u001b[38;5;28;43mself\u001b[39;49m\u001b[38;5;241;43m.\u001b[39;49m\u001b[43mregistry\u001b[49m\u001b[38;5;241;43m.\u001b[39;49m\u001b[43mread\u001b[49m\u001b[43m(\u001b[49m\u001b[38;5;28;43mcls\u001b[39;49m\u001b[43m,\u001b[49m\u001b[43m \u001b[49m\u001b[38;5;241;43m*\u001b[39;49m\u001b[43margs\u001b[49m\u001b[43m,\u001b[49m\u001b[43m \u001b[49m\u001b[38;5;241;43m*\u001b[39;49m\u001b[38;5;241;43m*\u001b[39;49m\u001b[43mkwargs\u001b[49m\u001b[43m)\u001b[49m\n\u001b[1;32m     64\u001b[0m \u001b[38;5;66;03m# For some readers (e.g., ascii.ecsv), the returned `out` class is not\u001b[39;00m\n\u001b[1;32m     65\u001b[0m \u001b[38;5;66;03m# guaranteed to be the same as the desired output `cls`.  If so,\u001b[39;00m\n\u001b[1;32m     66\u001b[0m \u001b[38;5;66;03m# try coercing to desired class without copying (io.registry.read\u001b[39;00m\n\u001b[1;32m     67\u001b[0m \u001b[38;5;66;03m# would normally do a copy).  The normal case here is swapping\u001b[39;00m\n\u001b[1;32m     68\u001b[0m \u001b[38;5;66;03m# Table <=> QTable.\u001b[39;00m\n\u001b[1;32m     69\u001b[0m \u001b[38;5;28;01mif\u001b[39;00m \u001b[38;5;28mcls\u001b[39m \u001b[38;5;129;01mis\u001b[39;00m \u001b[38;5;129;01mnot\u001b[39;00m out\u001b[38;5;241m.\u001b[39m\u001b[38;5;18m__class__\u001b[39m:\n",
      "File \u001b[0;32m~/anaconda3/lib/python3.10/site-packages/astropy/io/registry/core.py:202\u001b[0m, in \u001b[0;36mUnifiedInputRegistry.read\u001b[0;34m(self, cls, format, cache, *args, **kwargs)\u001b[0m\n\u001b[1;32m    198\u001b[0m \u001b[38;5;28;01mtry\u001b[39;00m:\n\u001b[1;32m    199\u001b[0m     ctx \u001b[38;5;241m=\u001b[39m get_readable_fileobj(\n\u001b[1;32m    200\u001b[0m         args[\u001b[38;5;241m0\u001b[39m], encoding\u001b[38;5;241m=\u001b[39m\u001b[38;5;124m\"\u001b[39m\u001b[38;5;124mbinary\u001b[39m\u001b[38;5;124m\"\u001b[39m, cache\u001b[38;5;241m=\u001b[39mcache\n\u001b[1;32m    201\u001b[0m     )\n\u001b[0;32m--> 202\u001b[0m     fileobj \u001b[38;5;241m=\u001b[39m \u001b[43mctx\u001b[49m\u001b[38;5;241;43m.\u001b[39;49m\u001b[38;5;21;43m__enter__\u001b[39;49m\u001b[43m(\u001b[49m\u001b[43m)\u001b[49m\n\u001b[1;32m    203\u001b[0m \u001b[38;5;28;01mexcept\u001b[39;00m \u001b[38;5;167;01mOSError\u001b[39;00m:\n\u001b[1;32m    204\u001b[0m     \u001b[38;5;28;01mraise\u001b[39;00m\n",
      "File \u001b[0;32m~/anaconda3/lib/python3.10/contextlib.py:135\u001b[0m, in \u001b[0;36m_GeneratorContextManager.__enter__\u001b[0;34m(self)\u001b[0m\n\u001b[1;32m    133\u001b[0m \u001b[38;5;28;01mdel\u001b[39;00m \u001b[38;5;28mself\u001b[39m\u001b[38;5;241m.\u001b[39margs, \u001b[38;5;28mself\u001b[39m\u001b[38;5;241m.\u001b[39mkwds, \u001b[38;5;28mself\u001b[39m\u001b[38;5;241m.\u001b[39mfunc\n\u001b[1;32m    134\u001b[0m \u001b[38;5;28;01mtry\u001b[39;00m:\n\u001b[0;32m--> 135\u001b[0m     \u001b[38;5;28;01mreturn\u001b[39;00m \u001b[38;5;28;43mnext\u001b[39;49m\u001b[43m(\u001b[49m\u001b[38;5;28;43mself\u001b[39;49m\u001b[38;5;241;43m.\u001b[39;49m\u001b[43mgen\u001b[49m\u001b[43m)\u001b[49m\n\u001b[1;32m    136\u001b[0m \u001b[38;5;28;01mexcept\u001b[39;00m \u001b[38;5;167;01mStopIteration\u001b[39;00m:\n\u001b[1;32m    137\u001b[0m     \u001b[38;5;28;01mraise\u001b[39;00m \u001b[38;5;167;01mRuntimeError\u001b[39;00m(\u001b[38;5;124m\"\u001b[39m\u001b[38;5;124mgenerator didn\u001b[39m\u001b[38;5;124m'\u001b[39m\u001b[38;5;124mt yield\u001b[39m\u001b[38;5;124m\"\u001b[39m) \u001b[38;5;28;01mfrom\u001b[39;00m \u001b[38;5;28mNone\u001b[39m\n",
      "File \u001b[0;32m~/anaconda3/lib/python3.10/site-packages/astropy/utils/data.py:351\u001b[0m, in \u001b[0;36mget_readable_fileobj\u001b[0;34m(name_or_obj, encoding, cache, show_progress, remote_timeout, sources, http_headers, use_fsspec, fsspec_kwargs, close_files)\u001b[0m\n\u001b[1;32m    342\u001b[0m \u001b[38;5;28;01mif\u001b[39;00m is_url:\n\u001b[1;32m    343\u001b[0m     name_or_obj \u001b[38;5;241m=\u001b[39m download_file(\n\u001b[1;32m    344\u001b[0m         name_or_obj,\n\u001b[1;32m    345\u001b[0m         cache\u001b[38;5;241m=\u001b[39mcache,\n\u001b[0;32m   (...)\u001b[0m\n\u001b[1;32m    349\u001b[0m         http_headers\u001b[38;5;241m=\u001b[39mhttp_headers,\n\u001b[1;32m    350\u001b[0m     )\n\u001b[0;32m--> 351\u001b[0m fileobj \u001b[38;5;241m=\u001b[39m \u001b[43mio\u001b[49m\u001b[38;5;241;43m.\u001b[39;49m\u001b[43mFileIO\u001b[49m\u001b[43m(\u001b[49m\u001b[43mname_or_obj\u001b[49m\u001b[43m,\u001b[49m\u001b[43m \u001b[49m\u001b[38;5;124;43m\"\u001b[39;49m\u001b[38;5;124;43mr\u001b[39;49m\u001b[38;5;124;43m\"\u001b[39;49m\u001b[43m)\u001b[49m\n\u001b[1;32m    352\u001b[0m \u001b[38;5;28;01mif\u001b[39;00m is_url \u001b[38;5;129;01mand\u001b[39;00m \u001b[38;5;129;01mnot\u001b[39;00m cache:\n\u001b[1;32m    353\u001b[0m     delete_fds\u001b[38;5;241m.\u001b[39mappend(fileobj)\n",
      "\u001b[0;31mFileNotFoundError\u001b[0m: [Errno 2] No such file or directory: '/Users/apricewhelan/projects/empirical-af/tex/data/toy-df.fits'"
     ]
    }
   ],
   "source": [
    "tbl = at.QTable.read(data_path / \"toy-df.fits\")\n",
    "len(tbl)"
   ]
  },
  {
   "cell_type": "code",
   "execution_count": null,
   "id": "e87babc4",
   "metadata": {},
   "outputs": [],
   "source": [
    "gala_pot, agama_pot = get_potentials()\n",
    "R0 = 8.275 * u.kpc\n",
    "vcirc = gala_pot.circular_velocity(R0 * [1.0, 0, 0])[0]"
   ]
  },
  {
   "cell_type": "code",
   "execution_count": null,
   "id": "a7a78429",
   "metadata": {},
   "outputs": [],
   "source": [
    "mask = np.ones(len(tbl), dtype=bool)\n",
    "# mask = (\n",
    "#     (tbl['J'][:, 0].value < 0.05)\n",
    "#     & (np.abs(tbl['J'][:, 2] - np.median(tbl['J'][:, 2])).value < 0.05)\n",
    "# #     & (tbl['R'] >= 8.27*u.kpc)& (tbl['R'] <= 8.9*u.kpc)\n",
    "# )\n",
    "mask.sum()"
   ]
  },
  {
   "cell_type": "code",
   "execution_count": null,
   "id": "15929ef0",
   "metadata": {},
   "outputs": [],
   "source": [
    "plt.hist2d(\n",
    "    tbl[\"R\"].value[mask],\n",
    "    tbl[\"z\"].value[mask],\n",
    "    bins=(np.linspace(8, 10, 128), np.linspace(-10, 10, 128)),\n",
    "    norm=mpl.colors.LogNorm(),\n",
    ")"
   ]
  },
  {
   "cell_type": "code",
   "execution_count": null,
   "id": "c1768045",
   "metadata": {},
   "outputs": [],
   "source": [
    "# Jr, Jz, Jphi\n",
    "JR = 0.0 * u.km / u.s * u.kpc\n",
    "# JR = np.median(tbl['J'][mask, 0])\n",
    "# JR = 1e-4 * u.km / u.s * u.kpc\n",
    "Jphi = vcirc * R0"
   ]
  },
  {
   "cell_type": "code",
   "execution_count": null,
   "id": "58ed6eed",
   "metadata": {},
   "outputs": [],
   "source": [
    "Norbits = 12\n",
    "orbits = []\n",
    "\n",
    "Nt = 1024\n",
    "zeros = np.zeros(Nt)\n",
    "\n",
    "# Jzs = np.linspace(1.1e-2, np.sqrt(0.1), Norbits) ** 2 * u.kpc**2 / u.Myr\n",
    "Jzs = np.linspace(1e-2, np.sqrt(0.1), Norbits) ** 2 * u.kpc**2 / u.Myr\n",
    "Omzs = []\n",
    "for Jz in Jzs:\n",
    "    act = u.Quantity([JR, Jz, Jphi]).to_value(u.kpc**2 / u.Myr)\n",
    "    torus_mapper = agama.ActionMapper(agama_pot, act, tol=1e-7)\n",
    "    Omzs.append(torus_mapper.Omegaz)\n",
    "\n",
    "    T = 10 * 2 * np.pi / torus_mapper.Omegaz\n",
    "    t_grid = np.linspace(0, T, Nt)\n",
    "\n",
    "    xv0 = torus_mapper([0.0, 0, 0]).T\n",
    "    #     print(xv0)\n",
    "    orbit = gala_pot.integrate_orbit(xv0, t=t_grid, Integrator=gi.DOPRI853Integrator)\n",
    "    orbits.append((orbit.z.to_value(u.kpc), orbit.v_z.to_value(u.km / u.s)))\n",
    "\n",
    "#     thz = torus_mapper.Omegaz * t_grid\n",
    "#     angles = np.stack((zeros, thz, zeros)).T\n",
    "#     z, vz = torus_mapper(angles)[:, [2, 5]].T\n",
    "#     vz = (vz * u.kpc / u.Myr).to_value(u.km / u.s)\n",
    "#     orbits.append((z, vz))"
   ]
  },
  {
   "cell_type": "code",
   "execution_count": null,
   "id": "5541a177",
   "metadata": {},
   "outputs": [],
   "source": [
    "fig, ax = plt.subplots(1, 1, figsize=(6, 6))\n",
    "for (z, vz), Jz in zip(orbits, Jzs):\n",
    "    ax.plot(vz, z, marker=\"\", ls=\"-\", color=\"k\", lw=2)\n",
    "ax.set_xlim(-100, 100)\n",
    "ax.set_ylim(-2.5, 2.5)"
   ]
  },
  {
   "cell_type": "code",
   "execution_count": null,
   "id": "b20a2ec5",
   "metadata": {},
   "outputs": [],
   "source": [
    "Nbins = 150\n",
    "bins = (np.linspace(-100, 100, Nbins), np.linspace(-2.5, 2.5, Nbins))\n",
    "H, xe, ye = np.histogram2d(\n",
    "    tbl[\"vz\"].to_value(u.km / u.s)[mask], tbl[\"z\"].to_value(u.kpc)[mask], bins=bins\n",
    ")\n",
    "H /= H.max()\n",
    "H = gaussian_filter(H, 2)\n",
    "xc = 0.5 * (xe[:-1] + xe[1:])\n",
    "yc = 0.5 * (ye[:-1] + ye[1:])\n",
    "\n",
    "ii = len(xc) // 2\n",
    "dens_grid = H[ii:, np.abs(yc).argmin()]\n",
    "levels = [1.0]\n",
    "for _, vz in orbits:\n",
    "    vz_grid = xc[ii:]\n",
    "    jj = np.abs(vz_grid - vz[0]).argmin()\n",
    "    levels.append(dens_grid[jj])"
   ]
  },
  {
   "cell_type": "code",
   "execution_count": null,
   "id": "5ae59f5e",
   "metadata": {},
   "outputs": [],
   "source": [
    "cm = plt.get_cmap(\"magma\")\n",
    "norm = mpl.colors.Normalize(vmin=0, vmax=120)\n",
    "\n",
    "fig, axes = plt.subplots(\n",
    "    1, 2, figsize=(10.5, 6.3), constrained_layout=True, sharex=True, sharey=True\n",
    ")\n",
    "\n",
    "# Orbits:\n",
    "ax = axes[0]\n",
    "for (z, vz), Jz in zip(orbits, Jzs):\n",
    "    ax.plot(\n",
    "        vz, z, marker=\"\", ls=\"-\", lw=2, color=cm(norm(Jz.to_value(u.km / u.s * u.kpc)))\n",
    "    )\n",
    "\n",
    "ax.set_xlim(-100, 100)\n",
    "ax.set_ylim(-2.5, 2.5)\n",
    "\n",
    "smap = mpl.cm.ScalarMappable(norm=norm, cmap=cm)\n",
    "cb = fig.colorbar(smap, ax=axes[0], orientation=\"horizontal\")\n",
    "cb.set_label(f\"$J_z$ [{u.kpc*u.km/u.s:latex_inline}]\")\n",
    "\n",
    "# DF:\n",
    "ax = axes[1]\n",
    "# levels = np.linspace(0, np.max(H), len(Jzs) + 2)\n",
    "cs = ax.contourf(xc, yc, H.T, levels=sorted(levels), cmap=\"Blues\")\n",
    "\n",
    "cb = fig.colorbar(cs, ax=ax, orientation=\"horizontal\")\n",
    "cb.set_label(\"scaled density\")\n",
    "cb.set_ticklabels([])\n",
    "\n",
    "for ax in axes:\n",
    "    ax.set_xlabel(f\"$v_z$ [{u.km/u.s:latex_inline}]\")\n",
    "axes[0].set_ylabel(f\"$z$ [{u.kpc:latex_inline}]\")\n",
    "\n",
    "axes[0].set_title(\"Orbits\")\n",
    "axes[1].set_title(\"Phase-space Density\")\n",
    "\n",
    "fig.savefig(figure_path / \"illustrate-zvz.pdf\")"
   ]
  }
 ],
 "metadata": {
  "jupytext": {
   "formats": "ipynb,py"
  },
  "kernelspec": {
   "display_name": "Python [conda env:root] *",
   "language": "python",
   "name": "conda-root-py"
  },
  "language_info": {
   "codemirror_mode": {
    "name": "ipython",
    "version": 3
   },
   "file_extension": ".py",
   "mimetype": "text/x-python",
   "name": "python",
   "nbconvert_exporter": "python",
   "pygments_lexer": "ipython3",
   "version": "3.10.4"
  },
  "toc": {
   "base_numbering": 1,
   "nav_menu": {},
   "number_sections": true,
   "sideBar": true,
   "skip_h1_title": false,
   "title_cell": "Table of Contents",
   "title_sidebar": "Contents",
   "toc_cell": false,
   "toc_position": {},
   "toc_section_display": true,
   "toc_window_display": false
  }
 },
 "nbformat": 4,
 "nbformat_minor": 5
}
