{
 "cells": [
  {
   "cell_type": "code",
   "execution_count": null,
   "id": "82714fae",
   "metadata": {},
   "outputs": [],
   "source": [
    "from functools import partial\n",
    "import pathlib\n",
    "\n",
    "import astropy.table as at\n",
    "from astropy.convolution import convolve, Gaussian2DKernel\n",
    "import astropy.units as u\n",
    "import matplotlib as mpl\n",
    "import matplotlib.pyplot as plt\n",
    "\n",
    "%matplotlib inline\n",
    "import numpy as np\n",
    "import gala.integrate as gi\n",
    "from gala.units import galactic\n",
    "from scipy.ndimage import gaussian_filter\n",
    "from scipy.stats import binned_statistic_2d\n",
    "from scipy.interpolate import interp1d\n",
    "import cmasher as cmr\n",
    "\n",
    "import jax\n",
    "jax.config.update('jax_enable_x64', True)\n",
    "import jax.numpy as jnp\n",
    "import torusimaging as oti"
   ]
  },
  {
   "cell_type": "markdown",
   "id": "8cb30cc7",
   "metadata": {},
   "source": [
    "$$\n",
    "\\Phi(z) = \\frac{1}{2} \\, \\Omega^2  \\, z^2\\\\\n",
    "E_z = \\frac{1}{2} \\, v_z^2 + \\Phi(z)\\\\\n",
    "J_z = E_z / \\Omega\n",
    "$$\n",
    "\n",
    "First, figure out $E_z$ and $J_z$ for $z_{\\rm max} = 1$:"
   ]
  },
  {
   "cell_type": "code",
   "execution_count": null,
   "id": "46a9c08d",
   "metadata": {},
   "outputs": [],
   "source": [
    "Omega = 0.08 * u.rad/u.Myr\n",
    "\n",
    "scale_vz = 50 * u.km/u.s\n",
    "sz = (scale_vz / np.sqrt(Omega)).decompose(galactic)  # .value"
   ]
  },
  {
   "cell_type": "code",
   "execution_count": null,
   "id": "6f21b754",
   "metadata": {},
   "outputs": [],
   "source": [
    "N = 2**18\n",
    "\n",
    "rng = np.random.default_rng(42)\n",
    "with u.set_enabled_equivalencies(u.dimensionless_angles()):\n",
    "    Jzs = (rng.exponential(scale=sz.value**2, size=N) * sz.unit**2).to(galactic['length']**2 / galactic['time'])\n",
    "    thzs = rng.uniform(0, 2*np.pi, size=N)"
   ]
  },
  {
   "cell_type": "code",
   "execution_count": null,
   "id": "e53ed619",
   "metadata": {},
   "outputs": [],
   "source": [
    "with u.set_enabled_equivalencies(u.dimensionless_angles()):\n",
    "    pdata = {\n",
    "        \"z\": (np.sqrt(2 * Jzs / Omega) * np.sin(thzs)).to(galactic[\"length\"]),\n",
    "        \"vz\": (np.sqrt(2 * Jzs * Omega) * np.cos(thzs)).to(\n",
    "            galactic[\"length\"] / galactic[\"time\"]\n",
    "        ),\n",
    "    }\n",
    "    pdata[\"rz\"] = np.sqrt(\n",
    "        pdata[\"z\"] ** 2 * Omega + pdata[\"vz\"] ** 2 / Omega\n",
    "    )"
   ]
  },
  {
   "cell_type": "code",
   "execution_count": null,
   "id": "74b874cc",
   "metadata": {},
   "outputs": [],
   "source": [
    "pdata"
   ]
  },
  {
   "cell_type": "code",
   "execution_count": null,
   "id": "c1d1fc47",
   "metadata": {},
   "outputs": [],
   "source": [
    "max_rzp = (5 * scale_vz / np.sqrt(Omega)).decompose(galactic)\n",
    "max_rzp.value"
   ]
  },
  {
   "cell_type": "code",
   "execution_count": null,
   "id": "9a58302f",
   "metadata": {},
   "outputs": [],
   "source": [
    "with u.set_enabled_equivalencies(u.dimensionless_angles()):\n",
    "    max_z = (max_rzp / np.sqrt(Omega)).to(galactic['length'])\n",
    "    max_vz = (max_rzp * np.sqrt(Omega)).to(galactic['velocity'])\n",
    "\n",
    "max_z = np.round(max_z, 0)\n",
    "max_vz = np.round(max_vz, 0)\n",
    "max_z, max_vz"
   ]
  },
  {
   "cell_type": "code",
   "execution_count": null,
   "id": "2eaff8bb",
   "metadata": {},
   "outputs": [],
   "source": [
    "zbins = np.linspace(-max_z.value, max_z.value, 151)\n",
    "zvz_bins = {\"z\": zbins, \"vz\": Omega * zbins}\n",
    "data = oti.DensityOrbitModel.get_data_im(\n",
    "    z=pdata['z'],\n",
    "    vz=pdata['vz'],\n",
    "    bins=zvz_bins,\n",
    ")"
   ]
  },
  {
   "cell_type": "code",
   "execution_count": null,
   "id": "3f93da56",
   "metadata": {},
   "outputs": [],
   "source": [
    "fig, axes = plt.subplots(1, 2, figsize=(12, 5), constrained_layout=True)\n",
    "axes[0].pcolormesh(data['vz'], data['z'], data['H'], norm=mpl.colors.LogNorm());\n",
    "axes[1].hist(pdata['vz'].to_value(u.km/u.s), bins=np.linspace(-100, 100, 128));\n",
    "axes[1].axvline(scale_vz.value)"
   ]
  },
  {
   "cell_type": "code",
   "execution_count": null,
   "id": "28633e8c",
   "metadata": {},
   "outputs": [],
   "source": [
    "n_dens_knots = 10\n",
    "\n",
    "# Knot locations, spaced equally in r_z\n",
    "ln_dens_knots = jnp.linspace(0, max_rzp.value, n_dens_knots)\n",
    "\n",
    "\n",
    "def ln_dens_func(rz, ln_dens_vals):\n",
    "    return oti.model_helpers.monotonic_quadratic_spline(\n",
    "        ln_dens_knots**2, ln_dens_vals, rz**2\n",
    "    )\n",
    "\n",
    "\n",
    "ln_dens_bounds = {\n",
    "    \"ln_dens_vals\": (\n",
    "        np.concatenate(([-5], jnp.full(n_dens_knots - 1, -25.0))),\n",
    "        np.concatenate(([25], jnp.full(n_dens_knots - 1, 0.0))),\n",
    "    )\n",
    "}"
   ]
  },
  {
   "cell_type": "code",
   "execution_count": null,
   "id": "2b0a5e1d",
   "metadata": {},
   "outputs": [],
   "source": [
    "# NOTE: ln_Omega is degenerate with e2 value at small rz, so we only use a few knots\n",
    "\n",
    "n_knots = {2: 5} # , 4: 9}\n",
    "e_knots = {m: jnp.linspace(0, ln_dens_knots.max(), n_knots[m]) for m in n_knots}\n",
    "e_signs = {2: 1., 4: -1.}\n",
    "\n",
    "def e_func_base(rzp, vals, m):\n",
    "    return e_signs[m] * oti.model_helpers.monotonic_quadratic_spline(\n",
    "        e_knots[m], jnp.concatenate((jnp.array([0.0]), vals)), rzp\n",
    "    )\n",
    "e_funcs = {m: partial(e_func_base, m=m) for m in e_knots}\n",
    "\n",
    "e_params0 = {m: {\"vals\": np.zeros(n_knots[m] - 1)} for m in e_funcs}\n",
    "e_bounds = {m: {\"vals\": (np.full(n_knots[m] - 1, 0), np.full(n_knots[m] - 1, 1))} for m in e_funcs}"
   ]
  },
  {
   "cell_type": "code",
   "execution_count": null,
   "id": "49e10ccd",
   "metadata": {},
   "outputs": [],
   "source": [
    "# n_e2_knots = 11\n",
    "\n",
    "# e2_knots = jnp.linspace(0, ln_dens_knots.max(), n_e2_knots)\n",
    "\n",
    "\n",
    "# def e2_func(rzp, e2_vals):\n",
    "#     return oti.model_helpers.monotonic_quadratic_spline(\n",
    "#         e2_knots, jnp.concatenate((jnp.array([0.0]), e2_vals)), rzp\n",
    "#     )\n",
    "\n",
    "\n",
    "# e_params0 = {2: {\"e2_vals\": np.zeros(n_e2_knots - 1)}}\n",
    "# e_bounds = {2: {\"e2_vals\": (np.full(n_e2_knots - 1, 0), np.full(n_e2_knots - 1, 1))}}"
   ]
  },
  {
   "cell_type": "code",
   "execution_count": null,
   "id": "28bc09ef",
   "metadata": {},
   "outputs": [],
   "source": [
    "def reg_func(params):\n",
    "    p = 0.\n",
    "    \n",
    "    p += jnp.sum((params['e_params'][2]['vals'])**2 / 0.1**2)\n",
    "#     for k in params['e_params']:\n",
    "#         p += jnp.sum(jnp.abs(params['e_params'][k]['vals']) / 0.1)\n",
    "    \n",
    "#     p += jnp.sum(jnp.abs(params['ln_dens_params']['ln_dens_vals']) / 1.)\n",
    "    \n",
    "    return p"
   ]
  },
  {
   "cell_type": "code",
   "execution_count": null,
   "id": "8abc7222",
   "metadata": {},
   "outputs": [],
   "source": [
    "model = oti.DensityOrbitModel(\n",
    "    ln_dens_func=ln_dens_func,\n",
    "    e_funcs=e_funcs,\n",
    "    regularization_func=reg_func,\n",
    "    unit_sys=galactic,\n",
    ")"
   ]
  },
  {
   "cell_type": "code",
   "execution_count": null,
   "id": "904ffd0d",
   "metadata": {},
   "outputs": [],
   "source": [
    "params0 = model.get_params_init(\n",
    "    pdata['z'], pdata['vz'], ln_dens_params0={\"ln_dens_vals\": np.zeros(n_dens_knots)}\n",
    ")\n",
    "\n",
    "# OVERWRITE\n",
    "# params0['ln_dens_params'] = {'ln_dens_vals': np.zeros(n_dens_knots)}\n",
    "params0['e_params'] = e_params0\n",
    "params0"
   ]
  },
  {
   "cell_type": "code",
   "execution_count": null,
   "id": "db95e5ef",
   "metadata": {},
   "outputs": [],
   "source": [
    "bounds = {}\n",
    "\n",
    "_dens0 = [0.01, 2] * u.Msun / u.pc**3\n",
    "bounds[\"ln_Omega\"] = (np.log(1e-4), np.log(1e0))\n",
    "bounds[\"z0\"] = (-0.5, 0.5)\n",
    "bounds[\"vz0\"] = (-0.05, 0.05)\n",
    "\n",
    "bounds[\"e_params\"] = e_bounds\n",
    "bounds[\"ln_dens_params\"] = ln_dens_bounds"
   ]
  },
  {
   "cell_type": "code",
   "execution_count": null,
   "id": "4e27231e",
   "metadata": {},
   "outputs": [],
   "source": [
    "vlim = dict(\n",
    "    norm=mpl.colors.LogNorm(vmax=3e4, vmin=1e-1), shading=\"auto\"\n",
    ")  # vmin=0, vmax=30)\n",
    "\n",
    "fig, axes = plt.subplots(\n",
    "    1, 2, figsize=(11, 5), sharex=True, sharey=True, constrained_layout=True\n",
    ")\n",
    "\n",
    "cs = axes[0].pcolormesh(data[\"vz\"], data[\"z\"], data[\"H\"], **vlim)\n",
    "\n",
    "cs = axes[1].pcolormesh(\n",
    "    data[\"vz\"],\n",
    "    data[\"z\"],\n",
    "    np.exp(model.ln_density(z=data[\"z\"], vz=data[\"vz\"], params=params0)),\n",
    "    **vlim\n",
    ")\n",
    "fig.colorbar(cs, ax=axes[:2])\n",
    "\n",
    "axes[0].set_title(\"data\")\n",
    "axes[1].set_title(\"initial model\")"
   ]
  },
  {
   "cell_type": "code",
   "execution_count": null,
   "id": "4cbf3801",
   "metadata": {},
   "outputs": [],
   "source": [
    "model.objective(params0, data['z'], data['vz'], data['H'])"
   ]
  },
  {
   "cell_type": "code",
   "execution_count": null,
   "id": "34f27e18",
   "metadata": {},
   "outputs": [],
   "source": [
    "res = model.optimize(\n",
    "    params0=params0, bounds=bounds, jaxopt_kwargs={\"tol\": 1e-10}, **data\n",
    ")\n",
    "res.state.success, res.state.iter_num"
   ]
  },
  {
   "cell_type": "code",
   "execution_count": null,
   "id": "5e2de73f",
   "metadata": {},
   "outputs": [],
   "source": [
    "res.params"
   ]
  },
  {
   "cell_type": "code",
   "execution_count": null,
   "id": "bdde338d",
   "metadata": {},
   "outputs": [],
   "source": [
    "fig, axes = oti.plot.plot_data_models_residual(data, model, params0, res.params)"
   ]
  },
  {
   "cell_type": "code",
   "execution_count": null,
   "id": "48bd5cf8",
   "metadata": {},
   "outputs": [],
   "source": [
    "bu = plt.get_cmap('Blues')\n",
    "gr = plt.get_cmap('Greens')\n",
    "tmpx = np.linspace(0.02, 1., 64)\n",
    "color_list = np.concatenate((bu(tmpx)[::-1], gr(tmpx)[1:]))\n",
    "BuGr = mpl.colors.ListedColormap(color_list, name=\"BuGr\")\n",
    "BuGr_r = mpl.colors.ListedColormap(color_list[::-1], name=\"BuGr_r\")"
   ]
  },
  {
   "cell_type": "code",
   "execution_count": null,
   "id": "7ff686b3",
   "metadata": {},
   "outputs": [],
   "source": [
    "cb_labelsize = 16\n",
    "\n",
    "data_z = data[\"z\"]\n",
    "data_vz = (data[\"vz\"] * u.kpc / u.Myr).to_value(u.km / u.s)\n",
    "factor = np.diff(data[\"z\"][:, 0])[0] * np.diff(data_vz[0])[0]\n",
    "\n",
    "fig, axes = plt.subplots(\n",
    "    1, 3, figsize=(12, 5.5), sharex=True, sharey=True, constrained_layout=True\n",
    ")\n",
    "\n",
    "norm = mpl.colors.LogNorm(vmin=0.5 / factor, vmax=2e2 / factor)\n",
    "cs = axes[0].pcolormesh(\n",
    "    data_vz, data_z, data[\"H\"] / factor, cmap=\"Blues\", norm=norm, rasterized=True\n",
    ")\n",
    "cb = fig.colorbar(cs, ax=axes[0], orientation=\"horizontal\")\n",
    "cb.set_label(\"number density\", fontsize=cb_labelsize)\n",
    "\n",
    "cs = axes[1].pcolormesh(\n",
    "    data_vz,\n",
    "    data_z,\n",
    "    np.exp(model.ln_density(data[\"z\"], data[\"vz\"], res.params)) / factor,\n",
    "    norm=norm,\n",
    "    cmap=\"Greens\",\n",
    "    rasterized=True,\n",
    ")\n",
    "cb = fig.colorbar(cs, ax=axes[1], orientation=\"horizontal\")\n",
    "cb.set_label(\"number density\", fontsize=cb_labelsize)\n",
    "\n",
    "cs = axes[2].pcolormesh(\n",
    "    data_vz,\n",
    "    data_z,\n",
    "    (data[\"H\"] - np.exp(model.ln_density(data[\"z\"], data[\"vz\"], res.params)))\n",
    "    / data[\"H\"],\n",
    "    cmap=BuGr_r,\n",
    "    vmin=-0.5,\n",
    "    vmax=0.5,\n",
    "    rasterized=True,\n",
    ")\n",
    "cb = fig.colorbar(cs, ax=axes[2], orientation=\"horizontal\")\n",
    "cb.set_label(\"(data$-$model) / data\", fontsize=cb_labelsize)\n",
    "\n",
    "# Titles\n",
    "axes[0].set_title(\"Simulated Data\", fontsize=20)\n",
    "axes[1].set_title(\"Optimized Model\", fontsize=20)\n",
    "axes[2].set_title(\"Fractional Residual\", fontsize=20)\n",
    "\n",
    "# Labels\n",
    "axes[0].set_ylabel(f\"$z$ [{u.kpc:latex_inline}]\")\n",
    "for ax in axes:\n",
    "    ax.set_xlabel(f\"$v_z$ [{u.km/u.s:latex_inline}]\")\n",
    "\n",
    "# Ticks\n",
    "axes[0].set_xticks(np.arange(-200, 200 + 1, 100))\n",
    "axes[0].set_xticks(np.arange(-200, 200 + 1, 50), minor=True)\n",
    "axes[1].set_yticks(np.arange(-3, 3 + 1e-3, 1))\n",
    "axes[1].set_yticks(np.arange(-3, 3 + 1e-3, 0.5), minor=True)\n",
    "\n",
    "for ax in axes:\n",
    "    ax.set_aspect(2 * np.pi / Omega.value)\n",
    "\n",
    "fig.savefig(\"../tex/figures/sho-data-model.pdf\", dpi=250)"
   ]
  },
  {
   "cell_type": "code",
   "execution_count": null,
   "id": "880b2d4f",
   "metadata": {},
   "outputs": [],
   "source": [
    "model.error_propagate_uncertainty(res.params, data)"
   ]
  },
  {
   "cell_type": "code",
   "execution_count": null,
   "id": "f8a0faf9",
   "metadata": {},
   "outputs": [],
   "source": [
    "_thz = np.linspace(0, 2 * np.pi, 256)\n",
    "\n",
    "fig, axes = plt.subplots(\n",
    "    1, 3, figsize=(15, 5), constrained_layout=True, sharex=True, sharey=True\n",
    ")\n",
    "\n",
    "_H = convolve(data[\"H\"], Gaussian2DKernel(2.0))\n",
    "_levels = np.exp(np.nanpercentile(np.log(_H[_H != 0]), np.linspace(0, 100.0, 16)))\n",
    "for ax in axes[:2]:\n",
    "    ax.contour(data[\"vz\"], data[\"z\"], _H, levels=_levels, colors=\"tab:blue\", zorder=-5)\n",
    "\n",
    "for _rz in np.linspace(1e-3, max_rzp.value**0.5, 16) ** 2:\n",
    "    tmp = np.array(\n",
    "        [model.get_rz_prime(_rz, ang, res.params[\"e_params\"]) for ang in _thz]\n",
    "    )\n",
    "    for ax in axes[1:]:\n",
    "        ax.plot(\n",
    "            tmp * np.sqrt(Omega.value) * np.cos(_thz),\n",
    "            tmp / np.sqrt(Omega.value) * np.sin(_thz),\n",
    "            marker=\"\",\n",
    "            color=\"k\",\n",
    "        )\n",
    "    for ax in [axes[0], axes[2]]:\n",
    "        ax.plot(\n",
    "            _rz * np.sqrt(Omega.value) * np.cos(_thz),\n",
    "            _rz / np.sqrt(Omega.value) * np.sin(_thz),\n",
    "            marker=\"\",\n",
    "            color=\"#aaaaaa\",\n",
    "            zorder=-10,\n",
    "        )"
   ]
  },
  {
   "cell_type": "code",
   "execution_count": null,
   "id": "6e5b1aaa",
   "metadata": {},
   "outputs": [],
   "source": [
    "plot_rz = np.linspace(0, 1.5, 301) * max_rzp\n",
    "\n",
    "fig, axes = plt.subplots(1, 2, figsize=(10, 5), constrained_layout=True)\n",
    "\n",
    "ax = axes[0]\n",
    "ax.plot(\n",
    "    plot_rz,\n",
    "    model.ln_dens_func(plot_rz, res.params[\"ln_dens_params\"][\"ln_dens_vals\"]),\n",
    "    marker=\"\",\n",
    ")\n",
    "ax.scatter(\n",
    "    ln_dens_knots,\n",
    "    model.ln_dens_func(ln_dens_knots, res.params[\"ln_dens_params\"][\"ln_dens_vals\"]),\n",
    ")\n",
    "# tmp, xe = np.histogram(rzs, bins=np.linspace(0, max_rzpish, 32))\n",
    "# xc = 0.5 * (xe[:-1] + xe[1:])\n",
    "# # TODO: how to plot density here\n",
    "# ax.plot(xc, np.log(tmp * np.diff(xe)))\n",
    "ax.set_xlabel(r\"$r_z$\")\n",
    "\n",
    "ax = axes[1]\n",
    "es = model.get_es(plot_rz, res.params[\"e_params\"])\n",
    "for m, ee in es.items():\n",
    "    ax.plot(plot_rz, ee, marker=\"\", label=f\"$m={m}$\")\n",
    "    ax.scatter(\n",
    "        e_knots[m], model.e_funcs[m](e_knots[m], res.params[\"e_params\"][m][\"vals\"])\n",
    "    )\n",
    "ax.legend(fontsize=16)\n",
    "ax.set_ylim(-0.1, 0.1)\n",
    "\n",
    "ax.axvline(max_rzp.value, color=\"tab:green\")\n",
    "ax.set_xlabel(r\"$\\tilde{r}_z$\")\n",
    "ax.set_ylabel(r\"$e_m(\\tilde{r}_z)$\")"
   ]
  },
  {
   "cell_type": "code",
   "execution_count": null,
   "id": "7fa775ee",
   "metadata": {},
   "outputs": [],
   "source": [
    "z_grid = np.linspace(-max_z, max_z, 128)\n",
    "\n",
    "p = res.params\n",
    "\n",
    "fig, axes = plt.subplots(1, 2, figsize=(10, 5), sharex=True, constrained_layout=True)\n",
    "\n",
    "true_az = (- Omega**2 * z_grid).to(galactic['acceleration'], u.dimensionless_angles())\n",
    "axes[0].plot(z_grid, true_az, marker='', zorder=100, color='k', ls='--')\n",
    "\n",
    "axes[0].plot(\n",
    "    z_grid,\n",
    "    model.get_az(z_grid, p),\n",
    "    marker='', alpha=0.25, color='tab:blue', zorder=10\n",
    ")\n",
    "\n",
    "axes[1].plot(\n",
    "    z_grid,\n",
    "    model.get_az(z_grid, p) - true_az,\n",
    "    marker='', alpha=0.25, color='tab:blue', zorder=10\n",
    ")\n",
    "    \n",
    "axes[0].set_ylim(- (max_z * Omega**2).value, (max_z * Omega.value**2).value)\n",
    "axes[1].set_ylim(- 0.1 * true_az.value.max(), 0.1 * true_az.value.max())"
   ]
  },
  {
   "cell_type": "code",
   "execution_count": null,
   "id": "d175dad3",
   "metadata": {},
   "outputs": [],
   "source": [
    "# plt.figure(figsize=(6, 5))\n",
    "# plt.scatter(\n",
    "#     pdata['vz'].value,\n",
    "#     pdata['z'].value,\n",
    "#     c=Jzs.value,\n",
    "#     s=2,\n",
    "# )\n",
    "# cb = plt.colorbar()\n",
    "# cb.set_label('$J_z$')\n",
    "\n",
    "# plt.xlim(zvz_bins['vz'].value.min(), zvz_bins['vz'].value.max())\n",
    "# plt.ylim(zvz_bins['z'].min(), zvz_bins['z'].max())"
   ]
  },
  {
   "cell_type": "code",
   "execution_count": null,
   "id": "27d1a0ad",
   "metadata": {},
   "outputs": [],
   "source": [
    "aaf = model.compute_action_angle(pdata['z'][::10], pdata['vz'][::10], res.params, N_grid=25)"
   ]
  },
  {
   "cell_type": "code",
   "execution_count": null,
   "id": "cbedd7ea",
   "metadata": {},
   "outputs": [],
   "source": [
    "ptstyle = dict(marker='o', mew=0, ms=2., ls='none', alpha=0.25)\n",
    "\n",
    "fig, axes = plt.subplots(1, 3, figsize=(15, 5), constrained_layout=True)\n",
    "\n",
    "axes[0].plot(Jzs[::10].value, aaf['J_z'].value, **ptstyle)\n",
    "axes[0].axline([0,0], [max_rzp.value**2, max_rzp.value**2], color='tab:blue', zorder=-10)\n",
    "\n",
    "axes[1].hist(aaf['Omega_z'].value[::10], bins=np.linspace(0.8, 1.2, 128) * Omega.value)\n",
    "axes[1].axvline(Omega.value, color='tab:blue', zorder=-10)\n",
    "axes[1].axvline(np.exp(res.params['ln_Omega']), color='tab:red', zorder=10)\n",
    "\n",
    "axes[2].plot(np.cos(thzs[::10]), np.cos(aaf['theta_z']), **ptstyle)\n",
    "axes[2].axline([0,0], [1,1], color='tab:blue', zorder=-10)"
   ]
  },
  {
   "cell_type": "markdown",
   "id": "84165ee1",
   "metadata": {},
   "source": [
    "---\n",
    "\n",
    "## Bootstrap"
   ]
  },
  {
   "cell_type": "code",
   "execution_count": null,
   "id": "246c6d4d",
   "metadata": {},
   "outputs": [],
   "source": [
    "def resample_data(z, vz, bins, K=32, seed=42):\n",
    "    rng = np.random.default_rng(seed)\n",
    "\n",
    "    datas = []\n",
    "    for k in range(K):\n",
    "        idx = rng.choice(z.size, size=z.size, replace=True)\n",
    "        data = oti.DensityOrbitModel.get_data_im(z=z[idx], vz=vz[idx], bins=bins)\n",
    "        datas.append(data)\n",
    "\n",
    "    return datas"
   ]
  },
  {
   "cell_type": "code",
   "execution_count": null,
   "id": "d9c8d0cc",
   "metadata": {},
   "outputs": [],
   "source": [
    "trial_datas = resample_data(pdata['z'], pdata['vz'], bins=zvz_bins, K=128)"
   ]
  },
  {
   "cell_type": "code",
   "execution_count": null,
   "id": "5eb28eff",
   "metadata": {},
   "outputs": [],
   "source": [
    "opt_pars = []\n",
    "opt_states = []\n",
    "for n, trial_data in enumerate(trial_datas):\n",
    "    tmp = model.optimize(\n",
    "        params0=params0, bounds=bounds, jaxopt_kwargs={\"tol\": 1e-8}, **trial_data\n",
    "    )\n",
    "    opt_pars.append(tmp.params)\n",
    "    opt_states.append(tmp.state)\n",
    "    \n",
    "    if not tmp.state.success:\n",
    "        print(f\"trial {n} failed\")"
   ]
  },
  {
   "cell_type": "code",
   "execution_count": null,
   "id": "e79ba753",
   "metadata": {},
   "outputs": [],
   "source": [
    "for p in opt_pars:\n",
    "    plt.plot(p['e_params'][2]['vals'])"
   ]
  },
  {
   "cell_type": "code",
   "execution_count": null,
   "id": "dd524135",
   "metadata": {},
   "outputs": [],
   "source": [
    "d = trial_datas[1]\n",
    "p = opt_pars[1]\n",
    "\n",
    "_thz = np.linspace(0, 2 * np.pi, 256)\n",
    "\n",
    "fig, axes = plt.subplots(\n",
    "    1, 3, figsize=(15, 5), constrained_layout=True, sharex=True, sharey=True\n",
    ")\n",
    "\n",
    "_H = convolve(d[\"H\"], Gaussian2DKernel(2.0))\n",
    "_levels = np.exp(np.nanpercentile(np.log(_H[_H != 0]), np.linspace(0, 100.0, 16)))\n",
    "for ax in axes[:2]:\n",
    "    ax.contour(d[\"vz\"], d[\"z\"], _H, levels=_levels, colors=\"tab:blue\", zorder=-5)\n",
    "\n",
    "for _rz in np.linspace(1e-3, max_rzp.value**0.5, 16) ** 2:\n",
    "    tmp = np.array(\n",
    "        [model.get_rz_prime(_rz, ang, p[\"e_params\"]) for ang in _thz]\n",
    "    )\n",
    "    for ax in axes[1:]:\n",
    "        ax.plot(\n",
    "            tmp * np.sqrt(Omega.value) * np.cos(_thz),\n",
    "            tmp / np.sqrt(Omega.value) * np.sin(_thz),\n",
    "            marker=\"\",\n",
    "            color=\"k\",\n",
    "        )\n",
    "    for ax in [axes[0], axes[2]]:\n",
    "        ax.plot(\n",
    "            _rz * np.sqrt(Omega.value) * np.cos(_thz),\n",
    "            _rz / np.sqrt(Omega.value) * np.sin(_thz),\n",
    "            marker=\"\",\n",
    "            color=\"#aaaaaa\",\n",
    "            zorder=-10,\n",
    "        )"
   ]
  },
  {
   "cell_type": "code",
   "execution_count": null,
   "id": "ba6a6cd9",
   "metadata": {},
   "outputs": [],
   "source": [
    "for tdata, p in zip(trial_datas, opt_pars[:4]):\n",
    "    fig, axes = oti.plot.plot_data_models_residual(tdata, model, params0, p)"
   ]
  },
  {
   "cell_type": "code",
   "execution_count": null,
   "id": "bbec8562",
   "metadata": {},
   "outputs": [],
   "source": [
    "plot_rz = np.linspace(0, 1.2 * max_rzp.value, 301)\n",
    "\n",
    "_colors = ['tab:blue', 'tab:orange', 'tab:green']\n",
    "for p in opt_pars:\n",
    "    es = model.get_es(plot_rz, p['e_params'])\n",
    "    for color, (m, ee) in zip(_colors, es.items()):\n",
    "        plt.plot(plot_rz, ee, marker='', alpha=0.25, color=color)\n",
    "\n",
    "plt.axvline(max_rzp.value, color='tab:green')\n",
    "plt.xlabel(r\"$\\tilde{r}_z$\")\n",
    "plt.ylabel(r\"$e_m(\\tilde{r}_z)$\")"
   ]
  },
  {
   "cell_type": "code",
   "execution_count": null,
   "id": "9fad74d1",
   "metadata": {},
   "outputs": [],
   "source": [
    "eval_z = 1.\n",
    "true_az = - Omega**2 * eval_z\n",
    "azs = np.zeros(len(opt_pars))\n",
    "for n, p in enumerate(opt_pars):\n",
    "    azs[n] = model.get_az([eval_z] * u.kpc, p).value\n",
    "\n",
    "true_az.value, np.mean(azs), np.std(azs), np.mean(azs) - true_az.value"
   ]
  },
  {
   "cell_type": "code",
   "execution_count": null,
   "id": "cc944f38",
   "metadata": {},
   "outputs": [],
   "source": [
    "z_grid = np.linspace(-max_z.value, max_z.value, 128)\n",
    "\n",
    "fig, axes = plt.subplots(1, 2, figsize=(10, 5), sharex=True, constrained_layout=True)\n",
    "\n",
    "true_az = - Omega**2 * z_grid\n",
    "axes[0].plot(z_grid, true_az, marker='', zorder=100, color='k', ls='--')\n",
    "\n",
    "for p in opt_pars:\n",
    "    axes[0].plot(\n",
    "        z_grid,\n",
    "        model.get_az(z_grid * u.kpc, p),\n",
    "        marker='', alpha=0.25, color='tab:blue', zorder=10\n",
    "    )\n",
    "    \n",
    "    axes[1].plot(\n",
    "        z_grid,\n",
    "        (model.get_az(z_grid * u.kpc, p).value - true_az.value) / true_az.value,\n",
    "        marker='', alpha=0.25, color='tab:blue', zorder=10\n",
    "    )\n",
    "    \n",
    "axes[0].set_ylim(- (max_z * Omega**2).value, (max_z * Omega**2).value)\n",
    "axes[1].set_ylim(-0.2, 0.2)"
   ]
  },
  {
   "cell_type": "code",
   "execution_count": null,
   "id": "672ac8a8",
   "metadata": {},
   "outputs": [],
   "source": [
    "for p in opt_pars:\n",
    "    aaf = model.compute_action_angle(pdata['z'], pdata['vz'], p)\n",
    "    break"
   ]
  },
  {
   "cell_type": "code",
   "execution_count": null,
   "id": "e02239b2",
   "metadata": {},
   "outputs": [],
   "source": [
    "ptstyle = dict(marker='o', mew=0, ms=2., ls='none', alpha=0.25)\n",
    "\n",
    "fig, axes = plt.subplots(1, 3, figsize=(15, 5), constrained_layout=True)\n",
    "\n",
    "axes[0].plot(Jzs[::10].value, aaf['J_z'].value, **ptstyle)\n",
    "axes[0].axline([0,0], [max_rzp.value**2, max_rzp.value**2], color='tab:blue', zorder=-10)\n",
    "\n",
    "axes[1].hist(aaf['Omega_z'].value[::10], bins=np.linspace(0.8, 1.2, 128) * Omega.value)\n",
    "axes[1].axvline(Omega.value, color='tab:blue', zorder=-10)\n",
    "\n",
    "axes[2].plot(np.cos(thzs[::10]), np.cos(aaf['theta_z']), **ptstyle)\n",
    "axes[2].axline([0,0], [1,1], color='tab:blue', zorder=-10)"
   ]
  },
  {
   "cell_type": "code",
   "execution_count": null,
   "id": "e53df17b",
   "metadata": {},
   "outputs": [],
   "source": []
  }
 ],
 "metadata": {
  "kernelspec": {
   "display_name": "apw-py310",
   "language": "python",
   "name": "apw-py310"
  },
  "language_info": {
   "codemirror_mode": {
    "name": "ipython",
    "version": 3
   },
   "file_extension": ".py",
   "mimetype": "text/x-python",
   "name": "python",
   "nbconvert_exporter": "python",
   "pygments_lexer": "ipython3",
   "version": "3.10.8"
  },
  "toc": {
   "base_numbering": 1,
   "nav_menu": {},
   "number_sections": true,
   "sideBar": true,
   "skip_h1_title": false,
   "title_cell": "Table of Contents",
   "title_sidebar": "Contents",
   "toc_cell": false,
   "toc_position": {},
   "toc_section_display": true,
   "toc_window_display": false
  }
 },
 "nbformat": 4,
 "nbformat_minor": 5
}
