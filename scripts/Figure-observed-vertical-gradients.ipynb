{
 "cells": [
  {
   "cell_type": "code",
   "execution_count": null,
   "id": "15c3e6f2",
   "metadata": {},
   "outputs": [],
   "source": [
    "import pathlib\n",
    "\n",
    "from astropy.constants import G\n",
    "import astropy.table as at\n",
    "from astropy.convolution import convolve, Gaussian2DKernel\n",
    "import astropy.units as u\n",
    "import matplotlib as mpl\n",
    "import matplotlib.pyplot as plt\n",
    "\n",
    "%matplotlib inline\n",
    "import numpy as np\n",
    "import gala.dynamics as gd\n",
    "from gala.units import galactic\n",
    "from scipy.ndimage import gaussian_filter\n",
    "from scipy.stats import binned_statistic_2d\n",
    "from scipy.interpolate import interp1d\n",
    "import cmasher as cmr\n",
    "\n",
    "from pyia import GaiaData\n",
    "\n",
    "from config import galcen_frame, R0, vc0"
   ]
  },
  {
   "cell_type": "code",
   "execution_count": null,
   "id": "557519f7",
   "metadata": {},
   "outputs": [],
   "source": [
    "figure_path = pathlib.Path(\"../tex/figures/\").resolve()"
   ]
  },
  {
   "cell_type": "code",
   "execution_count": null,
   "id": "b6f3b7d8",
   "metadata": {},
   "outputs": [],
   "source": [
    "tmp1 = at.Table.read(\"/mnt/home/apricewhelan/data/APOGEE/DR17/allStar-dr17-synspec-gaiadr3-gaiasourcelite.fits\")\n",
    "tmp2 = at.Table.read(\"/mnt/home/apricewhelan/data/APOGEE/DR17/allStarLite-dr17-synspec_rev1.fits\")\n",
    "apogee = at.join(tmp2, tmp1, keys=\"APOGEE_ID\")\n",
    "apogee = at.unique(apogee, keys=\"APOGEE_ID\")\n",
    "apogee = GaiaData(apogee)"
   ]
  },
  {
   "cell_type": "code",
   "execution_count": null,
   "id": "84b68750",
   "metadata": {},
   "outputs": [],
   "source": [
    "apogee = apogee.filter(\n",
    "    # LOGG=(0.5, 3),\n",
    "    LOGG=(1.5, 3),\n",
    "    TEFF=(3000, 5500),\n",
    "    FE_H=(-0.8, 0.5),\n",
    "    MG_FE=(-0.2, 0.22),\n",
    "    parallax=(0.*u.mas, None)\n",
    ")"
   ]
  },
  {
   "cell_type": "code",
   "execution_count": null,
   "id": "ebf2e8dc",
   "metadata": {},
   "outputs": [],
   "source": [
    "# plt.hist2d(\n",
    "#     apogee['FE_H'],\n",
    "#     apogee['MG_FE'],\n",
    "#     bins=128,\n",
    "#     norm=mpl.colors.LogNorm()\n",
    "# );\n",
    "# plt.axvline(-0.8)\n",
    "# plt.axhline(0.22)\n",
    "\n",
    "plt.hist2d(\n",
    "    apogee['MG_FE'] + apogee['FE_H'],\n",
    "    -apogee['MG_FE'],\n",
    "    bins=128,\n",
    "    norm=mpl.colors.LogNorm()\n",
    ");\n",
    "plt.axvline(-0.8)\n",
    "plt.axhline(0.22)"
   ]
  },
  {
   "cell_type": "code",
   "execution_count": null,
   "id": "ebdfd35d",
   "metadata": {},
   "outputs": [],
   "source": [
    "c_ap = apogee.get_skycoord(radial_velocity=apogee.VHELIO_AVG*u.km/u.s)\n",
    "galcen_ap = c_ap.transform_to(galcen_frame)\n",
    "w_ap = gd.PhaseSpacePosition(galcen_ap.data)"
   ]
  },
  {
   "cell_type": "code",
   "execution_count": null,
   "id": "7babba77",
   "metadata": {},
   "outputs": [],
   "source": [
    "# Lz_sun = R0*vc0\n",
    "Lz_sun = R0 * 229*u.km/u.s\n",
    "Lz = np.abs(w_ap.angular_momentum()[2]).to(u.kpc*u.km/u.s)\n",
    "Lz_mask = np.abs(Lz - Lz_sun) < 0.15 * Lz_sun\n",
    "Lz_mask.sum()"
   ]
  },
  {
   "cell_type": "code",
   "execution_count": null,
   "id": "dbda4560",
   "metadata": {},
   "outputs": [],
   "source": [
    "bins = (\n",
    "    np.linspace(-100, 100, 128),\n",
    "    np.linspace(-2.5, 2.5, 128)\n",
    ")\n",
    "\n",
    "stat = binned_statistic_2d(\n",
    "    galcen_ap.v_z.to_value(u.km/u.s)[Lz_mask],\n",
    "    galcen_ap.z.to_value(u.kpc)[Lz_mask],\n",
    "    apogee.MG_FE[Lz_mask],\n",
    "    bins=bins,\n",
    "    statistic='mean'\n",
    ")\n",
    "\n",
    "counts, *_ = np.histogram2d(\n",
    "    galcen_ap.v_z.to_value(u.km/u.s)[Lz_mask],\n",
    "    galcen_ap.z.to_value(u.kpc)[Lz_mask],\n",
    "    bins=bins\n",
    ")"
   ]
  },
  {
   "cell_type": "code",
   "execution_count": null,
   "id": "ee4cd4b4",
   "metadata": {},
   "outputs": [],
   "source": [
    "zmax_mask = Lz_mask & (np.abs(galcen_ap.v_z) < 10 * u.km / u.s)\n",
    "print(zmax_mask.sum())\n",
    "\n",
    "xlim = (0.05, 2.5)\n",
    "ylim = (-0.15, 0.22)\n",
    "\n",
    "hline_val = np.nanmedian(apogee.MG_FE[zmax_mask & (np.abs(galcen_ap.z) < 200 * u.pc)])\n",
    "\n",
    "fig, axes = plt.subplots(1, 2, figsize=(10.5, 6.5), constrained_layout=True)\n",
    "\n",
    "ax = axes[0]\n",
    "\n",
    "cs = ax.pcolormesh(\n",
    "    stat.x_edge,\n",
    "    stat.y_edge,\n",
    "    stat.statistic.T,\n",
    "    cmap='magma',\n",
    "    vmin=-0.05,\n",
    "    vmax=ylim[1],\n",
    "    rasterized=True\n",
    ")\n",
    "# for val in [-10, 10.]:\n",
    "#     ax.axvline(val, color='#aaaaaa', alpha=0.75, ls='-')\n",
    "\n",
    "ax.set_xlabel(f\"vertical velocity, $v_z$ [{u.km/u.s:latex_inline}]\")\n",
    "ax.set_ylabel(f\"vertical position, $z$ [{u.kpc:latex_inline}]\")\n",
    "    \n",
    "cb = fig.colorbar(cs, ax=ax, orientation='horizontal')\n",
    "cb.set_label(r\"mean $[{\\rm Mg}/{\\rm Fe}]$\")\n",
    "\n",
    "# ---\n",
    "\n",
    "ax = axes[1]\n",
    "\n",
    "H, xe, ye = np.histogram2d(\n",
    "    np.abs(galcen_ap.z.to_value(u.kpc)[zmax_mask]),\n",
    "    apogee.MG_FE[zmax_mask],\n",
    "    bins=(np.geomspace(*xlim, 51), np.linspace(*ylim, 51)),\n",
    ")\n",
    "ax.pcolormesh(xe, ye, H.T / H.T.sum(axis=0)[None], vmax=0.08, cmap=\"Greys\", rasterized=True)\n",
    "\n",
    "grid = np.linspace(*xlim, 256)\n",
    "slope = (0.17 - hline_val) / (2.5 - 0.15)\n",
    "offset = hline_val - slope * 0.15\n",
    "ax.plot(\n",
    "    grid,\n",
    "    slope * grid + offset,\n",
    "    ls=\"--\",\n",
    "    marker='',\n",
    "    alpha=0.7,\n",
    "    color=\"tab:orange\",\n",
    "    lw=1.5,\n",
    "    label=r\"$[{\\rm Mg}/{\\rm Fe}] = \" + f\"{slope:0.3f}\\,\" + r\"z_{\\rm max}\" + f\" + {offset:0.3f}$\"\n",
    ")\n",
    "\n",
    "ax.legend(loc='lower right', fontsize=15)\n",
    "ax.set_xlim(xlim)\n",
    "ax.set_xscale(\"log\")\n",
    "ax.set_ylim(ylim)\n",
    "\n",
    "ax.set_xlabel(r\"proxy for $z_{\\rm max}$ \" + f\"[{u.kpc:latex_inline}]\")\n",
    "ax.set_ylabel(r\"[Mg/Fe]\")\n",
    "\n",
    "fig.suptitle(\"Example Element Abundance Gradient\\nin the Vertical Phase Space\", fontsize=24)\n",
    "\n",
    "fig.savefig(figure_path / \"mgfe-zvz.pdf\", dpi=300)"
   ]
  },
  {
   "cell_type": "markdown",
   "id": "e1929e7c",
   "metadata": {},
   "source": [
    "---"
   ]
  },
  {
   "cell_type": "code",
   "execution_count": null,
   "id": "229c3b9a",
   "metadata": {},
   "outputs": [],
   "source": [
    "# plt.pcolormesh(\n",
    "#     stat.x_edge,\n",
    "#     stat.y_edge,\n",
    "#     convolve(stat.statistic.T, Gaussian2DKernel(3.0), boundary=\"extend\"),\n",
    "#     vmin=0,\n",
    "#     vmax=0.15,\n",
    "# )\n",
    "\n",
    "nsigma = 3.2\n",
    "print(nsigma * np.diff(stat.x_edge)[0], nsigma * np.diff(stat.y_edge)[0])\n",
    "\n",
    "H = stat.statistic.T.copy()\n",
    "H[counts.T < 8] = np.nan\n",
    "\n",
    "plt.contourf(\n",
    "    0.5 * (stat.x_edge[:-1] + stat.x_edge[1:]),\n",
    "    0.5 * (stat.y_edge[:-1] + stat.y_edge[1:]),\n",
    "    convolve(H, Gaussian2DKernel(nsigma), boundary=\"extend\"),\n",
    "#     levels=np.linspace(0, 0.15, 16)\n",
    "    levels=np.geomspace(0.015, 0.1, 12),\n",
    "    cmap='Blues_r'\n",
    ")\n",
    "plt.colorbar()"
   ]
  },
  {
   "cell_type": "code",
   "execution_count": null,
   "id": "702a0861",
   "metadata": {},
   "outputs": [],
   "source": []
  },
  {
   "cell_type": "code",
   "execution_count": null,
   "id": "b536d79f",
   "metadata": {},
   "outputs": [],
   "source": []
  },
  {
   "cell_type": "markdown",
   "id": "469ce564",
   "metadata": {},
   "source": [
    "---"
   ]
  },
  {
   "cell_type": "code",
   "execution_count": null,
   "id": "0c5f9d61",
   "metadata": {},
   "outputs": [],
   "source": [
    "# xiang = GaiaData(\"/mnt/home/apricewhelan/data/misc/XiangRix2022-subgiants-joined-gaiadr3.fits\")\n",
    "xiang = at.Table.read(\"/mnt/home/apricewhelan/data/misc/XiangRix2022-subgiants-fullparam.fits\")\n",
    "for col in xiang.colnames:\n",
    "    xiang.rename_column(col, col.lower())\n",
    "xiang = GaiaData(xiang)"
   ]
  },
  {
   "cell_type": "code",
   "execution_count": null,
   "id": "07df642d",
   "metadata": {},
   "outputs": [],
   "source": [
    "# Gaia RVs\n",
    "# xiang = xiang.filter(parallax=(0*u.mas, None), radial_velocity=(-900, 900)*u.km/u.s)\n",
    "\n",
    "# LAMOST RVs\n",
    "xiang = xiang.filter(\n",
    "    parallax=(0 * u.mas, None), \n",
    "    vlos=(-900, 900),\n",
    "    feh=(-0.8, 0.5),\n",
    "    alpha_fe=(-0.1, 0.15)\n",
    ")"
   ]
  },
  {
   "cell_type": "code",
   "execution_count": null,
   "id": "e8a782bc",
   "metadata": {},
   "outputs": [],
   "source": [
    "plt.hist2d(\n",
    "    xiang.feh,\n",
    "    xiang.alpha_fe,\n",
    "    bins=128,\n",
    "    norm=mpl.colors.LogNorm()\n",
    ");\n",
    "plt.axvline(-0.8)\n",
    "plt.axhline(0.2)"
   ]
  },
  {
   "cell_type": "code",
   "execution_count": null,
   "id": "fdb17b56",
   "metadata": {},
   "outputs": [],
   "source": [
    "c_xiang = xiang.get_skycoord(radial_velocity=xiang.vlos * u.km/u.s)"
   ]
  },
  {
   "cell_type": "code",
   "execution_count": null,
   "id": "c083dcde",
   "metadata": {},
   "outputs": [],
   "source": [
    "galcen_xiang = c_xiang.transform_to(galcen_frame)\n",
    "w_xiang = gd.PhaseSpacePosition(galcen_xiang.data)"
   ]
  },
  {
   "cell_type": "code",
   "execution_count": null,
   "id": "aef35471",
   "metadata": {},
   "outputs": [],
   "source": [
    "Lz = np.abs(w_xiang.angular_momentum()[2]).to(u.kpc*u.km/u.s)\n",
    "Lz_mask_xiang = np.abs(Lz - Lz_sun) < 0.2 * Lz_sun\n",
    "Lz_mask_xiang.sum()"
   ]
  },
  {
   "cell_type": "code",
   "execution_count": null,
   "id": "265de6e1",
   "metadata": {},
   "outputs": [],
   "source": [
    "bins = (np.linspace(-100, 100, 128), np.linspace(-2.5, 2.5, 128))\n",
    "\n",
    "stat_x_age = binned_statistic_2d(\n",
    "    galcen_xiang.v_z.to_value(u.km / u.s)[Lz_mask_xiang],\n",
    "    galcen_xiang.z.to_value(u.kpc)[Lz_mask_xiang],\n",
    "    xiang.age[Lz_mask_xiang],\n",
    "    bins=bins,\n",
    ")\n",
    "\n",
    "stat_x_alpha = binned_statistic_2d(\n",
    "    galcen_xiang.v_z.to_value(u.km / u.s)[Lz_mask_xiang],\n",
    "    galcen_xiang.z.to_value(u.kpc)[Lz_mask_xiang],\n",
    "    xiang.alpha_fe[Lz_mask_xiang],\n",
    "    bins=bins,\n",
    ")"
   ]
  },
  {
   "cell_type": "code",
   "execution_count": null,
   "id": "d8dd45b1",
   "metadata": {},
   "outputs": [],
   "source": [
    "plt.pcolormesh(\n",
    "    stat_x_age.x_edge,\n",
    "    stat_x_age.y_edge,\n",
    "    convolve(stat_x_age.statistic.T, Gaussian2DKernel(1.5), boundary=\"extend\"),\n",
    "    vmin=0,\n",
    "    vmax=14,\n",
    ")\n",
    "\n",
    "# plt.contourf(\n",
    "#     0.5 * (stat_x_age.x_edge[:-1] + stat_x_age.x_edge[1:]),\n",
    "#     0.5 * (stat_x_age.y_edge[:-1] + stat_x_age.y_edge[1:]),\n",
    "#     convolve(stat_x_age.statistic.T, Gaussian2DKernel(2.0), boundary=\"extend\"),\n",
    "#     levels=np.linspace(0, 14, 12)\n",
    "# )"
   ]
  },
  {
   "cell_type": "code",
   "execution_count": null,
   "id": "d5f3fb38",
   "metadata": {},
   "outputs": [],
   "source": [
    "fig, axes = plt.subplots(1, 2, figsize=(12, 4.6), constrained_layout=True)\n",
    "\n",
    "cs = axes[0].pcolormesh(stat_x.x_edge, stat_x.y_edge, stat_x_alpha.statistic.T, vmin=0, vmax=0.15)\n",
    "cb = fig.colorbar(cs, ax=axes[0])\n",
    "cb.set_label(r\"[$\\alpha/{\\rm Fe}$]\")\n",
    "\n",
    "cs = axes[1].pcolormesh(stat_x.x_edge, stat_x.y_edge, stat_x_age.statistic.T, vmin=0, vmax=12)\n",
    "cb = fig.colorbar(cs, ax=axes[1])\n",
    "cb.set_label(\"age [Gyr]\")\n",
    "\n",
    "axes[0].set_ylabel(f\"$z$ [{u.kpc:latex_inline}]\")\n",
    "for ax in axes:\n",
    "    ax.set_xlabel(f\"$v_z$ [{u.km/u.s:latex_inline}]\")"
   ]
  },
  {
   "cell_type": "code",
   "execution_count": null,
   "id": "6f400d3f",
   "metadata": {},
   "outputs": [],
   "source": []
  },
  {
   "cell_type": "code",
   "execution_count": null,
   "id": "d26c3941",
   "metadata": {},
   "outputs": [],
   "source": []
  },
  {
   "cell_type": "code",
   "execution_count": null,
   "id": "9fb06196",
   "metadata": {},
   "outputs": [],
   "source": []
  }
 ],
 "metadata": {
  "kernelspec": {
   "display_name": "apw-py310",
   "language": "python",
   "name": "apw-py310"
  },
  "language_info": {
   "codemirror_mode": {
    "name": "ipython",
    "version": 3
   },
   "file_extension": ".py",
   "mimetype": "text/x-python",
   "name": "python",
   "nbconvert_exporter": "python",
   "pygments_lexer": "ipython3",
   "version": "3.10.8"
  },
  "toc": {
   "base_numbering": 1,
   "nav_menu": {},
   "number_sections": true,
   "sideBar": true,
   "skip_h1_title": false,
   "title_cell": "Table of Contents",
   "title_sidebar": "Contents",
   "toc_cell": false,
   "toc_position": {},
   "toc_section_display": true,
   "toc_window_display": false
  }
 },
 "nbformat": 4,
 "nbformat_minor": 5
}
