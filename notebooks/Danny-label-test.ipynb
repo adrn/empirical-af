{
 "cells": [
  {
   "cell_type": "code",
   "execution_count": null,
   "id": "4198224b",
   "metadata": {},
   "outputs": [],
   "source": [
    "import astropy.coordinates as coord\n",
    "import astropy.table as at\n",
    "import astropy.units as u\n",
    "import matplotlib as mpl\n",
    "import matplotlib.pyplot as plt\n",
    "\n",
    "%matplotlib inline\n",
    "import numpy as np\n",
    "import scipy.interpolate as sci\n",
    "\n",
    "from gala.units import galactic\n",
    "\n",
    "import jax\n",
    "\n",
    "jax.config.update(\"jax_enable_x64\", True)\n",
    "import jax.numpy as jnp\n",
    "\n",
    "from empaf import LabelOrbitModel\n",
    "from empaf.plot import plot_data_models_label_residual"
   ]
  },
  {
   "cell_type": "code",
   "execution_count": null,
   "id": "743f51a0",
   "metadata": {},
   "outputs": [],
   "source": [
    "tbl = at.QTable()\n",
    "tbl[\"z\"] = np.load(\"../test-data/ztest.npy\") * u.kpc\n",
    "tbl[\"vz\"] = np.load(\"../test-data/vztest.npy\") * u.kpc / u.Gyr\n",
    "tbl[\"label\"] = np.load(\"../test-data/mgtest.npy\")"
   ]
  },
  {
   "cell_type": "code",
   "execution_count": null,
   "id": "a5884b16",
   "metadata": {},
   "outputs": [],
   "source": [
    "init_model = LabelOrbitModel(\n",
    "    label_knots=jnp.linspace(0, np.sqrt(1.5), 5) ** 2,\n",
    "    e_knots={\n",
    "        2: jnp.linspace(0, np.sqrt(3), 11) ** 2,\n",
    "        4: jnp.linspace(0, np.sqrt(3), 5) ** 2,\n",
    "        # 6: jnp.array([0., 1.]),\n",
    "    },\n",
    "    e_signs={4: -1.0},\n",
    "    units=galactic,\n",
    ")"
   ]
  },
  {
   "cell_type": "code",
   "execution_count": null,
   "id": "f8036720",
   "metadata": {},
   "outputs": [],
   "source": [
    "im_bins = {\"z\": np.linspace(-2.0, 2.0, 91), \"vz\": np.linspace(-0.075, 0.075, 91)}\n",
    "data_H = init_model.get_data_im(tbl[\"z\"], tbl[\"vz\"], tbl[\"label\"], im_bins)"
   ]
  },
  {
   "cell_type": "code",
   "execution_count": null,
   "id": "75cd4ee9",
   "metadata": {},
   "outputs": [],
   "source": [
    "fig, axes = plt.subplots(\n",
    "    1, 2, figsize=(13, 5), sharex=True, sharey=True, constrained_layout=True\n",
    ")\n",
    "cs = axes[0].pcolormesh(data_H[\"vz\"], data_H[\"z\"], data_H[\"label_stat\"])\n",
    "axes[0].axvline(0.0, alpha=0.1)\n",
    "axes[0].axhline(0.0, alpha=0.1)\n",
    "fig.colorbar(cs, ax=axes[0])\n",
    "\n",
    "cs = axes[1].pcolormesh(data_H[\"vz\"], data_H[\"z\"], data_H[\"label_stat_err\"])\n",
    "fig.colorbar(cs, ax=axes[1])"
   ]
  },
  {
   "cell_type": "code",
   "execution_count": null,
   "id": "0b6fb89c",
   "metadata": {},
   "outputs": [],
   "source": [
    "model0 = init_model.get_params_init(\n",
    "    data_H[\"z\"] * u.kpc, data_H[\"vz\"] * u.kpc / u.Myr, data_H[\"label_stat\"]\n",
    ")\n",
    "model = model0.copy()"
   ]
  },
  {
   "cell_type": "code",
   "execution_count": null,
   "id": "8e8828ff",
   "metadata": {},
   "outputs": [],
   "source": [
    "bounds_l = {\n",
    "    \"vz0\": -0.1,\n",
    "    \"z0\": -0.5,\n",
    "    \"label_vals\": np.full_like(model0.state[\"label_vals\"], -5.0),\n",
    "    \"ln_Omega\": -5.0,\n",
    "    \"e_vals\": {},\n",
    "}\n",
    "\n",
    "bounds_r = {\n",
    "    \"vz0\": 0.1,\n",
    "    \"z0\": 0.5,\n",
    "    \"label_vals\": np.full_like(model0.state[\"label_vals\"], 5.0),\n",
    "    \"ln_Omega\": 0.0,\n",
    "    \"e_vals\": {},\n",
    "}\n",
    "\n",
    "for m in model0.e_knots:\n",
    "    bounds_l[\"e_vals\"][m] = np.full_like(model0.state[\"e_vals\"][m], 0.0)\n",
    "    bounds_r[\"e_vals\"][m] = np.full_like(model0.state[\"e_vals\"][m], 0.3)"
   ]
  },
  {
   "cell_type": "code",
   "execution_count": null,
   "id": "3c1efa24",
   "metadata": {},
   "outputs": [],
   "source": [
    "clean_mask = np.isfinite(data_H[\"label_stat\"]) & (data_H[\"label_stat_err\"] > 0)\n",
    "clean_data = {k: v[clean_mask] for k, v in data_H.items()}"
   ]
  },
  {
   "cell_type": "code",
   "execution_count": null,
   "id": "fd86695f",
   "metadata": {},
   "outputs": [],
   "source": [
    "res = model.optimize(\n",
    "    **clean_data,\n",
    "    bounds=(bounds_l, bounds_r),\n",
    "    jaxopt_kwargs=dict(options=dict(maxls=1000, disp=False))\n",
    ")\n",
    "res.state"
   ]
  },
  {
   "cell_type": "code",
   "execution_count": null,
   "id": "ab86cd17",
   "metadata": {},
   "outputs": [],
   "source": [
    "res.params"
   ]
  },
  {
   "cell_type": "code",
   "execution_count": null,
   "id": "75a44be8",
   "metadata": {},
   "outputs": [],
   "source": [
    "plot_data_models_label_residual(data_H, model0, model);"
   ]
  },
  {
   "cell_type": "code",
   "execution_count": null,
   "id": "7e281e64",
   "metadata": {},
   "outputs": [],
   "source": [
    "model.label(0.0, 0.0)"
   ]
  },
  {
   "cell_type": "code",
   "execution_count": null,
   "id": "0ac88356",
   "metadata": {},
   "outputs": [],
   "source": [
    "plot_rz = np.linspace(0, 1, 51)\n",
    "es = model.get_es(plot_rz)\n",
    "model_label = model.get_label(plot_rz)\n",
    "tmp_aaf = model.get_aaf(plot_rz * u.kpc, np.zeros_like(plot_rz) * u.km / u.s, 101)\n",
    "sqrtJz = np.sqrt(tmp_aaf[\"J_z\"].value)\n",
    "\n",
    "fig, axes = plt.subplots(1, 3, figsize=(16, 5), constrained_layout=True, sharex=True)\n",
    "\n",
    "ax = axes[0]\n",
    "ax.plot(sqrtJz, tmp_aaf[\"Omega_z\"].value, zorder=100)\n",
    "ax.set_ylabel(r\"$\\Omega_z$ \" + f\"[{tmp_aaf['Omega_z'].unit:latex_inline}]\")\n",
    "ax.axhline(model.state[\"nu\"], color=\"tab:green\", ls=\"--\", alpha=0.4)\n",
    "\n",
    "for n in es:\n",
    "    axes[1].plot(sqrtJz, es[n], label=f\"$e_{n}$\")\n",
    "axes[2].plot(sqrtJz, model_label)\n",
    "\n",
    "axes[1].legend()\n",
    "\n",
    "for ax in axes:\n",
    "    ax.set_xlabel(r\"$\\sqrt{J_z}'$\")"
   ]
  },
  {
   "cell_type": "code",
   "execution_count": null,
   "id": "77b4e9a1",
   "metadata": {},
   "outputs": [],
   "source": [
    "from astropy.constants import G\n",
    "\n",
    "nu = model.state[\"nu\"] / model.units[\"time\"]\n",
    "(nu**2 / G).to(u.Msun / u.pc**3) / (4 * np.pi)"
   ]
  },
  {
   "cell_type": "markdown",
   "id": "4012cbd3",
   "metadata": {},
   "source": [
    "### Check that constraint is met, drz/drzp > 0??"
   ]
  },
  {
   "cell_type": "code",
   "execution_count": null,
   "id": "361a1e1e",
   "metadata": {},
   "outputs": [],
   "source": [
    "thp = np.linspace(0, 2 * np.pi, 256)\n",
    "for rzp in np.linspace(0, 2.0, 16):\n",
    "    plt.plot(thp, model.get_rz(rzp, thp), marker=\"\")"
   ]
  },
  {
   "cell_type": "code",
   "execution_count": null,
   "id": "646b2239",
   "metadata": {},
   "outputs": [],
   "source": [
    "drz_drzp = jax.vmap(jax.grad(model.get_rz, argnums=0))"
   ]
  },
  {
   "cell_type": "code",
   "execution_count": null,
   "id": "907885ba",
   "metadata": {},
   "outputs": [],
   "source": [
    "th = np.linspace(0, np.pi / 2, 128)\n",
    "\n",
    "for rzp in np.linspace(0, 1.0, 16):\n",
    "    plt.plot(th, drz_drzp(np.full_like(th, rzp), th), color=\"k\", marker=\"\")\n",
    "\n",
    "for rzp in np.linspace(1, 2.0, 8):\n",
    "    plt.plot(th, drz_drzp(np.full_like(th, rzp), th), color=\"#aaaaaa\", marker=\"\")\n",
    "\n",
    "plt.axhline(0)\n",
    "plt.ylim(-2, None)\n",
    "\n",
    "plt.xlabel(\"$r_z'$\")\n",
    "plt.ylabel(r\"$\\frac{\\mathrm{d}r_z}{\\mathrm{d}r_z'}$\")"
   ]
  },
  {
   "cell_type": "code",
   "execution_count": null,
   "id": "e508294d",
   "metadata": {},
   "outputs": [],
   "source": []
  }
 ],
 "metadata": {
  "kernelspec": {
   "display_name": "apw-py3-2022",
   "language": "python",
   "name": "apw-py3-2022"
  },
  "language_info": {
   "codemirror_mode": {
    "name": "ipython",
    "version": 3
   },
   "file_extension": ".py",
   "mimetype": "text/x-python",
   "name": "python",
   "nbconvert_exporter": "python",
   "pygments_lexer": "ipython3",
   "version": "3.10.4"
  },
  "toc": {
   "base_numbering": 1,
   "nav_menu": {},
   "number_sections": true,
   "sideBar": true,
   "skip_h1_title": false,
   "title_cell": "Table of Contents",
   "title_sidebar": "Contents",
   "toc_cell": false,
   "toc_position": {},
   "toc_section_display": true,
   "toc_window_display": false
  }
 },
 "nbformat": 4,
 "nbformat_minor": 5
}
