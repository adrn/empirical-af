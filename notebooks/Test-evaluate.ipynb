{
 "cells": [
  {
   "cell_type": "code",
   "execution_count": null,
   "id": "ddd62d55",
   "metadata": {},
   "outputs": [],
   "source": [
    "import os\n",
    "\n",
    "import astropy.table as at\n",
    "import astropy.coordinates as coord\n",
    "import astropy.units as u\n",
    "import matplotlib as mpl\n",
    "import matplotlib.pyplot as plt\n",
    "%matplotlib inline\n",
    "import numpy as np\n",
    "\n",
    "from gala.units import galactic\n",
    "\n",
    "import jax\n",
    "jax.config.update('jax_enable_x64', True)\n",
    "import jax.numpy as jnp\n",
    "\n",
    "from empaf import DensityOrbitModel\n",
    "from empaf.jax_helpers import designer_func"
   ]
  },
  {
   "cell_type": "code",
   "execution_count": null,
   "id": "28d5e236",
   "metadata": {},
   "outputs": [],
   "source": [
    "grid = np.linspace(0, 5, 128)\n",
    "plt.plot(grid, designer_func(grid, A=0.1, alpha=0.33, x0=3.))\n",
    "plt.plot(grid, -designer_func(grid, A=0.01, alpha=0.45, x0=3.))"
   ]
  },
  {
   "cell_type": "code",
   "execution_count": null,
   "id": "5feab4e5",
   "metadata": {},
   "outputs": [],
   "source": [
    "grid = np.linspace(0, 5, 128)\n",
    "plt.plot(grid, np.exp(designer_func(grid, A=-30, alpha=0.55, x0=3., c=0.) - 20.))\n",
    "plt.yscale('log')"
   ]
  },
  {
   "cell_type": "code",
   "execution_count": null,
   "id": "b02d3c96",
   "metadata": {},
   "outputs": [],
   "source": [
    "grid = np.linspace(0, 3, 128)\n",
    "\n",
    "def get_ln_dens(x, f0, f3, alpha, x0):\n",
    "    A = (f3 - f0) / (1 - designer_func(3., 1., alpha, x0, c=0.))\n",
    "    offset = f0 + A\n",
    "    return (\n",
    "        designer_func(grid, c=0.0, A=A, alpha=alpha, x0=x0)\n",
    "        + offset\n",
    "    )\n",
    "\n",
    "func_vals = np.exp(get_ln_dens(grid, f0=9.5, f3=-20, alpha=0.55, x0=3.))\n",
    "\n",
    "plt.plot(grid, func_vals)\n",
    "plt.axhline(np.exp(9.5))\n",
    "plt.axhline(np.exp(-20))\n",
    "plt.yscale('log')"
   ]
  },
  {
   "cell_type": "markdown",
   "id": "e7b09fb2",
   "metadata": {},
   "source": [
    "---"
   ]
  },
  {
   "cell_type": "code",
   "execution_count": null,
   "id": "8a33a7f4",
   "metadata": {},
   "outputs": [],
   "source": [
    "init_model = DensityOrbitModel(\n",
    "    e_signs={2: 1.0, 4: -1.0}, # , 6: -1.0, 8: -1.0},\n",
    "    unit_sys=galactic,\n",
    ")"
   ]
  },
  {
   "cell_type": "code",
   "execution_count": null,
   "id": "594ceda7",
   "metadata": {},
   "outputs": [],
   "source": [
    "model0 = init_model.copy()\n",
    "\n",
    "valid_state = {}\n",
    "valid_state[\"e_params\"] = {m: {} for m in [2, 4]}\n",
    "\n",
    "# valid_state[\"e_params\"][2]['A'] = 0.1\n",
    "valid_state[\"e_params\"][2]['A'] = 0.\n",
    "valid_state[\"e_params\"][2]['alpha'] = 0.33\n",
    "valid_state[\"e_params\"][2]['x0'] = 3.\n",
    "\n",
    "# valid_state[\"e_params\"][4]['A'] = 0.04\n",
    "valid_state[\"e_params\"][4]['A'] = 0.2\n",
    "valid_state[\"e_params\"][4]['alpha'] = 0.45\n",
    "valid_state[\"e_params\"][4]['x0'] = 3.\n",
    "\n",
    "valid_state[\"ln_dens_params\"] = {\"f0\": 9.5, \"f3\": -20, \"alpha\": 0.54, \"x0\": 3.0}\n",
    "\n",
    "valid_state[\"Omega\"] = 0.06\n",
    "valid_state[\"z0\"] = 0.0\n",
    "valid_state[\"vz0\"] = 0.0\n",
    "\n",
    "model0.state = valid_state\n",
    "model0._validate_state()"
   ]
  },
  {
   "cell_type": "code",
   "execution_count": null,
   "id": "67a66a39",
   "metadata": {},
   "outputs": [],
   "source": [
    "z_grid, vz_grid = np.meshgrid(\n",
    "    np.linspace(-2, 2, 128),\n",
    "    np.linspace(-0.1, 0.1, 128)\n",
    ")"
   ]
  },
  {
   "cell_type": "code",
   "execution_count": null,
   "id": "4cfd43cc",
   "metadata": {},
   "outputs": [],
   "source": [
    "vlim = dict(\n",
    "    norm=mpl.colors.LogNorm(vmax=3e4, vmin=1e-1), shading=\"auto\"\n",
    ") \n",
    "\n",
    "fig, ax = plt.subplots(\n",
    "    1, 1, figsize=(6, 5), constrained_layout=True\n",
    ")\n",
    "\n",
    "cs = ax.pcolormesh(\n",
    "    vz_grid, z_grid, \n",
    "    np.exp(model0.ln_density(z=z_grid, vz=vz_grid)),\n",
    "    **vlim\n",
    ")\n",
    "fig.colorbar(cs, ax=ax)\n",
    "\n",
    "ax.contour(\n",
    "    vz_grid, z_grid, \n",
    "    np.exp(model0.ln_density(z=z_grid, vz=vz_grid)),\n",
    "    levels=16,\n",
    "    colors='k'\n",
    ")\n",
    "\n",
    "ax.set_title(\"initial model\")"
   ]
  },
  {
   "cell_type": "code",
   "execution_count": null,
   "id": "507709ce",
   "metadata": {},
   "outputs": [],
   "source": []
  }
 ],
 "metadata": {
  "kernelspec": {
   "display_name": "Python [conda env:root] *",
   "language": "python",
   "name": "conda-root-py"
  },
  "language_info": {
   "codemirror_mode": {
    "name": "ipython",
    "version": 3
   },
   "file_extension": ".py",
   "mimetype": "text/x-python",
   "name": "python",
   "nbconvert_exporter": "python",
   "pygments_lexer": "ipython3",
   "version": "3.10.4"
  },
  "toc": {
   "base_numbering": 1,
   "nav_menu": {},
   "number_sections": true,
   "sideBar": true,
   "skip_h1_title": false,
   "title_cell": "Table of Contents",
   "title_sidebar": "Contents",
   "toc_cell": false,
   "toc_position": {},
   "toc_section_display": true,
   "toc_window_display": false
  }
 },
 "nbformat": 4,
 "nbformat_minor": 5
}
