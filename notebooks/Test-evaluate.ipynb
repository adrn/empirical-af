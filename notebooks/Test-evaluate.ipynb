{
 "cells": [
  {
   "cell_type": "code",
   "execution_count": null,
   "id": "ddd62d55",
   "metadata": {},
   "outputs": [],
   "source": [
    "import os\n",
    "\n",
    "import astropy.table as at\n",
    "import astropy.coordinates as coord\n",
    "import astropy.units as u\n",
    "import matplotlib as mpl\n",
    "import matplotlib.pyplot as plt\n",
    "\n",
    "%matplotlib inline\n",
    "import numpy as np\n",
    "\n",
    "from gala.units import galactic\n",
    "\n",
    "import jax\n",
    "\n",
    "jax.config.update(\"jax_enable_x64\", True)\n",
    "import jax.numpy as jnp\n",
    "\n",
    "from empaf import DensityOrbitModel\n",
    "from empaf.jax_helpers import designer_func, designer_func_alt"
   ]
  },
  {
   "cell_type": "code",
   "execution_count": null,
   "id": "34830d07",
   "metadata": {},
   "outputs": [],
   "source": [
    "def designer_func2(x, A, alpha, x0, c=1.0):\n",
    "    beta = (1 - alpha) / alpha\n",
    "    return A * (c - (1 - (x / x0) ** (1 / beta)) ** beta)\n",
    "\n",
    "\n",
    "grid = np.linspace(0, 3, 128)\n",
    "plt.plot(grid, designer_func2(grid, A=0.1, alpha=0.33, x0=3.0))\n",
    "plt.xscale(\"log\")"
   ]
  },
  {
   "cell_type": "code",
   "execution_count": null,
   "id": "28d5e236",
   "metadata": {},
   "outputs": [],
   "source": [
    "grid = np.linspace(0, 5, 128)\n",
    "plt.plot(grid, designer_func(grid, A=0.1, alpha=0.33, x0=3.0))\n",
    "plt.plot(grid, -designer_func(grid, A=0.01, alpha=0.45, x0=3.0))"
   ]
  },
  {
   "cell_type": "code",
   "execution_count": null,
   "id": "5feab4e5",
   "metadata": {},
   "outputs": [],
   "source": [
    "grid = np.linspace(0, 5, 128)\n",
    "plt.plot(grid, np.exp(designer_func(grid, A=-30, alpha=0.55, x0=3.0, c=0.0) - 20.0))\n",
    "plt.yscale(\"log\")"
   ]
  },
  {
   "cell_type": "code",
   "execution_count": null,
   "id": "b02d3c96",
   "metadata": {},
   "outputs": [],
   "source": [
    "grid = np.linspace(0, 3, 128)\n",
    "\n",
    "\n",
    "def get_ln_dens(x, f0, f1, alpha, x0):\n",
    "    A = (f1 - f0) / (1 + designer_func(1.0, 1.0, alpha, x0, c=0.0))\n",
    "    offset = f0 + A\n",
    "    return designer_func(grid, c=0.0, A=A, alpha=alpha, x0=x0) + offset\n",
    "\n",
    "\n",
    "func_vals = np.exp(get_ln_dens(grid, f0=9.5, f1=-10, alpha=0.55, x0=6.0))\n",
    "\n",
    "plt.plot(grid, func_vals)\n",
    "plt.axhline(np.exp(9.5))\n",
    "plt.axhline(np.exp(-10))\n",
    "plt.yscale(\"log\")"
   ]
  },
  {
   "cell_type": "markdown",
   "id": "e7b09fb2",
   "metadata": {},
   "source": [
    "---"
   ]
  },
  {
   "cell_type": "code",
   "execution_count": null,
   "id": "8a33a7f4",
   "metadata": {},
   "outputs": [],
   "source": [
    "init_model = DensityOrbitModel(\n",
    "    e_signs={2: 1.0, 4: -1.0},  # , 6: -1.0, 8: -1.0},\n",
    "    units=galactic,\n",
    ")"
   ]
  },
  {
   "cell_type": "code",
   "execution_count": null,
   "id": "594ceda7",
   "metadata": {},
   "outputs": [],
   "source": [
    "model0 = init_model.copy()\n",
    "\n",
    "valid_state = {}\n",
    "valid_state[\"e_params\"] = {m: {} for m in [2, 4]}\n",
    "\n",
    "# valid_state[\"e_params\"][2]['A'] = 0.1\n",
    "# valid_state[\"e_params\"][2]['A'] = 0.\n",
    "valid_state[\"e_params\"][2][\"alpha\"] = 0.2\n",
    "valid_state[\"e_params\"][2][\"x0\"] = 3.0\n",
    "valid_state[\"e_params\"][2][\"f0\"] = -8.0\n",
    "valid_state[\"e_params\"][2][\"f1\"] = np.log(0.2)\n",
    "\n",
    "# valid_state[\"e_params\"][4]['A'] = 0.04\n",
    "# valid_state[\"e_params\"][4]['A'] = 0.2\n",
    "valid_state[\"e_params\"][4][\"alpha\"] = 0.45\n",
    "valid_state[\"e_params\"][4][\"x0\"] = 3.0\n",
    "valid_state[\"e_params\"][4][\"f0\"] = -8.0\n",
    "valid_state[\"e_params\"][4][\"f1\"] = np.log(0.04)\n",
    "\n",
    "valid_state[\"ln_dens_params\"] = {\"f0\": 9.5, \"f1\": -10.0, \"alpha\": 0.6, \"x0\": 5.0}\n",
    "\n",
    "valid_state[\"Omega\"] = 0.06\n",
    "valid_state[\"z0\"] = 0.0\n",
    "valid_state[\"vz0\"] = 0.0\n",
    "\n",
    "model0.state = valid_state\n",
    "model0._validate_state()"
   ]
  },
  {
   "cell_type": "code",
   "execution_count": null,
   "id": "78bf88cf",
   "metadata": {},
   "outputs": [],
   "source": [
    "plot_rz = np.linspace(0, 1, 101)\n",
    "es = model0.get_es(plot_rz)\n",
    "for n, ee in es.items():\n",
    "    plt.plot(plot_rz, ee, marker=\"\")"
   ]
  },
  {
   "cell_type": "code",
   "execution_count": null,
   "id": "67a66a39",
   "metadata": {},
   "outputs": [],
   "source": [
    "z_grid, vz_grid = np.meshgrid(np.linspace(-2, 2, 128), np.linspace(-0.1, 0.1, 128))"
   ]
  },
  {
   "cell_type": "code",
   "execution_count": null,
   "id": "4cfd43cc",
   "metadata": {},
   "outputs": [],
   "source": [
    "vlim = dict(norm=mpl.colors.LogNorm(vmax=3e4, vmin=1e-1), shading=\"auto\")\n",
    "\n",
    "fig, ax = plt.subplots(1, 1, figsize=(6, 5), constrained_layout=True)\n",
    "\n",
    "cs = ax.pcolormesh(\n",
    "    vz_grid, z_grid, np.exp(model0.ln_density(z=z_grid, vz=vz_grid)), **vlim\n",
    ")\n",
    "fig.colorbar(cs, ax=ax)\n",
    "\n",
    "# ax.contour(\n",
    "#     vz_grid, z_grid,\n",
    "#     np.exp(model0.ln_density(z=z_grid, vz=vz_grid)),\n",
    "#     levels=16,\n",
    "#     colors='k'\n",
    "# )\n",
    "\n",
    "ax.set_title(\"initial model\")"
   ]
  },
  {
   "cell_type": "code",
   "execution_count": null,
   "id": "507709ce",
   "metadata": {},
   "outputs": [],
   "source": []
  }
 ],
 "metadata": {
  "kernelspec": {
   "display_name": "apw-py310",
   "language": "python",
   "name": "apw-py310"
  },
  "language_info": {
   "codemirror_mode": {
    "name": "ipython",
    "version": 3
   },
   "file_extension": ".py",
   "mimetype": "text/x-python",
   "name": "python",
   "nbconvert_exporter": "python",
   "pygments_lexer": "ipython3",
   "version": "3.10.8"
  },
  "toc": {
   "base_numbering": 1,
   "nav_menu": {},
   "number_sections": true,
   "sideBar": true,
   "skip_h1_title": false,
   "title_cell": "Table of Contents",
   "title_sidebar": "Contents",
   "toc_cell": false,
   "toc_position": {},
   "toc_section_display": true,
   "toc_window_display": false
  }
 },
 "nbformat": 4,
 "nbformat_minor": 5
}
