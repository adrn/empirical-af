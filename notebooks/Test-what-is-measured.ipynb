{
 "cells": [
  {
   "cell_type": "markdown",
   "id": "279c690d",
   "metadata": {},
   "source": [
    "TODO:\n",
    "- compare inferred acceleration trends - which selection recovers local acceleration the best?\n",
    "- also do different spatial/velocity/R selection and rerun"
   ]
  },
  {
   "cell_type": "code",
   "execution_count": null,
   "id": "ddd62d55",
   "metadata": {},
   "outputs": [],
   "source": [
    "import copy\n",
    "import os\n",
    "\n",
    "from astropy.constants import G\n",
    "import astropy.table as at\n",
    "import astropy.coordinates as coord\n",
    "import astropy.units as u\n",
    "import matplotlib as mpl\n",
    "import matplotlib.pyplot as plt\n",
    "\n",
    "%matplotlib inline\n",
    "import numpy as np\n",
    "\n",
    "# gala\n",
    "import gala.coordinates as gc\n",
    "import gala.dynamics as gd\n",
    "import gala.potential as gp\n",
    "import gala.integrate as gi\n",
    "from gala.units import galactic\n",
    "\n",
    "import jax\n",
    "\n",
    "jax.config.update(\"jax_enable_x64\", True)\n",
    "import jax.numpy as jnp\n",
    "from jax_cosmo.scipy.interpolate import InterpolatedUnivariateSpline\n",
    "\n",
    "from empaf import DensityOrbitModel\n",
    "from empaf.plot import plot_data_models_residual\n",
    "from empaf.model_helpers import generalized_logistic_func_alt\n",
    "from empaf.model_helpers import monotonic_quadratic_spline"
   ]
  },
  {
   "cell_type": "markdown",
   "id": "4c4c356d",
   "metadata": {},
   "source": [
    "# Load test data\n",
    "\n",
    "Load some particle data generated in an equilibrium galaxy model:"
   ]
  },
  {
   "cell_type": "code",
   "execution_count": null,
   "id": "eb25d88c",
   "metadata": {},
   "outputs": [],
   "source": [
    "# particle_data = at.QTable.read('../test-data/agama-galaxymodel-particles.fits')\n",
    "tbl = at.QTable.read(\"../test-data/agama-galaxymodel-particles-qIso.fits\")"
   ]
  },
  {
   "cell_type": "code",
   "execution_count": null,
   "id": "510de635",
   "metadata": {},
   "outputs": [],
   "source": [
    "Jphi0 = 229 * u.km / u.s * 8.3 * u.kpc\n",
    "R0 = 8.3 * u.kpc\n",
    "R = np.sqrt(tbl[\"xyz\"][:, 0] ** 2 + tbl[\"xyz\"][:, 1] ** 2)\n",
    "v_R = (\n",
    "    tbl[\"xyz\"][:, 0] * tbl[\"v_xyz\"][:, 0] + tbl[\"xyz\"][:, 1] * tbl[\"v_xyz\"][:, 1]\n",
    ") / R\n",
    "mask = (\n",
    "    (np.abs(tbl[\"J_phi\"] - Jphi0) < (0.5 * u.kpc * 229 * u.km / u.s))\n",
    "    & (np.abs(R - R0) < 0.5 * u.kpc)\n",
    "    #     & (np.abs(v_R) < 15*u.km/u.s)\n",
    ")\n",
    "print(mask.sum())\n",
    "\n",
    "particle_data = tbl[mask]"
   ]
  },
  {
   "cell_type": "code",
   "execution_count": null,
   "id": "e5638962",
   "metadata": {},
   "outputs": [],
   "source": [
    "data = DensityOrbitModel.get_data_im(\n",
    "    z=particle_data[\"xyz\"][:, 2].decompose(galactic).value,\n",
    "    vz=particle_data[\"v_xyz\"][:, 2].decompose(galactic).value,\n",
    "    bins={\"z\": np.linspace(-2.5, 2.5, 155), \"vz\": np.linspace(-0.1, 0.1, 155)},\n",
    ")"
   ]
  },
  {
   "cell_type": "code",
   "execution_count": null,
   "id": "e7ee9eaa",
   "metadata": {},
   "outputs": [],
   "source": [
    "plt.pcolormesh(\n",
    "    data[\"vz\"], data[\"z\"], data[\"H\"], cmap=\"magma\", norm=mpl.colors.LogNorm()\n",
    ")\n",
    "plt.xlabel(\"$v_z$\")\n",
    "plt.ylabel(\"$z$\")"
   ]
  },
  {
   "cell_type": "code",
   "execution_count": null,
   "id": "41501cdb",
   "metadata": {},
   "outputs": [],
   "source": [
    "max_rz = 0.75\n",
    "\n",
    "n_dens_knots = 19\n",
    "# Knot locations, spaced equally in sqrt(r_z)\n",
    "ln_dens_knots = jnp.linspace(0, max_rz, n_dens_knots)  #  ** 2\n",
    "# print(ln_dens_knots)\n",
    "\n",
    "# def ln_dens_func(rz, ln_dens_vals):\n",
    "#     spl = InterpolatedUnivariateSpline(ln_dens_knots, ln_dens_vals, k=2)\n",
    "#     return spl(rz)\n",
    "\n",
    "\n",
    "def ln_dens_func(rz, ln_dens_vals):\n",
    "    vals = monotonic_quadratic_spline(ln_dens_knots, ln_dens_vals, rz)\n",
    "    return vals"
   ]
  },
  {
   "cell_type": "code",
   "execution_count": null,
   "id": "bc523a5b",
   "metadata": {},
   "outputs": [],
   "source": [
    "# ln_dens_bounds = {\n",
    "#     \"ln_dens_vals\": (\n",
    "#         jnp.full(n_dens_knots, -5.0),\n",
    "#         jnp.full(n_dens_knots, 25.0)\n",
    "#     )\n",
    "# }\n",
    "\n",
    "ln_dens_bounds = {\n",
    "    \"ln_dens_vals\": (\n",
    "        np.concatenate(([0.0], np.full(n_dens_knots - 1, -30.0))),\n",
    "        np.concatenate(([12.0], np.full(n_dens_knots - 1, 0.0))),\n",
    "    )\n",
    "}"
   ]
  },
  {
   "cell_type": "code",
   "execution_count": null,
   "id": "080c0c5f",
   "metadata": {},
   "outputs": [],
   "source": [
    "n_e2_knots = 9\n",
    "n_e4_knots = 5\n",
    "e2_knots = jnp.linspace(0, np.sqrt(max_rz), n_e2_knots) ** 2\n",
    "e4_knots = jnp.linspace(0, np.sqrt(max_rz), n_e4_knots) ** 2\n",
    "e6_knots = jnp.linspace(0, np.sqrt(max_rz), n_e4_knots) ** 2\n",
    "\n",
    "\n",
    "def e2_func(rzp, e2_vals):\n",
    "    vals = monotonic_quadratic_spline(\n",
    "        e2_knots, jnp.concatenate((jnp.array([0.0]), e2_vals)), rzp\n",
    "    )\n",
    "    return vals\n",
    "\n",
    "\n",
    "def e4_func(rzp, e4_vals):\n",
    "    vals = monotonic_quadratic_spline(\n",
    "        e4_knots, jnp.concatenate((jnp.array([0.0]), e4_vals)), rzp\n",
    "    )\n",
    "    return -vals\n",
    "\n",
    "\n",
    "def e6_func(rzp, e6_vals):\n",
    "    vals = monotonic_quadratic_spline(\n",
    "        e6_knots, jnp.concatenate((jnp.array([0.0]), e6_vals)), rzp\n",
    "    )\n",
    "    return vals"
   ]
  },
  {
   "cell_type": "code",
   "execution_count": null,
   "id": "c2194af9",
   "metadata": {},
   "outputs": [],
   "source": [
    "e_params0 = {}\n",
    "e_bounds = {}\n",
    "# e_params0[2] = {\"e2_vals\": np.full(n_e2_knots - 1, 0.2)}\n",
    "e_params0[2] = {\"e2_vals\": np.linspace(1.5, 0.2, n_e2_knots - 1) / 0.6 * 0.2}\n",
    "e_params0[4] = {\"e4_vals\": np.full(n_e4_knots - 1, 0.08)}\n",
    "# e_params0[6] = {\"e6_vals\": np.full(n_e4_knots - 1, 0.03)}\n",
    "e_bounds[2] = {\"e2_vals\": (np.full(n_e2_knots - 1, 0), np.full(n_e2_knots - 1, 10))}\n",
    "e_bounds[4] = {\"e4_vals\": (np.full(n_e4_knots - 1, 0), np.full(n_e4_knots - 1, 10))}\n",
    "# e_bounds[6] = {\"e6_vals\": (np.full(n_e4_knots-1, 0), np.full(n_e4_knots-1, 10))}"
   ]
  },
  {
   "cell_type": "code",
   "execution_count": null,
   "id": "2f1ddf98",
   "metadata": {},
   "outputs": [],
   "source": [
    "grid = np.linspace(0, max_rz, 128)\n",
    "plt.plot(grid, e2_func(grid, **e_params0[2]))\n",
    "plt.plot(grid, e4_func(grid, **e_params0[4]))\n",
    "# plt.plot(grid, e6_func(grid, **e_params0[6]))\n",
    "plt.xlabel(\"$r_z'$\")\n",
    "plt.ylabel(\"initial $e_m(r_z')$\")"
   ]
  },
  {
   "cell_type": "code",
   "execution_count": null,
   "id": "8a33a7f4",
   "metadata": {},
   "outputs": [],
   "source": [
    "model = DensityOrbitModel(\n",
    "    ln_dens_func=ln_dens_func,\n",
    "    e_funcs={2: e2_func, 4: e4_func},  # , 6: e6_func},  # the keys are the \"m\" values\n",
    "    units=galactic,\n",
    ")"
   ]
  },
  {
   "cell_type": "code",
   "execution_count": null,
   "id": "f1caebb2",
   "metadata": {},
   "outputs": [],
   "source": [
    "xx, yy, ln_dens_spl = model.get_data_ln_dens_func(\n",
    "    particle_data[\"xyz\"][:, 2], particle_data[\"v_xyz\"][:, 2], spl_k=1\n",
    ")\n",
    "spl_y0 = ln_dens_spl(xx[0])\n",
    "ln_dens_vals0 = np.concatenate(([spl_y0], ln_dens_spl.derivative()(ln_dens_knots[1:])))\n",
    "\n",
    "params0 = model.get_params_init(\n",
    "    particle_data[\"xyz\"][:, 2],\n",
    "    particle_data[\"v_xyz\"][:, 2],\n",
    "    ln_dens_params0={\"ln_dens_vals\": ln_dens_vals0},\n",
    ")\n",
    "params0"
   ]
  },
  {
   "cell_type": "code",
   "execution_count": null,
   "id": "2b355b0c",
   "metadata": {},
   "outputs": [],
   "source": [
    "plot_rz = np.linspace(0, max_rz, 128)\n",
    "\n",
    "fig, ax = plt.subplots()\n",
    "ax.plot(plot_rz, model.get_ln_dens(plot_rz, params0))\n",
    "# ax.scatter(ln_dens_knots, model.get_ln_dens(ln_dens_knots, res.params))\n",
    "ax.set_xlim(plot_rz.min(), plot_rz.max())\n",
    "ax.set_xlabel(\"$r_z$\", labelpad=20)\n",
    "ax.set_ylabel(r\"$\\ln n(r_z)$\")"
   ]
  },
  {
   "cell_type": "code",
   "execution_count": null,
   "id": "e32c280d",
   "metadata": {},
   "outputs": [],
   "source": [
    "params0[\"e_params\"] = e_params0"
   ]
  },
  {
   "cell_type": "code",
   "execution_count": null,
   "id": "4cfd43cc",
   "metadata": {},
   "outputs": [],
   "source": [
    "vlim = dict(\n",
    "    norm=mpl.colors.LogNorm(vmax=3e4, vmin=1e-1), shading=\"auto\"\n",
    ")  # vmin=0, vmax=30)\n",
    "\n",
    "fig, axes = plt.subplots(\n",
    "    1, 2, figsize=(11, 5), sharex=True, sharey=True, constrained_layout=True\n",
    ")\n",
    "\n",
    "cs = axes[0].pcolormesh(data[\"vz\"], data[\"z\"], data[\"H\"], **vlim)\n",
    "\n",
    "cs = axes[1].pcolormesh(\n",
    "    data[\"vz\"],\n",
    "    data[\"z\"],\n",
    "    np.exp(model.ln_density(z=data[\"z\"], vz=data[\"vz\"], params=params0)),\n",
    "    **vlim\n",
    ")\n",
    "fig.colorbar(cs, ax=axes[:2])\n",
    "\n",
    "axes[0].set_title(\"data\")\n",
    "axes[1].set_title(\"initial model\")"
   ]
  },
  {
   "cell_type": "code",
   "execution_count": null,
   "id": "436c7fdb",
   "metadata": {},
   "outputs": [],
   "source": [
    "bounds = {}\n",
    "\n",
    "_dens0 = [0.01, 2] * u.Msun / u.pc**3\n",
    "bounds[\"ln_Omega\"] = np.log(np.sqrt(_dens0 * 4 * np.pi * G).to_value(1 / u.Myr))\n",
    "bounds[\"z0\"] = (-0.05, 0.05)\n",
    "bounds[\"vz0\"] = (-0.02, 0.02)\n",
    "\n",
    "bounds[\"e_params\"] = e_bounds\n",
    "bounds[\"ln_dens_params\"] = ln_dens_bounds"
   ]
  },
  {
   "cell_type": "code",
   "execution_count": null,
   "id": "a6381878",
   "metadata": {},
   "outputs": [],
   "source": [
    "model.objective(params0, data[\"z\"], data[\"vz\"], data[\"H\"])"
   ]
  },
  {
   "cell_type": "code",
   "execution_count": null,
   "id": "d2c079ff",
   "metadata": {},
   "outputs": [],
   "source": [
    "res = model.optimize(\n",
    "    params0=params0, bounds=bounds, jaxopt_kwargs={\"tol\": 1e-10}, **data\n",
    ")\n",
    "res.state"
   ]
  },
  {
   "cell_type": "code",
   "execution_count": null,
   "id": "bd6cddb2",
   "metadata": {},
   "outputs": [],
   "source": [
    "pars = res.params\n",
    "pars"
   ]
  },
  {
   "cell_type": "code",
   "execution_count": null,
   "id": "bf520aeb",
   "metadata": {},
   "outputs": [],
   "source": [
    "model.check_e_funcs(res.params[\"e_params\"], rz_prime_max=0.5)[0]"
   ]
  },
  {
   "cell_type": "code",
   "execution_count": null,
   "id": "92f315d7",
   "metadata": {},
   "outputs": [],
   "source": [
    "fig, axes = plot_data_models_residual(data, model, params0, res.params)"
   ]
  },
  {
   "cell_type": "code",
   "execution_count": null,
   "id": "022df71b",
   "metadata": {},
   "outputs": [],
   "source": [
    "plot_rz = np.linspace(0, max_rz, 301)\n",
    "\n",
    "fig, axes = plt.subplots(1, 2, figsize=(12, 6), sharex=True, constrained_layout=True)\n",
    "\n",
    "ax = axes[0]\n",
    "es = model.get_es(plot_rz, res.params[\"e_params\"])\n",
    "for m, ee in es.items():\n",
    "    ax.plot(plot_rz, ee, marker=\"\", label=f\"$m={m}$\")\n",
    "    ax.legend(fontsize=16)\n",
    "\n",
    "e2_knot_vals = model.get_es(e2_knots, res.params[\"e_params\"])[2]\n",
    "e4_knot_vals = model.get_es(e4_knots, res.params[\"e_params\"])[4]\n",
    "ax.scatter(e2_knots, e2_knot_vals)\n",
    "ax.scatter(e4_knots, e4_knot_vals)\n",
    "\n",
    "ax.set_ylabel(\"$e_m(r_z')$ for $m=2,4$\")\n",
    "\n",
    "# ---\n",
    "\n",
    "ax = axes[1]\n",
    "ax.plot(plot_rz, model.get_ln_dens(plot_rz, res.params), marker=\"\")\n",
    "ax.scatter(ln_dens_knots, model.get_ln_dens(ln_dens_knots, res.params))\n",
    "ax.set_xlim(plot_rz.min(), plot_rz.max())\n",
    "ax.set_xlabel(\"$r_z$\", labelpad=20)\n",
    "ax.set_ylabel(r\"$\\ln n(r_z)$\")\n",
    "\n",
    "ax2 = ax.twiny()\n",
    "ax2.set_xlim(0, model.get_z(plot_rz[-1], np.pi / 2, res.params))\n",
    "ax2.set_xlabel(\"$z$ (at $v_z=0$) [kpc]\", labelpad=20)"
   ]
  },
  {
   "cell_type": "code",
   "execution_count": null,
   "id": "d686b0ad",
   "metadata": {},
   "outputs": [],
   "source": [
    "# # Compute model predicted density:\n",
    "# plot_rz = np.linspace(1e-3, 0.55, 101)\n",
    "# model_dens = np.exp(model.get_ln_dens(plot_rz, pars))\n",
    "\n",
    "# # Compute rz values at image pixel locations:\n",
    "# tmp_rzp, tmp_tzp = model.z_vz_to_rz_theta_prime(\n",
    "#     data[\"z\"].astype(np.float64), data[\"vz\"].astype(np.float64), pars\n",
    "# )\n",
    "# im_rz = model.get_rz(tmp_rzp, tmp_tzp, pars[\"e_params\"])\n",
    "\n",
    "# # Compute model implicit Omega_z vs. r_z function:\n",
    "# tmp_z = np.array(\n",
    "#     [model.get_z(plot_rz[n], np.pi / 2, pars) for n in range(len(plot_rz))]\n",
    "# )\n",
    "# tmp_rzp = np.array(\n",
    "#     [model.get_rz_prime(plot_rz[n], 0.0, pars[\"e_params\"]) for n in range(len(plot_rz))]\n",
    "# )\n",
    "\n",
    "# tmp_aaf = model.compute_action_angle(\n",
    "#     tmp_z * u.kpc, np.zeros_like(tmp_z) * u.km / u.s, pars, 101\n",
    "# )\n",
    "# model_Omega_z = tmp_aaf['Omega_z']\n",
    "# model_J_z = tmp_aaf['J_z']\n",
    "\n",
    "# # Compute Omega_z at image pixel locations:\n",
    "# tmp_aaf = model.compute_action_angle(\n",
    "#     data[\"z\"].ravel() * u.kpc, data[\"vz\"].ravel() * u.kpc / u.Myr, pars, 25\n",
    "# )\n",
    "# im_Omega_z = tmp_aaf['Omega_z']"
   ]
  },
  {
   "cell_type": "markdown",
   "id": "b47e31d3",
   "metadata": {},
   "source": [
    "Compare acceleration with truth:"
   ]
  },
  {
   "cell_type": "code",
   "execution_count": null,
   "id": "8215416a",
   "metadata": {},
   "outputs": [],
   "source": [
    "pot = gp.load(\"../test-data/agama-galaxymodel-gala_pot.yml\")"
   ]
  },
  {
   "cell_type": "code",
   "execution_count": null,
   "id": "96ba3ae0",
   "metadata": {},
   "outputs": [],
   "source": [
    "# ztmp, vztmp = np.meshgrid(np.linspace(0, 2, 64), np.linspace(0, 0.1, 64))\n",
    "# empaf_az = model.get_az(ztmp * u.kpc, vztmp * u.kpc / u.Myr, res.params).to_value(\n",
    "#     u.pc / u.Myr**2\n",
    "# )\n",
    "\n",
    "ztmp = np.linspace(0, 3, 64)\n",
    "empaf_az = model.get_az(ztmp * u.kpc, res.params).to_value(u.pc / u.Myr**2)"
   ]
  },
  {
   "cell_type": "code",
   "execution_count": null,
   "id": "70335c58",
   "metadata": {},
   "outputs": [],
   "source": [
    "xyz = np.zeros((3,) + ztmp.shape)\n",
    "xyz[0] = R0.to_value(u.kpc)\n",
    "title = \"constant cylindrical R\"\n",
    "\n",
    "# xyz[0] = np.sqrt(R0**2 - (ztmp*u.kpc)**2).to_value(u.kpc)\n",
    "# title = \"constant spherical R\"\n",
    "\n",
    "xyz[2] = ztmp\n",
    "true_az = pot.acceleration(xyz)[2].to_value(u.pc / u.Myr**2)"
   ]
  },
  {
   "cell_type": "code",
   "execution_count": null,
   "id": "8bc2915a",
   "metadata": {},
   "outputs": [],
   "source": [
    "# fig, axes = plt.subplots(\n",
    "#     1, 3, figsize=(20, 6.1), sharex=True, sharey=True, constrained_layout=True\n",
    "# )\n",
    "\n",
    "# true_max = np.abs(empaf_az).max()\n",
    "# levels = -np.sqrt(np.linspace(0, true_max**2, 32))[::-1]\n",
    "# cs0 = axes[0].contour(vztmp, ztmp, empaf_az, levels=levels)\n",
    "# cs1 = axes[1].contour(vztmp, ztmp, true_az, levels=levels)\n",
    "# cs1.set_clim(cs0.get_clim())\n",
    "# cb1 = fig.colorbar(cs0, ax=axes[:2])\n",
    "# cb1.set_label(f\"constant $a_z$ [{u.pc/u.Myr**2:latex_inline}]\")\n",
    "\n",
    "# cs2 = axes[2].pcolormesh(\n",
    "#     vztmp,\n",
    "#     ztmp,\n",
    "#     (empaf_az - true_az),\n",
    "#     cmap=\"RdBu\",\n",
    "#     vmin=-true_max / 10,\n",
    "#     vmax=true_max / 10,\n",
    "# )\n",
    "# cb2 = fig.colorbar(cs2, ax=axes[2])\n",
    "# cb2.set_label(f\"residual [{u.pc/u.Myr**2:latex_inline}]\")\n",
    "\n",
    "# axes[0].set_title(\"empaf\")\n",
    "# axes[1].set_title(\"true potential model\")\n",
    "# axes[2].set_title(\"residual\")\n",
    "\n",
    "# for ax in axes:\n",
    "#     ax.set_xlabel(f\"$v_z$ [{u.kpc/u.Myr:latex_inline}]\")\n",
    "# axes[0].set_ylabel(f\"$z$ [{u.kpc:latex_inline}]\")\n",
    "\n",
    "# fig.suptitle(title, fontsize=26)\n",
    "\n",
    "\n",
    "fig, axes = plt.subplots(1, 2, figsize=(13, 6.1), sharex=True, constrained_layout=True)\n",
    "\n",
    "axes[0].plot(ztmp, empaf_az, label=\"empaf\")\n",
    "axes[0].plot(ztmp, true_az, label=\"true\")\n",
    "axes[0].set_ylim(-5, 0.2)\n",
    "axes[0].legend()\n",
    "\n",
    "axes[1].plot(ztmp, (empaf_az - true_az))\n",
    "axes[1].set_ylim(-0.5, 0.5)\n",
    "\n",
    "axes[1].set_title(\"residual\")\n",
    "\n",
    "for ax in axes:\n",
    "    ax.set_xlabel(f\"$z$ [{u.kpc:latex_inline}]\")\n",
    "axes[0].set_ylabel(\"$a_z$\")\n",
    "\n",
    "fig.suptitle(title, fontsize=26)"
   ]
  },
  {
   "cell_type": "code",
   "execution_count": null,
   "id": "661dda34",
   "metadata": {},
   "outputs": [],
   "source": [
    "# fig, axes = plt.subplots(\n",
    "#     1, 3, figsize=(20, 6.1), sharex=True, sharey=True, constrained_layout=True\n",
    "# )\n",
    "\n",
    "# true_max = np.abs(empaf_az).max()\n",
    "# levels = -np.sqrt(np.linspace(0, true_max**2, 32))[::-1]\n",
    "# cs0 = axes[0].contour(vztmp, ztmp, empaf_az, levels=levels)\n",
    "# cs1 = axes[1].contour(vztmp, ztmp, true_az, levels=levels)\n",
    "# cs1.set_clim(cs0.get_clim())\n",
    "# cb1 = fig.colorbar(cs0, ax=axes[:2])\n",
    "# cb1.set_label(f\"constant $a_z$ [{u.pc/u.Myr**2:latex_inline}]\")\n",
    "\n",
    "# cs2 = axes[2].pcolormesh(\n",
    "#     vztmp,\n",
    "#     ztmp,\n",
    "#     (empaf_az - true_az) / true_az,\n",
    "#     cmap=\"RdBu\",\n",
    "#     vmin=-0.25,\n",
    "#     vmax=0.25,\n",
    "# )\n",
    "# cb2 = fig.colorbar(cs2, ax=axes[2])\n",
    "# cb2.set_label(f\"fractional residual [{u.pc/u.Myr**2:latex_inline}]\")\n",
    "\n",
    "# axes[0].set_title(\"empaf\")\n",
    "# axes[1].set_title(\"true potential model\")\n",
    "# axes[2].set_title(\"fractional residual\")\n",
    "\n",
    "# for ax in axes:\n",
    "#     ax.set_xlabel(f\"$v_z$ [{u.kpc/u.Myr:latex_inline}]\")\n",
    "# axes[0].set_ylabel(f\"$z$ [{u.kpc:latex_inline}]\")\n",
    "\n",
    "# fig.suptitle(title, fontsize=26)"
   ]
  },
  {
   "cell_type": "code",
   "execution_count": null,
   "id": "5bda98d9",
   "metadata": {},
   "outputs": [],
   "source": [
    "# fig, axes = plt.subplots(1, 2, figsize=(12, 5.5), sharex=True)\n",
    "\n",
    "# axes[0].plot(ztmp[i, :], true_az[i], color=\"k\", lw=2, marker=\"\")\n",
    "\n",
    "# ax = axes[1]\n",
    "# for i in range(1, 31+1, 5):\n",
    "#     tmp_vz = vztmp[i, 0] * u.kpc / u.Myr\n",
    "#     ax.plot(ztmp[i, :], (empaf_az[i] - true_az[i]) / true_az[i], marker=\"\", alpha=0.5)\n",
    "#     axes[0].plot(\n",
    "#         ztmp[i, :],\n",
    "#         empaf_az[i],\n",
    "#         marker=\"\",\n",
    "#         alpha=0.5,\n",
    "#         label=f\"$v_z = {tmp_vz.to_value(u.kpc/u.Myr):.2f}$ {u.kpc/u.Myr:latex_inline}\",\n",
    "#     )\n",
    "\n",
    "# ax.axhline(0, zorder=-10, color=\"k\", lw=2)\n",
    "\n",
    "# axes[0].set(\n",
    "#     xlabel=\"$z$ [kpc]\", ylabel=\"$a_z$\"\n",
    "# )\n",
    "# axes[1].set(\n",
    "#     ylim=(-0.2, 0.2), xlim=(-0.1, 2), xlabel=\"$z$ [kpc]\", ylabel=\"fractional force error\"\n",
    "# )\n",
    "\n",
    "# axes[0].legend(loc=\"best\")"
   ]
  },
  {
   "cell_type": "code",
   "execution_count": null,
   "id": "7611812a",
   "metadata": {},
   "outputs": [],
   "source": []
  },
  {
   "cell_type": "code",
   "execution_count": null,
   "id": "bd166329",
   "metadata": {},
   "outputs": [],
   "source": []
  },
  {
   "cell_type": "code",
   "execution_count": null,
   "id": "c5c0356f",
   "metadata": {},
   "outputs": [],
   "source": []
  },
  {
   "cell_type": "markdown",
   "id": "cd734d04",
   "metadata": {},
   "source": [
    "## Grid for Larry:"
   ]
  },
  {
   "cell_type": "code",
   "execution_count": null,
   "id": "89ce93fe",
   "metadata": {},
   "outputs": [],
   "source": [
    "# pot = gp.load(\"../test-data/agama-galaxymodel-gala_pot.yml\")\n",
    "\n",
    "# Rgrid = np.arange(0, 16 + 1e-3, 0.05) * u.kpc\n",
    "# zgrid = np.arange(0, 4 + 1e-3, 0.05) * u.kpc\n",
    "# Rgrid, zgrid = np.meshgrid(Rgrid, zgrid)\n",
    "# xyz = np.zeros((3,) + Rgrid.shape) * u.kpc\n",
    "# xyz[0] = Rgrid\n",
    "# xyz[2] = zgrid\n",
    "\n",
    "# Phi = pot.energy(xyz)\n",
    "# acc = pot.acceleration(xyz)\n",
    "\n",
    "# tbl = at.QTable(\n",
    "#     {\n",
    "#         \"R\": Rgrid.ravel(),\n",
    "#         \"z\": zgrid.ravel(),\n",
    "#         \"potential\": Phi.ravel(),\n",
    "#         \"a_R\": acc[0].ravel(),\n",
    "#         \"a_z\": acc[2].ravel(),\n",
    "#     }\n",
    "# )\n",
    "# tbl.write('../test-data/agama-galaxymodel-pot-grid.fits', overwrite=True)"
   ]
  },
  {
   "cell_type": "code",
   "execution_count": null,
   "id": "4254666e",
   "metadata": {},
   "outputs": [],
   "source": []
  },
  {
   "cell_type": "code",
   "execution_count": null,
   "id": "0049aa32",
   "metadata": {},
   "outputs": [],
   "source": []
  },
  {
   "cell_type": "code",
   "execution_count": null,
   "id": "b2fd5dd0",
   "metadata": {},
   "outputs": [],
   "source": []
  },
  {
   "cell_type": "code",
   "execution_count": null,
   "id": "d66dbc93",
   "metadata": {},
   "outputs": [],
   "source": [
    "print(vz_func(np.array([0.5]), np.array([0.5]), res.params))\n",
    "print(dvz_dz_func(np.array([0.5]), np.array([0.5]), res.params))"
   ]
  },
  {
   "cell_type": "code",
   "execution_count": null,
   "id": "5da6db4e",
   "metadata": {},
   "outputs": [],
   "source": [
    "kw = dict(z=0.5, rz=0.5, params=res.params)\n",
    "vz = tmp_get_vz(**kw)\n",
    "dvz_dz = jax.grad(tmp_get_vz)(*kw.values())"
   ]
  },
  {
   "cell_type": "code",
   "execution_count": null,
   "id": "8afd6932",
   "metadata": {},
   "outputs": [],
   "source": [
    "vz * dvz_dz"
   ]
  },
  {
   "cell_type": "code",
   "execution_count": null,
   "id": "d9c245e2",
   "metadata": {},
   "outputs": [],
   "source": [
    "xyz = np.zeros(3)\n",
    "xyz[0] = R0.to_value(u.kpc)\n",
    "xyz[2] = args[0]\n",
    "pot.acceleration(xyz)[2, 0]"
   ]
  },
  {
   "cell_type": "code",
   "execution_count": null,
   "id": "0cfafa73",
   "metadata": {},
   "outputs": [],
   "source": []
  },
  {
   "cell_type": "code",
   "execution_count": null,
   "id": "ca0b91f1",
   "metadata": {},
   "outputs": [],
   "source": []
  },
  {
   "cell_type": "code",
   "execution_count": null,
   "id": "5e127f98",
   "metadata": {},
   "outputs": [],
   "source": []
  },
  {
   "cell_type": "code",
   "execution_count": null,
   "id": "99cfdf4b",
   "metadata": {},
   "outputs": [],
   "source": [
    "vzs = np.linspace(0, 0.3, 128)\n",
    "test = np.array([help_rootfind(vvz, 0.5, 0.5, res.params) for vvz in vzs])"
   ]
  },
  {
   "cell_type": "code",
   "execution_count": null,
   "id": "6b80a19f",
   "metadata": {},
   "outputs": [],
   "source": [
    "plt.plot(vzs, test)"
   ]
  },
  {
   "cell_type": "code",
   "execution_count": null,
   "id": "8aaf0e85",
   "metadata": {},
   "outputs": [],
   "source": []
  },
  {
   "cell_type": "code",
   "execution_count": null,
   "id": "028ce888",
   "metadata": {},
   "outputs": [],
   "source": []
  },
  {
   "cell_type": "markdown",
   "id": "3954dad9",
   "metadata": {},
   "source": [
    "CBE calculation:"
   ]
  },
  {
   "cell_type": "code",
   "execution_count": null,
   "id": "69ad8abe",
   "metadata": {},
   "outputs": [],
   "source": [
    "Nsamples = 100_000\n",
    "rng = np.random.default_rng(seed=42)\n",
    "zgrid = rng.uniform(-2, 2, size=Nsamples)\n",
    "vzgrid = rng.uniform(-0.08, 0.08, size=Nsamples)\n",
    "\n",
    "lndensmin = model.ln_density(2.0, 0.08, pars)\n",
    "lndensmax = model.ln_density(0.0, 0.0, pars)\n",
    "lndensgrid = rng.uniform(lndensmin, lndensmax, size=Nsamples)\n",
    "lndens = model.ln_density(zgrid, vzgrid, pars)"
   ]
  },
  {
   "cell_type": "code",
   "execution_count": null,
   "id": "3fda463e",
   "metadata": {},
   "outputs": [],
   "source": [
    "mask = lndensgrid < lndens\n",
    "print(mask.sum())\n",
    "\n",
    "plt.hist2d(vzgrid[mask], zgrid[mask], bins=64);  # , norm=mpl.colors.LogNorm());"
   ]
  },
  {
   "cell_type": "code",
   "execution_count": null,
   "id": "a3095248",
   "metadata": {},
   "outputs": [],
   "source": [
    "def func(z, vz):\n",
    "    rzp, thp = model.z_vz_to_rz_theta_prime(z, vz, pars)\n",
    "    rz = model.get_rz(rzp, thp, pars[\"e_params\"])\n",
    "    return rz\n",
    "\n",
    "\n",
    "drz_dz = jax.vmap(jax.grad(func, argnums=0))\n",
    "drz_dvz = jax.vmap(jax.grad(func, argnums=1))\n",
    "\n",
    "\n",
    "def cbe(z, vz):\n",
    "    return drz_dz(z, vz) / drz_dvz(z, vz) * vz"
   ]
  },
  {
   "cell_type": "code",
   "execution_count": null,
   "id": "b080983b",
   "metadata": {},
   "outputs": [],
   "source": [
    "dphi_dz = cbe(zgrid, vzgrid)"
   ]
  },
  {
   "cell_type": "code",
   "execution_count": null,
   "id": "fdd699d9",
   "metadata": {},
   "outputs": [],
   "source": [
    "zz = np.linspace(-2, 2.0, 256) * u.kpc\n",
    "vv = np.zeros(len(zz)) * u.km / u.s\n",
    "aaf = model.compute_action_angle(zz, vv, pars)"
   ]
  },
  {
   "cell_type": "markdown",
   "id": "71ded348",
   "metadata": {},
   "source": [
    "TODO: what can you learn from an orbit from having functions z(vz) or vz(z)?\n",
    "\n",
    "Ez = 1/2 vz^2 + Phi(z)\n",
    "f(Ez) = f(1/2 vz^2 + Phi(z))\n",
    "\n",
    "df/dz = dPhi/dz\n",
    "df/dvz = vz"
   ]
  },
  {
   "cell_type": "code",
   "execution_count": null,
   "id": "3fb92d6c",
   "metadata": {},
   "outputs": [],
   "source": [
    "Phi(a) - Phi(b) -> vz(a)^2 - vz(b)^2"
   ]
  },
  {
   "cell_type": "code",
   "execution_count": null,
   "id": "a315fb09",
   "metadata": {},
   "outputs": [],
   "source": [
    "1/2(vz(a)^2 - vz(b)^2) = Phi(a) - Phi(b)"
   ]
  },
  {
   "cell_type": "code",
   "execution_count": null,
   "id": "418685e1",
   "metadata": {},
   "outputs": [],
   "source": [
    "plt.plot(aaf[\"Omega_z\"].value ** 2)"
   ]
  },
  {
   "cell_type": "code",
   "execution_count": null,
   "id": "5c689c21",
   "metadata": {},
   "outputs": [],
   "source": [
    "fig, ax = plt.subplots(figsize=(6, 6))\n",
    "ax.plot(zgrid, dphi_dz, marker=\"o\", ms=1, ls=\"none\", alpha=0.25)\n",
    "\n",
    "xyz = np.zeros((3, 128))\n",
    "xyz[0] = R0.to_value(u.kpc)\n",
    "xyz[2] = np.linspace(zgrid.min(), zgrid.max(), xyz.shape[1])\n",
    "ax.plot(xyz[2], pot.gradient(xyz)[2], marker=\"\", color=\"tab:red\", lw=3)\n",
    "\n",
    "ax.set_ylim(-0.005, 0.005)"
   ]
  },
  {
   "cell_type": "code",
   "execution_count": null,
   "id": "5699aa4b",
   "metadata": {},
   "outputs": [],
   "source": []
  },
  {
   "cell_type": "code",
   "execution_count": null,
   "id": "1a2a34b7",
   "metadata": {},
   "outputs": [],
   "source": []
  },
  {
   "cell_type": "code",
   "execution_count": null,
   "id": "50a190dc",
   "metadata": {},
   "outputs": [],
   "source": []
  },
  {
   "cell_type": "code",
   "execution_count": null,
   "id": "86dd337d",
   "metadata": {},
   "outputs": [],
   "source": [
    "zz = 0.2\n",
    "vzz = 1e-3\n",
    "\n",
    "vals = []\n",
    "fucs = np.linspace(0, 0.1, 256)\n",
    "for vzz in fucs:\n",
    "    drz_dz, drz_dvz = shit(zz, vzz)\n",
    "    vals.append(drz_dz / drz_dvz * vzz)\n",
    "\n",
    "pot.gradient([R0.to_value(u.kpc), 0, zz])[2, 0]"
   ]
  },
  {
   "cell_type": "code",
   "execution_count": null,
   "id": "0f80d824",
   "metadata": {},
   "outputs": [],
   "source": [
    "plt.plot(fucs, vals)\n",
    "truth = pot.gradient([R0.to_value(u.kpc), 0, zz])[2, 0].value\n",
    "plt.axhline(truth)\n",
    "plt.axvline(zz)\n",
    "\n",
    "print(fucs[np.abs(vals - truth).argmin()])\n",
    "\n",
    "plt.figure()\n",
    "plt.plot(fucs, vals / truth)"
   ]
  },
  {
   "cell_type": "code",
   "execution_count": null,
   "id": "6bc6b768",
   "metadata": {},
   "outputs": [],
   "source": []
  },
  {
   "cell_type": "code",
   "execution_count": null,
   "id": "3aa61eb5",
   "metadata": {},
   "outputs": [],
   "source": []
  },
  {
   "cell_type": "code",
   "execution_count": null,
   "id": "bb134233",
   "metadata": {},
   "outputs": [],
   "source": [
    "rz = model.get_rz(0.05, np.pi / 2, pars[\"e_params\"])"
   ]
  },
  {
   "cell_type": "code",
   "execution_count": null,
   "id": "af0b2178",
   "metadata": {},
   "outputs": [],
   "source": [
    "model.get_vz(rz, np.pi / 2, pars)"
   ]
  },
  {
   "cell_type": "code",
   "execution_count": null,
   "id": "c4f12a12",
   "metadata": {},
   "outputs": [],
   "source": []
  },
  {
   "cell_type": "code",
   "execution_count": null,
   "id": "aadeb779",
   "metadata": {},
   "outputs": [],
   "source": []
  },
  {
   "cell_type": "code",
   "execution_count": null,
   "id": "952599fe",
   "metadata": {},
   "outputs": [],
   "source": [
    "# compute rz values for all particles:\n",
    "tmp_rzp, tmp_tzp = model.z_vz_to_rz_theta_prime(\n",
    "    particle_data[\"xyz\"][:, 2].astype(np.float64),\n",
    "    particle_data[\"v_xyz\"][:, 2].astype(np.float64),\n",
    "    pars,\n",
    ")\n",
    "particle_rz = model.get_rz(tmp_rzp, tmp_tzp, pars[\"e_params\"])\n",
    "\n",
    "particle_aaf = model.compute_action_angle(\n",
    "    particle_data[\"xyz\"].astype(np.float64)[:10_000, 2],\n",
    "    particle_data[\"v_xyz\"].astype(np.float64)[:10_000, 2],\n",
    "    res.params,\n",
    "    21,\n",
    ")\n",
    "particle_aaf[:3]"
   ]
  },
  {
   "cell_type": "code",
   "execution_count": null,
   "id": "1990ba17",
   "metadata": {},
   "outputs": [],
   "source": [
    "dens = np.exp(model.ln_density(tmp_z, np.zeros_like(tmp_z), res.params))"
   ]
  },
  {
   "cell_type": "code",
   "execution_count": null,
   "id": "7d9e8716",
   "metadata": {},
   "outputs": [],
   "source": [
    "fig, axes = plt.subplots(1, 2, figsize=(12, 5), constrained_layout=True, sharex=True)\n",
    "\n",
    "ax = axes[0]\n",
    "ax.plot(plot_rz, model_Omega_z.value, zorder=100, marker=\"\")\n",
    "ax.plot(\n",
    "    particle_rz[: len(particle_aaf)],\n",
    "    particle_aaf[\"Omega_z\"].value,\n",
    "    ls=\"none\",\n",
    "    marker=\"o\",\n",
    "    mew=0,\n",
    "    alpha=0.2,\n",
    "    ms=3.0,\n",
    "    zorder=1000,\n",
    ")\n",
    "# ax.plot(\n",
    "#     im_rz.ravel(),\n",
    "#     im_Omega_z.value,\n",
    "#     ls=\"none\",\n",
    "#     marker=\"o\"\n",
    "# )\n",
    "ax.set_ylabel(r\"$\\Omega_z$ \" + f\"[{tmp_aaf['Omega_z'].unit:latex_inline}]\")\n",
    "\n",
    "axes[1].plot(plot_rz, dens, zorder=100)\n",
    "axes[1].plot(im_rz.ravel(), data[\"H\"].ravel())\n",
    "axes[1].set_yscale(\"log\")\n",
    "\n",
    "for ax in axes:\n",
    "    ax.set_xlabel(r\"$r_z$\", fontsize=18)"
   ]
  },
  {
   "cell_type": "markdown",
   "id": "94478b06",
   "metadata": {},
   "source": [
    "Finally, we can plot a map of the inferred orbit shapes over the phase-space distribution:"
   ]
  },
  {
   "cell_type": "code",
   "execution_count": null,
   "id": "375c0eef",
   "metadata": {},
   "outputs": [],
   "source": [
    "grid_aaf = model.compute_action_angle(\n",
    "    data[\"z\"].ravel() * model.units[\"length\"],\n",
    "    data[\"vz\"].ravel() * model.units[\"length\"] / model.units[\"time\"],\n",
    "    params=res.params,\n",
    "    N_grid=25,\n",
    ")\n",
    "\n",
    "_rzp, _tzp = model.z_vz_to_rz_theta_prime(\n",
    "    data[\"z\"].ravel(), data[\"vz\"].ravel(), res.params\n",
    ")\n",
    "grid_rz = model.get_rz(_rzp, _tzp, res.params[\"e_params\"])"
   ]
  },
  {
   "cell_type": "code",
   "execution_count": null,
   "id": "0ca2d66b",
   "metadata": {},
   "outputs": [],
   "source": [
    "fig, axes = plt.subplots(\n",
    "    1, 2, figsize=(10, 5), sharex=True, sharey=True, constrained_layout=True\n",
    ")\n",
    "\n",
    "for ax in axes:\n",
    "    ax.pcolormesh(\n",
    "        data[\"vz\"], data[\"z\"], data[\"H\"], cmap=\"Blues\", norm=mpl.colors.LogNorm()\n",
    "    )\n",
    "\n",
    "cs = axes[0].contour(\n",
    "    data[\"vz\"],\n",
    "    data[\"z\"],\n",
    "    grid_rz.reshape(data[\"z\"].shape),\n",
    "    colors=\"k\",\n",
    "    levels=np.linspace(0, 0.5, 11),\n",
    ")\n",
    "axes[0].clabel(cs, cs.levels, inline=True, fontsize=10)\n",
    "axes[0].set_title(\"$r_z$\")\n",
    "\n",
    "cs = axes[1].contour(\n",
    "    data[\"vz\"],\n",
    "    data[\"z\"],\n",
    "    np.sqrt(grid_aaf[\"J_z\"].value).reshape(data[\"z\"].shape),\n",
    "    colors=\"k\",\n",
    "    levels=np.linspace(0, 0.5, 11),\n",
    ")\n",
    "axes[1].clabel(cs, cs.levels, inline=True, fontsize=10)\n",
    "axes[1].set_title(r\"$\\sqrt{J_z}$\")"
   ]
  },
  {
   "cell_type": "markdown",
   "id": "29a7b009",
   "metadata": {},
   "source": [
    "# Compute Actions, Angles, Frequencies with the fitted model\n",
    "\n",
    "With the model fitted to the orbital phase-space distribution, we can now use the model to compute empirical actions, angles, and frequencies for all (or a subset, for speed) stars that went into the initial histogram that we fit to:"
   ]
  },
  {
   "cell_type": "code",
   "execution_count": null,
   "id": "55dd2f4f",
   "metadata": {},
   "outputs": [],
   "source": [
    "model_aaf = model.compute_action_angle(\n",
    "    particle_data[\"xyz\"].astype(np.float64)[:100_000, 2],\n",
    "    particle_data[\"v_xyz\"].astype(np.float64)[:100_000, 2],\n",
    "    res.params,\n",
    "    21,\n",
    ")\n",
    "model_aaf[:3]"
   ]
  },
  {
   "cell_type": "markdown",
   "id": "c2f89d37",
   "metadata": {},
   "source": [
    "Let's compare our empirically-derived values to the \"truth\" from Agama:"
   ]
  },
  {
   "cell_type": "code",
   "execution_count": null,
   "id": "db27a407",
   "metadata": {},
   "outputs": [],
   "source": [
    "agamas = [\n",
    "    particle_data[\"J_z\"][: len(model_aaf)].value,\n",
    "    particle_data[\"Omega_z\"][: len(model_aaf)].value,\n",
    "    np.cos(particle_data[\"theta_z\"][: len(model_aaf)]),\n",
    "]\n",
    "models = [\n",
    "    model_aaf[\"J_z\"].value,\n",
    "    model_aaf[\"Omega_z\"].value,\n",
    "    np.cos(model_aaf[\"theta_z\"]),\n",
    "]\n",
    "labels = [\"$J_z$\", r\"$\\Omega_z$\", r\"$\\cos\\theta_z$\"]\n",
    "\n",
    "fig, axes = plt.subplots(1, 3, figsize=(16, 5), constrained_layout=True)\n",
    "lims = [(0, 0.15), (0, 0.1), (-1, 1)]\n",
    "for ax, lim, x1, x2, label in zip(axes, lims, agamas, models, labels):\n",
    "    ax.hist2d(\n",
    "        x1,\n",
    "        x2,\n",
    "        bins=np.linspace(*lim, 128),\n",
    "        cmap=\"Greys\",\n",
    "        norm=mpl.colors.LogNorm(vmin=5e-1),\n",
    "    )\n",
    "\n",
    "    xx = np.linspace(*lim, 10)\n",
    "    ax.plot(xx, xx, marker=\"\", color=\"tab:green\", ls=\"--\", alpha=0.3)\n",
    "    ax.set_xlim(*lim)\n",
    "    ax.set_ylim(*lim)\n",
    "\n",
    "    ax.set_xlabel(f\"Agama {label}\")\n",
    "    ax.set_ylabel(f\"empaf {label}\")"
   ]
  },
  {
   "cell_type": "markdown",
   "id": "92f292d5",
   "metadata": {},
   "source": [
    "Nice - those look great! "
   ]
  },
  {
   "cell_type": "code",
   "execution_count": null,
   "id": "ab05e4aa",
   "metadata": {},
   "outputs": [],
   "source": [
    "agamas = [\n",
    "    particle_data[\"J_z\"][: len(model_aaf)].value,\n",
    "    particle_data[\"Omega_z\"][: len(model_aaf)].value,\n",
    "    np.cos(particle_data[\"theta_z\"][: len(model_aaf)])\n",
    "    #     particle_data[\"theta_z\"][:len(model_aaf)].value\n",
    "]\n",
    "models = [\n",
    "    model_aaf[\"J_z\"].value,\n",
    "    model_aaf[\"Omega_z\"].value,\n",
    "    np.cos(model_aaf[\"theta_z\"]),\n",
    "    #     model_aaf[\"theta_z\"].value % (2*np.pi)\n",
    "]\n",
    "labels = [\"$J_z$\", r\"$\\Omega_z$\", r\"$\\cos\\theta_z$\"]\n",
    "\n",
    "fig, axes = plt.subplots(1, 3, figsize=(16, 5), constrained_layout=True)\n",
    "lims = [(0, 0.15), (0, 0.1), (-1, 1)]\n",
    "for ax, lim, x1, x2, label in zip(axes, lims, agamas, models, labels):\n",
    "    ax.hist2d(\n",
    "        x1,\n",
    "        (x2 - x1),\n",
    "        bins=(np.linspace(*lim, 128), np.linspace(-0.5 * lim[1], 0.5 * lim[1], 128)),\n",
    "        cmap=\"Greys\",\n",
    "        norm=mpl.colors.LogNorm(vmin=5e-1),\n",
    "    )\n",
    "\n",
    "    ax.axhline(0, marker=\"\", color=\"tab:green\", ls=\"--\", alpha=0.3)\n",
    "    ax.set_xlim(*lim)\n",
    "    # ax.set_ylim(-0.5, 0.5)\n",
    "    ax.set_ylim(-0.3 * lim[1], 0.3 * lim[1])\n",
    "\n",
    "    ax.set_xlabel(f\"Agama {label}\")\n",
    "    ax.set_ylabel(f\"(empaf - Agama) {label}\")\n",
    "\n",
    "axes[2].set_ylim(-0.3, 0.3)"
   ]
  },
  {
   "cell_type": "code",
   "execution_count": null,
   "id": "09c86e7b",
   "metadata": {},
   "outputs": [],
   "source": [
    "JRs = particle_data[\"J_R\"][: len(model_aaf)].value\n",
    "\n",
    "labels = [\"$J_z$\", r\"$\\Omega_z$\", r\"$\\cos\\theta_z$\"]\n",
    "\n",
    "fig, axes = plt.subplots(1, 3, figsize=(16, 5), constrained_layout=True)\n",
    "lims = [(0, 0.15), (0, 0.1), (-1, 1)]\n",
    "for ax, lim, x1, x2, label in zip(axes, lims, agamas, models, labels):\n",
    "    ax.hist2d(\n",
    "        JRs,\n",
    "        (x2 - x1),\n",
    "        bins=(np.linspace(*lim, 128), np.linspace(-0.5 * lim[1], 0.5 * lim[1], 128)),\n",
    "        cmap=\"Greys\",\n",
    "        norm=mpl.colors.LogNorm(vmin=5e-1),\n",
    "    )\n",
    "\n",
    "    ax.axhline(0, marker=\"\", color=\"tab:green\", ls=\"--\", alpha=0.3)\n",
    "    ax.set_xlim(*lim)\n",
    "    # ax.set_ylim(-0.5, 0.5)\n",
    "    ax.set_ylim(-0.3 * lim[1], 0.3 * lim[1])\n",
    "\n",
    "    ax.set_xlabel(f\"Agama $J_R$\")\n",
    "    ax.set_ylabel(f\"(empaf - Agama) {label}\")\n",
    "\n",
    "axes[2].set_ylim(-0.3, 0.3)"
   ]
  },
  {
   "cell_type": "markdown",
   "id": "04782c2f",
   "metadata": {},
   "source": [
    "There is some bias at large and small frequency: this is because the distribution function we used to generate the particle data is nearly flat at $J_z\\sim 0$, so there is no constraining power to measure the shapes of density contours. In the opposite regime, the method is limited by particle (shot) noise at large $J_z$ or small $\\Omega_z$."
   ]
  },
  {
   "cell_type": "markdown",
   "id": "de0008b6",
   "metadata": {},
   "source": [
    "# Fitting a Label Model"
   ]
  },
  {
   "cell_type": "code",
   "execution_count": null,
   "id": "b805b56c",
   "metadata": {},
   "outputs": [],
   "source": [
    "from empaf.model import LabelOrbitModel\n",
    "from empaf.plot import plot_data_models_label_residual"
   ]
  },
  {
   "cell_type": "code",
   "execution_count": null,
   "id": "4cc880b2",
   "metadata": {},
   "outputs": [],
   "source": [
    "label_data = LabelOrbitModel.get_data_im(\n",
    "    z=particle_data[\"z\"].decompose(galactic).value,\n",
    "    vz=particle_data[\"v_z\"].decompose(galactic).value,\n",
    "    label=particle_data[\"MG_FE\"],\n",
    "    bins={\"z\": np.linspace(-2.5, 2.5, 155), \"vz\": np.linspace(-0.1, 0.1, 155)},\n",
    ")"
   ]
  },
  {
   "cell_type": "code",
   "execution_count": null,
   "id": "d7c65d1d",
   "metadata": {},
   "outputs": [],
   "source": [
    "plt.figure(figsize=(6, 5))\n",
    "plt.pcolormesh(\n",
    "    label_data[\"vz\"],\n",
    "    label_data[\"z\"],\n",
    "    label_data[\"label\"],\n",
    "    cmap=\"magma_r\",\n",
    ")\n",
    "plt.xlabel(\"$v_z$\")\n",
    "plt.ylabel(\"$z$\")\n",
    "cb = plt.colorbar()"
   ]
  },
  {
   "cell_type": "code",
   "execution_count": null,
   "id": "b2e7981c",
   "metadata": {},
   "outputs": [],
   "source": [
    "n_label_knots = 9\n",
    "\n",
    "\n",
    "def label_func(rz, label_vals):\n",
    "    # Knot locations, spaced equally in sqrt(r_z)\n",
    "    xs = jnp.linspace(0, 1.0, n_label_knots) ** 2\n",
    "\n",
    "    spl = InterpolatedUnivariateSpline(xs, label_vals, k=2)\n",
    "    return spl(rz)"
   ]
  },
  {
   "cell_type": "code",
   "execution_count": null,
   "id": "bc59cce8",
   "metadata": {},
   "outputs": [],
   "source": [
    "label_bounds = {\n",
    "    \"label_vals\": (jnp.full(n_label_knots, -5.0), jnp.full(n_label_knots, 5.0))\n",
    "}"
   ]
  },
  {
   "cell_type": "code",
   "execution_count": null,
   "id": "cfe5f5a2",
   "metadata": {},
   "outputs": [],
   "source": [
    "label_model = LabelOrbitModel(\n",
    "    label_func=label_func,\n",
    "    e_funcs={2: e2_func, 4: e4_func},\n",
    "    units=galactic,\n",
    ")"
   ]
  },
  {
   "cell_type": "code",
   "execution_count": null,
   "id": "d740ef31",
   "metadata": {},
   "outputs": [],
   "source": [
    "label_params0 = label_model.get_params_init(\n",
    "    vz=label_data[\"vz\"] * u.kpc / u.Myr,\n",
    "    z=label_data[\"z\"] * u.kpc,\n",
    "    label=label_data[\"label\"],\n",
    "    label_params0={\"label_vals\": np.zeros(n_label_knots)},\n",
    ")\n",
    "\n",
    "label_params0[\"e_params\"] = params0[\"e_params\"]"
   ]
  },
  {
   "cell_type": "code",
   "execution_count": null,
   "id": "bf02b11b",
   "metadata": {},
   "outputs": [],
   "source": [
    "vlim = dict(vmin=0, vmax=0.25)\n",
    "\n",
    "fig, axes = plt.subplots(\n",
    "    1, 2, figsize=(11, 5), sharex=True, sharey=True, constrained_layout=True\n",
    ")\n",
    "\n",
    "cs = axes[0].pcolormesh(label_data[\"vz\"], label_data[\"z\"], label_data[\"label\"], **vlim)\n",
    "\n",
    "cs = axes[1].pcolormesh(\n",
    "    label_data[\"vz\"],\n",
    "    label_data[\"z\"],\n",
    "    label_model.label(z=label_data[\"z\"], vz=label_data[\"vz\"], params=label_params0),\n",
    "    **vlim\n",
    ")\n",
    "fig.colorbar(cs, ax=axes[:2])\n",
    "\n",
    "axes[0].set_title(\"data\")\n",
    "axes[1].set_title(\"initial model\")"
   ]
  },
  {
   "cell_type": "code",
   "execution_count": null,
   "id": "b28aafd5",
   "metadata": {},
   "outputs": [],
   "source": [
    "label_model_bounds = {}\n",
    "\n",
    "_dens0 = [0.01, 2] * u.Msun / u.pc**3\n",
    "label_model_bounds[\"ln_Omega\"] = np.log(\n",
    "    np.sqrt(_dens0 * 4 * np.pi * G).to_value(1 / u.Myr)\n",
    ")\n",
    "label_model_bounds[\"z0\"] = (-0.05, 0.05)\n",
    "label_model_bounds[\"vz0\"] = (-0.02, 0.02)\n",
    "\n",
    "label_model_bounds[\"e_params\"] = e_bounds\n",
    "label_model_bounds[\"label_params\"] = label_bounds"
   ]
  },
  {
   "cell_type": "code",
   "execution_count": null,
   "id": "8d93f6e0",
   "metadata": {},
   "outputs": [],
   "source": [
    "label_model.objective(params=label_params0, **label_data)"
   ]
  },
  {
   "cell_type": "code",
   "execution_count": null,
   "id": "12402606",
   "metadata": {},
   "outputs": [],
   "source": [
    "clean_mask = np.isfinite(label_data[\"label\"]) & np.isfinite(label_data[\"label_err\"])\n",
    "clean_label_data = {k: v[clean_mask] for k, v in label_data.items()}"
   ]
  },
  {
   "cell_type": "code",
   "execution_count": null,
   "id": "fd6d9afa",
   "metadata": {},
   "outputs": [],
   "source": [
    "label_res = label_model.optimize(\n",
    "    params0=label_params0, bounds=label_model_bounds, **clean_label_data\n",
    ")\n",
    "label_res.state"
   ]
  },
  {
   "cell_type": "code",
   "execution_count": null,
   "id": "93563bb2",
   "metadata": {},
   "outputs": [],
   "source": [
    "plot_data_models_label_residual(\n",
    "    label_data, label_model, label_params0, label_res.params\n",
    ");"
   ]
  },
  {
   "cell_type": "code",
   "execution_count": null,
   "id": "f9f39454",
   "metadata": {},
   "outputs": [],
   "source": []
  }
 ],
 "metadata": {
  "_draft": {
   "nbviewer_url": "https://gist.github.com/6305ea04089abca4190d4d4c431188be"
  },
  "gist": {
   "data": {
    "description": "projects/empirical-af/notebooks/Tutorial-density-model.ipynb",
    "public": true
   },
   "id": "6305ea04089abca4190d4d4c431188be"
  },
  "kernelspec": {
   "display_name": "Python [conda env:root] *",
   "language": "python",
   "name": "conda-root-py"
  },
  "language_info": {
   "codemirror_mode": {
    "name": "ipython",
    "version": 3
   },
   "file_extension": ".py",
   "mimetype": "text/x-python",
   "name": "python",
   "nbconvert_exporter": "python",
   "pygments_lexer": "ipython3",
   "version": "3.10.4"
  },
  "toc": {
   "base_numbering": 1,
   "nav_menu": {},
   "number_sections": true,
   "sideBar": true,
   "skip_h1_title": false,
   "title_cell": "Table of Contents",
   "title_sidebar": "Contents",
   "toc_cell": false,
   "toc_position": {},
   "toc_section_display": true,
   "toc_window_display": true
  }
 },
 "nbformat": 4,
 "nbformat_minor": 5
}
