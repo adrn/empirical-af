{
 "cells": [
  {
   "cell_type": "markdown",
   "id": "ba6ea765",
   "metadata": {},
   "source": [
    "In this notebook, we will go over how to use the `DensityOrbitModel` to fit the vertical phase-space density of stars with a flexible model for the vertical orbit structure."
   ]
  },
  {
   "cell_type": "code",
   "execution_count": null,
   "id": "ddd62d55",
   "metadata": {},
   "outputs": [],
   "source": [
    "import copy\n",
    "import os\n",
    "\n",
    "from astropy.constants import G\n",
    "import astropy.table as at\n",
    "import astropy.coordinates as coord\n",
    "import astropy.units as u\n",
    "import matplotlib as mpl\n",
    "import matplotlib.pyplot as plt\n",
    "%matplotlib inline\n",
    "import numpy as np\n",
    "\n",
    "# gala\n",
    "import gala.coordinates as gc\n",
    "import gala.dynamics as gd\n",
    "import gala.potential as gp\n",
    "import gala.integrate as gi\n",
    "from gala.units import galactic\n",
    "\n",
    "import jax\n",
    "jax.config.update('jax_enable_x64', True)\n",
    "import jax.numpy as jnp\n",
    "from jax_cosmo.scipy.interpolate import InterpolatedUnivariateSpline\n",
    "\n",
    "from empaf import DensityOrbitModel\n",
    "from empaf.plot import plot_data_models_residual\n",
    "from empaf.model_helpers import generalized_logistic_func_alt"
   ]
  },
  {
   "cell_type": "markdown",
   "id": "4c4c356d",
   "metadata": {},
   "source": [
    "# Load test data\n",
    "\n",
    "Load some particle data generated in an equilibrium galaxy model:"
   ]
  },
  {
   "cell_type": "code",
   "execution_count": null,
   "id": "eb25d88c",
   "metadata": {},
   "outputs": [],
   "source": [
    "particle_data = at.QTable.read('../test-data/agama-galaxymodel-particles.fits')"
   ]
  },
  {
   "cell_type": "markdown",
   "id": "9e22d255",
   "metadata": {},
   "source": [
    "Bin the data and return bin locations and number counts:"
   ]
  },
  {
   "cell_type": "code",
   "execution_count": null,
   "id": "e5638962",
   "metadata": {},
   "outputs": [],
   "source": [
    "data = DensityOrbitModel.get_data_im(\n",
    "    z=particle_data[\"z\"].decompose(galactic).value,\n",
    "    vz=particle_data[\"v_z\"].decompose(galactic).value,\n",
    "    bins={\"z\": np.linspace(-2.5, 2.5, 155), \"vz\": np.linspace(-0.1, 0.1, 155)},\n",
    ")"
   ]
  },
  {
   "cell_type": "code",
   "execution_count": null,
   "id": "e7ee9eaa",
   "metadata": {},
   "outputs": [],
   "source": [
    "plt.pcolormesh(\n",
    "    data[\"vz\"], data[\"z\"], data[\"H\"], cmap=\"magma\", norm=mpl.colors.LogNorm()\n",
    ")\n",
    "plt.xlabel(\"$v_z$\")\n",
    "plt.ylabel(\"$z$\")"
   ]
  },
  {
   "cell_type": "markdown",
   "id": "d4597698",
   "metadata": {},
   "source": [
    "# Set up the internal model functions\n",
    "\n",
    "To recap the math behind this method, our model of the vertical kinematics will fit the phase-space density with a function $n(r_z)$, or the statistics of a stellar label with a function that specifies the variation of a stellar label over the vertical kinematic phase space $f(r_z)$. The argument $r_z$ is an invariant along a density contour and serves as a proxy for the vertical action (it is closely related to the square-root of the vertical action $r_z \\sim \\sqrt{J_z}$). This \"proxy action\" radius $r_z$ is a latent parameter for each star or pixel used when fitting the model to data, but it is computed internally in the model using the elliptical (polar) coordinates ($r_z', \\theta_z'$), which we can compute from vertical position $z$ and velocity $v_z$ given an axis ratio $\\Omega_0$:\n",
    "\n",
    "$$\n",
    "\\begin{align}\n",
    "r_z' &= \\sqrt{z^2\\,\\Omega_0 + v_z^2 / \\Omega_0} \\\\\n",
    "\\tan\\theta_z' &= \\frac{z}{v_z} \\, \\Omega_0\n",
    "\\end{align}\n",
    "$$\n",
    "\n",
    "The \"proxy action\" radius $r_z$ is then assumed to be a Fourier distortion away from the elliptical polar radius as:\n",
    "\n",
    "$$\n",
    "r_z = r_z' \\, (1 + \\sum_m e_m(r_z') \\, \\cos\\left(m \\, \\theta_z'\\right)\n",
    "$$\n",
    "\n",
    "where $\\Omega_0$ and the parameters of the functions $e_m(r_z')$ have to be determined from the data.\n",
    "\n",
    "Both the density function $n(r_z)$ (or label function $f(r_z)$) and the functions $e_m(r_z')$ are flexible and left up to the user of `empaf`: These must be specified as a first step when constructing an orbit model instance. For the density function, we could put in a rigid (few parameter) model like an exponential or power law, but here we will take a more flexible approach and represent the (log) density function as a quadratic spline function with fixed knot locations:"
   ]
  },
  {
   "cell_type": "code",
   "execution_count": null,
   "id": "41501cdb",
   "metadata": {},
   "outputs": [],
   "source": [
    "n_dens_knots = 15\n",
    "def ln_dens_func(rz, ln_dens_vals):\n",
    "    # Knot locations, spaced equally in sqrt(r_z)\n",
    "    xs = jnp.linspace(0, 1.0, n_dens_knots) ** 2\n",
    "    \n",
    "    spl = InterpolatedUnivariateSpline(xs, ln_dens_vals, k=2)\n",
    "    return spl(rz)"
   ]
  },
  {
   "cell_type": "markdown",
   "id": "c9c6fd27",
   "metadata": {},
   "source": [
    "So this model for the density function has 15 (`n_dens_knots=15`) parameters that specify the spline function values at the locations of the (fixed) knots in $r_z$.\n",
    "\n",
    "For optimizing later on, we will need to specify parameter bounds for the knot values -- here, I allow the (ln) density knot values to be between -10 and 20."
   ]
  },
  {
   "cell_type": "code",
   "execution_count": null,
   "id": "bc523a5b",
   "metadata": {},
   "outputs": [],
   "source": [
    "ln_dens_bounds = {\n",
    "    \"ln_dens_vals\": (\n",
    "        jnp.full(n_dens_knots, -5.0),\n",
    "        jnp.full(n_dens_knots, 25.0)\n",
    "    )\n",
    "}"
   ]
  },
  {
   "cell_type": "markdown",
   "id": "091a79dd",
   "metadata": {},
   "source": [
    "We now need to specify functions to control the dependence of the distortion coefficients $e_m(r_z')$. We have found that allowing $m$ to be either $m=\\{2, 4\\}$ can produce good representations of realistic phase-space densities, so we will work with just these two terms. In general, both of the distortion coefficient functions for these terms should go to zero at $r_z'=0$, so $e_2(0) = e_4(0) = 0$. For disk galaxy vertical kinematics, the $m=2$ distortion coefficient function should increase with $r_z'$ and the $m=4$ coefficient function should decrease (to negative values) for larger $r_z'$. \n",
    "\n",
    "Below we will specify Python functions for the $e_2(r_z')$ and $e_4(r_z')$ functions, and we will set initial parameter values and bounds for the parameters of these functions. We will use splines for these functions as well, but we will use a custom implementation of a monotonic quadratic spline:"
   ]
  },
  {
   "cell_type": "code",
   "execution_count": null,
   "id": "080c0c5f",
   "metadata": {},
   "outputs": [],
   "source": [
    "from empaf.model_helpers import monotonic_quadratic_spline\n",
    "\n",
    "n_e2_knots = 11\n",
    "n_e4_knots = 5\n",
    "\n",
    "\n",
    "def e2_func(rzp, e2_vals):\n",
    "    e2_knots = jnp.linspace(0, 1.0, n_e2_knots) ** 2\n",
    "    vals = monotonic_quadratic_spline(\n",
    "        e2_knots, jnp.concatenate((jnp.array([0.0]), e2_vals)), rzp\n",
    "    )\n",
    "    return vals\n",
    "\n",
    "\n",
    "def e4_func(rzp, e4_vals):\n",
    "    e4_knots = jnp.linspace(0, 1.0, n_e4_knots) ** 2\n",
    "    vals = monotonic_quadratic_spline(\n",
    "        e4_knots, jnp.concatenate((jnp.array([0.0]), e4_vals)), rzp\n",
    "    )\n",
    "    return -vals"
   ]
  },
  {
   "cell_type": "code",
   "execution_count": null,
   "id": "c2194af9",
   "metadata": {},
   "outputs": [],
   "source": [
    "e_params0 = {}\n",
    "e_bounds = {}\n",
    "# e_params0[2] = {\"e2_vals\": np.full(n_e2_knots - 1, 0.2)}\n",
    "e_params0[2] = {\"e2_vals\": np.linspace(1.5, 0.2, n_e2_knots - 1) / 0.6 * 0.2}\n",
    "e_params0[4] = {\"e4_vals\": np.full(n_e4_knots - 1, 0.08)}\n",
    "e_bounds[2] = {\"e2_vals\": (np.full(n_e2_knots-1, 0), np.full(n_e2_knots-1, 10))}\n",
    "e_bounds[4] = {\"e4_vals\": (np.full(n_e4_knots-1, 0), np.full(n_e4_knots-1, 10))}"
   ]
  },
  {
   "cell_type": "markdown",
   "id": "6bba161a",
   "metadata": {},
   "source": [
    "Let's visualize the functions at the initial parameter values:"
   ]
  },
  {
   "cell_type": "code",
   "execution_count": null,
   "id": "2f1ddf98",
   "metadata": {},
   "outputs": [],
   "source": [
    "grid = np.linspace(0, 1, 128)\n",
    "plt.plot(grid, e2_func(grid, **e_params0[2]))\n",
    "plt.plot(grid, e4_func(grid, **e_params0[4]))\n",
    "plt.xlabel(\"$r_z'$\")\n",
    "plt.ylabel(\"initial $e_m(r_z')$\")"
   ]
  },
  {
   "cell_type": "markdown",
   "id": "e483f8d2",
   "metadata": {},
   "source": [
    "# Define the model\n",
    "\n",
    "With functions specified for the log-density and $e_2$, $e_4$ coefficients, we are now ready to initialize a `DensityOrbitModel` instance:"
   ]
  },
  {
   "cell_type": "code",
   "execution_count": null,
   "id": "8a33a7f4",
   "metadata": {},
   "outputs": [],
   "source": [
    "model = DensityOrbitModel(\n",
    "    ln_dens_func=ln_dens_func,\n",
    "    e_funcs={2: e2_func, 4: e4_func},  # the keys are the \"m\" values\n",
    "    unit_sys=galactic,\n",
    ")"
   ]
  },
  {
   "cell_type": "markdown",
   "id": "10d8ee92",
   "metadata": {},
   "source": [
    "With functions defined and a unit system specified, we can use the model instance to estimate initial values for the density function parameters and other nuisance parameters of the model:"
   ]
  },
  {
   "cell_type": "code",
   "execution_count": null,
   "id": "f1caebb2",
   "metadata": {},
   "outputs": [],
   "source": [
    "params0 = model.get_params_init(\n",
    "    particle_data['z'], particle_data['v_z'], ln_dens_params0={'ln_dens_vals': np.zeros(15)}\n",
    ")\n",
    "params0"
   ]
  },
  {
   "cell_type": "markdown",
   "id": "f0e31584",
   "metadata": {},
   "source": [
    "As noted in the warning above, when passing in custom $e_funcs$, you must define your own initial parameter values for the function parameters -- we did that above, so now let's store those in the `params0` dictionary:"
   ]
  },
  {
   "cell_type": "code",
   "execution_count": null,
   "id": "c7f9a30b",
   "metadata": {},
   "outputs": [],
   "source": [
    "params0['e_params'] = e_params0"
   ]
  },
  {
   "cell_type": "markdown",
   "id": "e7ee9dc5",
   "metadata": {},
   "source": [
    "The other parameter values returned by the `get_params_init()` method -- `z0`, `vz0`, `ln_Omega` -- control other aspects of the model:\n",
    "- `z0`, `vz0` is zero-point location of the peak phase-space density (interpretable as the solar height and vertical velocity)\n",
    "- `ln_Omega` is the log of the asymptotic frequency at the midplane (i.e. $z=0$)\n",
    "\n",
    "Let's now visualize our initial model compared to the data: "
   ]
  },
  {
   "cell_type": "code",
   "execution_count": null,
   "id": "4cfd43cc",
   "metadata": {},
   "outputs": [],
   "source": [
    "vlim = dict(\n",
    "    norm=mpl.colors.LogNorm(vmax=3e4, vmin=1e-1), shading=\"auto\"\n",
    ")  # vmin=0, vmax=30)\n",
    "\n",
    "fig, axes = plt.subplots(\n",
    "    1, 2, figsize=(11, 5), sharex=True, sharey=True, constrained_layout=True\n",
    ")\n",
    "\n",
    "cs = axes[0].pcolormesh(data[\"vz\"], data[\"z\"], data[\"H\"], **vlim)\n",
    "\n",
    "cs = axes[1].pcolormesh(\n",
    "    data[\"vz\"],\n",
    "    data[\"z\"],\n",
    "    np.exp(model.ln_density(z=data[\"z\"], vz=data[\"vz\"], params=params0)),\n",
    "    **vlim\n",
    ")\n",
    "fig.colorbar(cs, ax=axes[:2])\n",
    "\n",
    "axes[0].set_title(\"data\")\n",
    "axes[1].set_title(\"initial model\")"
   ]
  },
  {
   "cell_type": "markdown",
   "id": "c00c44fc",
   "metadata": {},
   "source": [
    "Not a terrible initial guess, but clearly there are differences in the shapes of these distributions! Let's optimize the model. To do that, we have to specify bounds for all parameters in the model. We already specified bounds for the log-density function parameters and the $e_m$ function parameters, so below we will specify bounds for the other nuisance parameters (zero-point location and midplane frequency):"
   ]
  },
  {
   "cell_type": "code",
   "execution_count": null,
   "id": "436c7fdb",
   "metadata": {},
   "outputs": [],
   "source": [
    "bounds = {}\n",
    "\n",
    "_dens0 = [0.01, 2] * u.Msun / u.pc**3\n",
    "bounds[\"ln_Omega\"] = np.log(np.sqrt(_dens0 * 4 * np.pi * G).to_value(1 / u.Myr))\n",
    "bounds[\"z0\"] = (-0.05, 0.05)\n",
    "bounds[\"vz0\"] = (-0.02, 0.02)\n",
    "\n",
    "bounds[\"e_params\"] = e_bounds\n",
    "bounds[\"ln_dens_params\"] = ln_dens_bounds"
   ]
  },
  {
   "cell_type": "markdown",
   "id": "b634cb83",
   "metadata": {},
   "source": [
    "Let's make sure the model evaluates to a finite value at our initial parameter guess:"
   ]
  },
  {
   "cell_type": "code",
   "execution_count": null,
   "id": "a6381878",
   "metadata": {},
   "outputs": [],
   "source": [
    "model.objective(params0, data['z'], data['vz'], data['H'])"
   ]
  },
  {
   "cell_type": "markdown",
   "id": "468cc878",
   "metadata": {},
   "source": [
    "Now we are ready to optimize! "
   ]
  },
  {
   "cell_type": "code",
   "execution_count": null,
   "id": "d2c079ff",
   "metadata": {},
   "outputs": [],
   "source": [
    "res = model.optimize(\n",
    "    params0=params0, bounds=bounds, jaxopt_kwargs={\"tol\": 1e-10}, **data\n",
    ")\n",
    "res.state"
   ]
  },
  {
   "cell_type": "code",
   "execution_count": null,
   "id": "ac61cd57",
   "metadata": {},
   "outputs": [],
   "source": [
    "res.params"
   ]
  },
  {
   "cell_type": "markdown",
   "id": "abcd18f4",
   "metadata": {},
   "source": [
    "It looks like the optimizer succeeded! But does the fitted model look like a better representation of the phase-space density? Let's plot the data, initial model, fitted model, and residuals using a built-in convenience function:"
   ]
  },
  {
   "cell_type": "code",
   "execution_count": null,
   "id": "92f315d7",
   "metadata": {},
   "outputs": [],
   "source": [
    "fig, axes = plot_data_models_residual(data, model, params0, res.params)"
   ]
  },
  {
   "cell_type": "markdown",
   "id": "cca018af",
   "metadata": {},
   "source": [
    "What do the $e_m$ functions look like after fitting?"
   ]
  },
  {
   "cell_type": "code",
   "execution_count": null,
   "id": "022df71b",
   "metadata": {},
   "outputs": [],
   "source": [
    "plot_rz = np.linspace(0, 1, 301)\n",
    "es = model.get_es(plot_rz, res.params['e_params'])\n",
    "for m, ee in es.items():\n",
    "    plt.plot(plot_rz, ee, marker='', label=f\"$m={m}$\")\n",
    "\n",
    "    plt.legend(fontsize=16)\n",
    "plt.ylabel(\"$e_m(r_z')$ for $m=2,4$\")"
   ]
  },
  {
   "cell_type": "code",
   "execution_count": null,
   "id": "596d911b",
   "metadata": {},
   "outputs": [],
   "source": [
    "pars = res.params"
   ]
  },
  {
   "cell_type": "markdown",
   "id": "b1c69e8a",
   "metadata": {},
   "source": [
    "Finally, let's make one more diagnostic plot:"
   ]
  },
  {
   "cell_type": "code",
   "execution_count": null,
   "id": "f3cf4d6e",
   "metadata": {},
   "outputs": [],
   "source": [
    "# Compute model predicted density:\n",
    "plot_rz = np.linspace(1e-3, 0.55, 101)\n",
    "model_dens = np.exp(model.get_ln_dens(plot_rz, pars))\n",
    "\n",
    "# Compute rz values at image pixel locations:\n",
    "tmp_rzp, tmp_tzp = model.z_vz_to_rz_theta_prime(\n",
    "    data[\"z\"].astype(np.float64), data[\"vz\"].astype(np.float64), pars\n",
    ")\n",
    "im_rz = model.get_rz(tmp_rzp, tmp_tzp, pars[\"e_params\"])\n",
    "\n",
    "# Compute model implicit Omega_z vs. r_z function:\n",
    "tmp_z = np.array(\n",
    "    [model.get_z(plot_rz[n], np.pi / 2, pars) for n in range(len(plot_rz))]\n",
    ")\n",
    "tmp_rzp = np.array(\n",
    "    [model.get_rz_prime(plot_rz[n], 0.0, pars[\"e_params\"]) for n in range(len(plot_rz))]\n",
    ")\n",
    "\n",
    "tmp_aaf = model.compute_action_angle(\n",
    "    tmp_z * u.kpc, np.zeros_like(tmp_z) * u.km / u.s, pars, 101\n",
    ")\n",
    "model_Omega_z = tmp_aaf['Omega_z']\n",
    "\n",
    "# Compute Omega_z at image pixel locations:\n",
    "tmp_aaf = model.compute_action_angle(\n",
    "    data[\"z\"].ravel() * u.kpc, data[\"vz\"].ravel() * u.kpc / u.Myr, pars, 25\n",
    ")\n",
    "im_Omega_z = tmp_aaf['Omega_z']"
   ]
  },
  {
   "cell_type": "code",
   "execution_count": null,
   "id": "66c717d7",
   "metadata": {},
   "outputs": [],
   "source": [
    "# compute rz values for all particles:\n",
    "tmp_rzp, tmp_tzp = model.z_vz_to_rz_theta_prime(\n",
    "    particle_data[\"z\"].astype(np.float64), particle_data[\"v_z\"].astype(np.float64), pars\n",
    ")\n",
    "particle_rz = model.get_rz(tmp_rzp, tmp_tzp, pars[\"e_params\"])\n",
    "\n",
    "particle_aaf = model.compute_action_angle(\n",
    "    particle_data[\"z\"].astype(np.float64)[:10_000],\n",
    "    particle_data[\"v_z\"].astype(np.float64)[:10_000],\n",
    "    res.params,\n",
    "    21,\n",
    ")\n",
    "particle_aaf[:3]"
   ]
  },
  {
   "cell_type": "code",
   "execution_count": null,
   "id": "fa7cc25f",
   "metadata": {},
   "outputs": [],
   "source": [
    "dens = np.exp(model.ln_density(tmp_z, np.zeros_like(tmp_z), res.params))"
   ]
  },
  {
   "cell_type": "code",
   "execution_count": null,
   "id": "7d9e8716",
   "metadata": {},
   "outputs": [],
   "source": [
    "fig, axes = plt.subplots(1, 2, figsize=(12, 5), constrained_layout=True, sharex=True)\n",
    "\n",
    "ax = axes[0]\n",
    "ax.plot(plot_rz, model_Omega_z.value, zorder=100, marker='')\n",
    "ax.plot(\n",
    "    particle_rz[:len(particle_aaf)],\n",
    "    particle_aaf['Omega_z'].value,\n",
    "    ls=\"none\",\n",
    "    marker=\"o\",\n",
    "    mew=0,\n",
    "    alpha=0.2,\n",
    "    ms=3.0,\n",
    "    zorder=1000,\n",
    ")\n",
    "# ax.plot(\n",
    "#     im_rz.ravel(),\n",
    "#     im_Omega_z.value,\n",
    "#     ls=\"none\",\n",
    "#     marker=\"o\"\n",
    "# )\n",
    "ax.set_ylabel(r\"$\\Omega_z$ \" + f\"[{tmp_aaf['Omega_z'].unit:latex_inline}]\")\n",
    "\n",
    "axes[1].plot(plot_rz, dens, zorder=100)\n",
    "axes[1].plot(im_rz.ravel(), data['H'].ravel())\n",
    "axes[1].set_yscale(\"log\")\n",
    "\n",
    "for ax in axes:\n",
    "    ax.set_xlabel(r\"$r_z$\", fontsize=18)"
   ]
  },
  {
   "cell_type": "markdown",
   "id": "0ebca65c",
   "metadata": {},
   "source": [
    "Finally, we can plot a map of the inferred orbit shapes over the phase-space distribution:"
   ]
  },
  {
   "cell_type": "code",
   "execution_count": null,
   "id": "375c0eef",
   "metadata": {},
   "outputs": [],
   "source": [
    "grid_aaf = model.compute_action_angle(\n",
    "    data[\"z\"].ravel() * model.unit_sys[\"length\"],\n",
    "    data[\"vz\"].ravel() * model.unit_sys[\"length\"] / model.unit_sys[\"time\"],\n",
    "    params=res.params,\n",
    "    N_grid=25,\n",
    ")\n",
    "\n",
    "_rzp, _tzp = model.z_vz_to_rz_theta_prime(\n",
    "    data[\"z\"].ravel(), data[\"vz\"].ravel(), res.params\n",
    ")\n",
    "grid_rz = model.get_rz(_rzp, _tzp, res.params[\"e_params\"])"
   ]
  },
  {
   "cell_type": "code",
   "execution_count": null,
   "id": "0ca2d66b",
   "metadata": {},
   "outputs": [],
   "source": [
    "fig, axes = plt.subplots(1, 2, figsize=(10, 5), sharex=True, sharey=True, constrained_layout=True)\n",
    "\n",
    "for ax in axes:\n",
    "    ax.pcolormesh(\n",
    "        data['vz'],\n",
    "        data['z'],\n",
    "        data['H'],\n",
    "        cmap='Blues',\n",
    "        norm=mpl.colors.LogNorm()\n",
    "    )\n",
    "\n",
    "cs = axes[0].contour(\n",
    "    data[\"vz\"], data[\"z\"], grid_rz.reshape(data[\"z\"].shape),\n",
    "    colors='k',\n",
    "    levels=np.linspace(0, 0.5, 11)\n",
    ")\n",
    "axes[0].clabel(cs, cs.levels, inline=True, fontsize=10)\n",
    "axes[0].set_title('$r_z$')\n",
    "\n",
    "cs = axes[1].contour(\n",
    "    data[\"vz\"], data[\"z\"], np.sqrt(grid_aaf[\"J_z\"].value).reshape(data[\"z\"].shape),\n",
    "    colors='k',\n",
    "    levels=np.linspace(0, 0.5, 11)\n",
    ")\n",
    "axes[1].clabel(cs, cs.levels, inline=True, fontsize=10)\n",
    "axes[1].set_title(r'$\\sqrt{J_z}$')"
   ]
  },
  {
   "cell_type": "markdown",
   "id": "29a7b009",
   "metadata": {},
   "source": [
    "# Compute Actions, Angles, Frequencies with the fitted model\n",
    "\n",
    "With the model fitted to the orbital phase-space distribution, we can now use the model to compute empirical actions, angles, and frequencies for all (or a subset, for speed) stars that went into the initial histogram that we fit to:"
   ]
  },
  {
   "cell_type": "code",
   "execution_count": null,
   "id": "55dd2f4f",
   "metadata": {},
   "outputs": [],
   "source": [
    "model_aaf = model.compute_action_angle(\n",
    "    particle_data[\"z\"].astype(np.float64)[:100_000],\n",
    "    particle_data[\"v_z\"].astype(np.float64)[:100_000],\n",
    "    res.params,\n",
    "    21,\n",
    ")\n",
    "model_aaf[:3]"
   ]
  },
  {
   "cell_type": "markdown",
   "id": "eb8bdfa8",
   "metadata": {},
   "source": [
    "Let's compare our empirically-derived values to the \"truth\" from Agama:"
   ]
  },
  {
   "cell_type": "code",
   "execution_count": null,
   "id": "db27a407",
   "metadata": {},
   "outputs": [],
   "source": [
    "agamas = [\n",
    "    particle_data[\"J_z\"][:len(model_aaf)].value, \n",
    "    particle_data[\"Omega_z\"][:len(model_aaf)].value, \n",
    "    np.cos(particle_data[\"theta_z\"][:len(model_aaf)])\n",
    "]\n",
    "models = [\n",
    "    model_aaf[\"J_z\"].value,\n",
    "    model_aaf[\"Omega_z\"].value,\n",
    "    np.cos(model_aaf[\"theta_z\"]),\n",
    "]\n",
    "labels = [\"$J_z$\", r\"$\\Omega_z$\", r\"$\\cos\\theta_z$\"]\n",
    "\n",
    "fig, axes = plt.subplots(1, 3, figsize=(16, 5), constrained_layout=True)\n",
    "lims = [(0, 0.15), (0, 0.1), (-1, 1)]\n",
    "for ax, lim, x1, x2, label in zip(axes, lims, agamas, models, labels):\n",
    "    ax.hist2d(\n",
    "        x1,\n",
    "        x2,\n",
    "        bins=np.linspace(*lim, 128),\n",
    "        cmap=\"Greys\",\n",
    "        norm=mpl.colors.LogNorm(vmin=5e-1),\n",
    "    )\n",
    "\n",
    "    xx = np.linspace(*lim, 10)\n",
    "    ax.plot(xx, xx, marker=\"\", color=\"tab:green\", ls=\"--\", alpha=0.3)\n",
    "    ax.set_xlim(*lim)\n",
    "    ax.set_ylim(*lim)\n",
    "\n",
    "    ax.set_xlabel(f\"Agama {label}\")\n",
    "    ax.set_ylabel(f\"empaf {label}\")"
   ]
  },
  {
   "cell_type": "markdown",
   "id": "2d864554",
   "metadata": {},
   "source": [
    "Nice - those look great! "
   ]
  },
  {
   "cell_type": "code",
   "execution_count": null,
   "id": "ab05e4aa",
   "metadata": {},
   "outputs": [],
   "source": [
    "agamas = [\n",
    "    particle_data[\"J_z\"][:len(model_aaf)].value, \n",
    "    particle_data[\"Omega_z\"][:len(model_aaf)].value, \n",
    "    np.cos(particle_data[\"theta_z\"][:len(model_aaf)])\n",
    "#     particle_data[\"theta_z\"][:len(model_aaf)].value\n",
    "]\n",
    "models = [\n",
    "    model_aaf[\"J_z\"].value,\n",
    "    model_aaf[\"Omega_z\"].value,\n",
    "    np.cos(model_aaf[\"theta_z\"]),\n",
    "#     model_aaf[\"theta_z\"].value % (2*np.pi)\n",
    "]\n",
    "labels = [\"$J_z$\", r\"$\\Omega_z$\", r\"$\\cos\\theta_z$\"]\n",
    "\n",
    "fig, axes = plt.subplots(1, 3, figsize=(16, 5), constrained_layout=True)\n",
    "lims = [(0, 0.15), (0, 0.1), (-1, 1)]\n",
    "for ax, lim, x1, x2, label in zip(axes, lims, agamas, models, labels):\n",
    "    ax.hist2d(\n",
    "        x1,\n",
    "        (x2 - x1),\n",
    "        bins=(\n",
    "            np.linspace(*lim, 128),\n",
    "            np.linspace(-0.5*lim[1], 0.5*lim[1], 128)\n",
    "        ),\n",
    "        cmap=\"Greys\",\n",
    "        norm=mpl.colors.LogNorm(vmin=5e-1),\n",
    "    )\n",
    "\n",
    "    ax.axhline(0, marker=\"\", color=\"tab:green\", ls=\"--\", alpha=0.3)\n",
    "    ax.set_xlim(*lim)\n",
    "    # ax.set_ylim(-0.5, 0.5)\n",
    "    ax.set_ylim(-0.3*lim[1], 0.3*lim[1])\n",
    "\n",
    "    ax.set_xlabel(f\"Agama {label}\")\n",
    "    ax.set_ylabel(f\"empaf {label}\")\n",
    "    \n",
    "axes[2].set_ylim(-0.3, 0.3)"
   ]
  },
  {
   "cell_type": "markdown",
   "id": "2dbb040c",
   "metadata": {},
   "source": [
    "There is some bias at large and small frequency: this is because the distribution function we used to generate the particle data is nearly flat at $J_z\\sim 0$, so there is no constraining power to measure the shapes of density contours. In the opposite regime, the method is limited by particle (shot) noise at large $J_z$ or small $\\Omega_z$."
   ]
  },
  {
   "cell_type": "code",
   "execution_count": null,
   "id": "f9f39454",
   "metadata": {},
   "outputs": [],
   "source": []
  }
 ],
 "metadata": {
  "_draft": {
   "nbviewer_url": "https://gist.github.com/6305ea04089abca4190d4d4c431188be"
  },
  "gist": {
   "data": {
    "description": "projects/empirical-af/notebooks/Tutorial-density-model.ipynb",
    "public": true
   },
   "id": "6305ea04089abca4190d4d4c431188be"
  },
  "kernelspec": {
   "display_name": "apw-py310",
   "language": "python",
   "name": "apw-py310"
  },
  "language_info": {
   "codemirror_mode": {
    "name": "ipython",
    "version": 3
   },
   "file_extension": ".py",
   "mimetype": "text/x-python",
   "name": "python",
   "nbconvert_exporter": "python",
   "pygments_lexer": "ipython3",
   "version": "3.10.8"
  },
  "toc": {
   "base_numbering": 1,
   "nav_menu": {},
   "number_sections": true,
   "sideBar": true,
   "skip_h1_title": false,
   "title_cell": "Table of Contents",
   "title_sidebar": "Contents",
   "toc_cell": false,
   "toc_position": {},
   "toc_section_display": true,
   "toc_window_display": true
  }
 },
 "nbformat": 4,
 "nbformat_minor": 5
}
