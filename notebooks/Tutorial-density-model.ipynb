{
 "cells": [
  {
   "cell_type": "code",
   "execution_count": null,
   "id": "ddd62d55",
   "metadata": {},
   "outputs": [],
   "source": [
    "import copy\n",
    "import os\n",
    "\n",
    "from astropy.constants import G\n",
    "import astropy.table as at\n",
    "import astropy.coordinates as coord\n",
    "import astropy.units as u\n",
    "import matplotlib as mpl\n",
    "import matplotlib.pyplot as plt\n",
    "%matplotlib inline\n",
    "import numpy as np\n",
    "\n",
    "# gala\n",
    "import gala.coordinates as gc\n",
    "import gala.dynamics as gd\n",
    "import gala.potential as gp\n",
    "import gala.integrate as gi\n",
    "from gala.units import galactic\n",
    "\n",
    "import jax\n",
    "jax.config.update('jax_enable_x64', True)\n",
    "import jax.numpy as jnp\n",
    "from jax_cosmo.scipy.interpolate import InterpolatedUnivariateSpline\n",
    "\n",
    "from empaf import DensityOrbitModel\n",
    "from empaf.plot import plot_data_models_residual\n",
    "from empaf.model_helpers import generalized_logistic_func_alt"
   ]
  },
  {
   "cell_type": "markdown",
   "id": "4c4c356d",
   "metadata": {},
   "source": [
    "# Load test data\n",
    "\n",
    "Load some particle data generated in an equilibrium galaxy model:"
   ]
  },
  {
   "cell_type": "code",
   "execution_count": null,
   "id": "eb25d88c",
   "metadata": {},
   "outputs": [],
   "source": [
    "particle_data = at.QTable.read('../test-data/agama-galaxymodel-particles.fits')"
   ]
  },
  {
   "cell_type": "markdown",
   "id": "9e22d255",
   "metadata": {},
   "source": [
    "Bin the data and return bin locations and number counts:"
   ]
  },
  {
   "cell_type": "code",
   "execution_count": null,
   "id": "e5638962",
   "metadata": {},
   "outputs": [],
   "source": [
    "data = DensityOrbitModel.get_data_im(\n",
    "    particle_data[\"z\"].decompose(galactic).value,\n",
    "    particle_data[\"v_z\"].decompose(galactic).value,\n",
    "    bins={\"z\": np.linspace(-2.5, 2.5, 151), \"vz\": np.linspace(-0.1, 0.1, 151)},\n",
    ")"
   ]
  },
  {
   "cell_type": "code",
   "execution_count": null,
   "id": "e7ee9eaa",
   "metadata": {},
   "outputs": [],
   "source": [
    "plt.pcolormesh(\n",
    "    data[\"vz\"], data[\"z\"], data[\"H\"], cmap=\"magma\", norm=mpl.colors.LogNorm()\n",
    ")\n",
    "plt.xlabel(\"$v_z$\")\n",
    "plt.ylabel(\"$z$\")"
   ]
  },
  {
   "cell_type": "markdown",
   "id": "d4597698",
   "metadata": {},
   "source": [
    "# Set up the internal model functions\n",
    "\n",
    "To recap the math behind this method, our model of the vertical kinematics will fit the phase-space density with a function $n(r_z)$, or the statistics of a stellar label with a function that specifies the variation of a stellar label over the vertical kinematic phase space $f(r_z)$. The argument $r_z$ is an invariant along a density contour and serves as a proxy for the vertical action (it is closely related to the square-root of the vertical action $r_z \\sim \\sqrt{J_z}$). This \"proxy action\" radius $r_z$ is a latent parameter for each star or pixel used when fitting the model to data, but it is computed internally in the model using the elliptical (polar) coordinates ($r_z', \\theta_z'$), which we can compute from vertical position $z$ and velocity $v_z$ given an axis ratio $\\Omega_0$:\n",
    "\n",
    "$$\n",
    "\\begin{align}\n",
    "r_z' &= \\sqrt{z^2\\,\\Omega_0 + v_z^2 / \\Omega_0} \\\\\n",
    "\\tan\\theta_z' &= \\frac{z}{v_z} \\, \\Omega_0\n",
    "\\end{align}\n",
    "$$\n",
    "\n",
    "The \"proxy action\" radius $r_z$ is then assumed to be a Fourier distortion away from the elliptical polar radius as:\n",
    "\n",
    "$$\n",
    "r_z = r_z' \\, (1 + \\sum_m e_m(r_z') \\, \\cos\\left(m \\, \\theta_z'\\right)\n",
    "$$\n",
    "\n",
    "where $\\Omega_0$ and the parameters of the functions $e_m(r_z')$ have to be determined from the data.\n",
    "\n",
    "Both the density function $n(r_z)$ (or label function $f(r_z)$) and the functions $e_m(r_z')$ are flexible and left up to the user of `empaf`: These must be specified as a first step when constructing an orbit model instance. For the density function, we could put in a rigid (few parameter) model like an exponential or power law, but here we will take a more flexible approach and represent the (log) density function as a quadratic spline function with fixed knot locations:"
   ]
  },
  {
   "cell_type": "code",
   "execution_count": null,
   "id": "41501cdb",
   "metadata": {},
   "outputs": [],
   "source": [
    "n_dens_knots = 15\n",
    "def ln_dens_func(rz, ln_dens_vals):\n",
    "    # Knot locations, spaced equally in sqrt(r_z)\n",
    "    xs = jnp.linspace(0, 1.0, n_dens_knots) ** 2\n",
    "    \n",
    "    spl = InterpolatedUnivariateSpline(xs, ln_dens_vals, k=2)\n",
    "    return spl(rz)"
   ]
  },
  {
   "cell_type": "markdown",
   "id": "c9c6fd27",
   "metadata": {},
   "source": [
    "So this model for the density function has 15 (`n_dens_knots=15`) parameters that specify the spline function values at the locations of the (fixed) knots in $r_z$.\n",
    "\n",
    "For optimizing later on, we will need to specify parameter bounds for the knot values -- here, I allow the (ln) density knot values to be between -10 and 20."
   ]
  },
  {
   "cell_type": "code",
   "execution_count": null,
   "id": "bc523a5b",
   "metadata": {},
   "outputs": [],
   "source": [
    "ln_dens_bounds = {\n",
    "    \"ln_dens_vals\": (\n",
    "        jnp.full(n_dens_knots, -5.0),\n",
    "        jnp.full(n_dens_knots, 25.0)\n",
    "    )\n",
    "}"
   ]
  },
  {
   "cell_type": "markdown",
   "id": "091a79dd",
   "metadata": {},
   "source": [
    "We now need to specify functions to control the dependence of the distortion coefficients $e_m(r_z')$. We have found that allowing $m$ to be either $m=\\{2, 4\\}$ can produce good representations of realistic phase-space densities, so we will work with just these two terms. In general, both of the distortion coefficient functions for these terms should go to zero at $r_z'=0$, so $e_2(0) = e_4(0) = 0$. For disk galaxy vertical kinematics, the $m=2$ distortion coefficient function should increase with $r_z'$ and the $m=4$ coefficient function should decrease (to negative values) for larger $r_z'$. \n",
    "\n",
    "Below we will specify Python functions for the $e_2(r_z')$ and $e_4(r_z')$ functions, and we will set initial parameter values and bounds for the parameters of these functions:\n",
    "\n",
    "$$\n",
    "A \\, \\left[\\tanh\\left(\\left[\\frac{x-x_0}{h}\\right]^{1/\\alpha}\\right) \\right]^\\alpha\n",
    "$$"
   ]
  },
  {
   "cell_type": "code",
   "execution_count": null,
   "id": "080c0c5f",
   "metadata": {},
   "outputs": [],
   "source": [
    "from empaf.model_helpers import monotonic_poly_func_alt\n",
    "\n",
    "# def e2_func(rzp, f1, alpha, ln_x0):\n",
    "# #     return custom_tanh_func_alt(rzp, f_xval=f1, alpha=alpha, x0=np.exp(ln_x0), xval=1.)\n",
    "#     return monotonic_poly_func_alt(rzp, f0=0.0, fx=f1, alpha=alpha, x0=jnp.exp(ln_x0), xval=1.0)\n",
    "\n",
    "# def e2_func(rzp, rz0, f1, B, ln_C, ln_nu):\n",
    "#     return generalized_logistic_func_alt(\n",
    "#         rzp, t0=rz0, F1=f1, B=B, C=jnp.exp(ln_C), nu=jnp.exp(ln_nu)\n",
    "#     )\n",
    "\n",
    "n_e2_knots = 11\n",
    "def e2_func(rzp, e2_vals):\n",
    "    e2_knots = jnp.linspace(0, 1.0, n_e2_knots) ** 2\n",
    "    spl = InterpolatedUnivariateSpline(\n",
    "        e2_knots, jnp.cumsum(jnp.concatenate((jnp.array([0.]), e2_vals))), k=1\n",
    "    )\n",
    "    return spl(rzp)\n",
    "\n",
    "\n",
    "n_e4_knots = 5\n",
    "def e4_func(rzp, e4_vals):\n",
    "    e4_knots = jnp.linspace(0, 1.0, n_e4_knots) ** 2\n",
    "    spl = InterpolatedUnivariateSpline(\n",
    "        e4_knots, -jnp.cumsum(jnp.concatenate((jnp.array([0.]), e4_vals))), k=1\n",
    "    )\n",
    "    return spl(rzp)"
   ]
  },
  {
   "cell_type": "code",
   "execution_count": null,
   "id": "c2194af9",
   "metadata": {},
   "outputs": [],
   "source": [
    "e_params0 = {}\n",
    "e_bounds = {}\n",
    "\n",
    "# e_params0[2] = {\"f1\": 0.1, \"alpha\": 0.33, \"ln_x0\": 1.0}\n",
    "# e_bounds[2] = {\"f1\": (0, 0.8), \"alpha\": (0.2, 0.5), \"ln_x0\": (1, 8.0)}\n",
    "# e_params0[2] = {\"rz0\": 0.5, \"f1\": 0.1, \"B\": -2, \"ln_C\": -4, \"ln_nu\": np.log(0.4)}\n",
    "# e_bounds[2] = {\"rz0\": (-5, 5), \"f1\": (0, 1.), \"B\": (-10, 10), \"ln_C\": (-10, 4), \"ln_nu\": (-15, 15)}\n",
    "e_params0[2] = {\"e2_vals\": np.full(n_e2_knots - 1, 0.2 / n_e2_knots)}\n",
    "e_bounds[2] = {\"e2_vals\": (np.full(n_e2_knots-1, 0), np.full(n_e2_knots-1, 0.2))}\n",
    "\n",
    "e_params0[4] = {\"e4_vals\": np.full(n_e4_knots - 1, 0.08 / n_e4_knots)}\n",
    "e_bounds[4] = {\"e4_vals\": (np.full(n_e4_knots-1, 0), np.full(n_e4_knots-1, 0.2))}\n",
    "\n",
    "# e_params0[4] = {\"f1\": -0.06}\n",
    "# e_bounds[4] = {\"f1\": (-0.5, 0)}"
   ]
  },
  {
   "cell_type": "code",
   "execution_count": null,
   "id": "2f1ddf98",
   "metadata": {},
   "outputs": [],
   "source": [
    "grid = np.linspace(0, 1, 128)\n",
    "plt.plot(grid, e2_func(grid, **e_params0[2]))\n",
    "plt.plot(grid, e4_func(grid, **e_params0[4]))\n",
    "plt.xlabel(\"$r_z'$\")\n",
    "plt.ylabel(\"initial $e_m(r_z')$\")"
   ]
  },
  {
   "cell_type": "markdown",
   "id": "aa08cb73",
   "metadata": {},
   "source": [
    "We won't"
   ]
  },
  {
   "cell_type": "markdown",
   "id": "e483f8d2",
   "metadata": {},
   "source": [
    "# Define the model"
   ]
  },
  {
   "cell_type": "code",
   "execution_count": null,
   "id": "8a33a7f4",
   "metadata": {},
   "outputs": [],
   "source": [
    "model = DensityOrbitModel(\n",
    "    ln_dens_func=ln_dens_func,\n",
    "    e_funcs={2: e2_func, 4: e4_func},\n",
    "    unit_sys=galactic,\n",
    ")"
   ]
  },
  {
   "cell_type": "code",
   "execution_count": null,
   "id": "f1caebb2",
   "metadata": {},
   "outputs": [],
   "source": [
    "params0 = model.get_params_init(\n",
    "    particle_data['z'], particle_data['v_z'], ln_dens_params0={'ln_dens_vals': np.zeros(15)}\n",
    ")\n",
    "params0['ln_dens_params']['ln_dens_vals'] = jnp.abs(params0['ln_dens_params']['ln_dens_vals'])\n",
    "params0['e_params'] = e_params0"
   ]
  },
  {
   "cell_type": "code",
   "execution_count": null,
   "id": "3f40d270",
   "metadata": {},
   "outputs": [],
   "source": [
    "check, _ = model.check_e_funcs(params0[\"e_params\"])\n",
    "assert check"
   ]
  },
  {
   "cell_type": "code",
   "execution_count": null,
   "id": "4cfd43cc",
   "metadata": {},
   "outputs": [],
   "source": [
    "vlim = dict(\n",
    "    norm=mpl.colors.LogNorm(vmax=3e4, vmin=1e-1), shading=\"auto\"\n",
    ")  # vmin=0, vmax=30)\n",
    "\n",
    "fig, axes = plt.subplots(\n",
    "    1, 2, figsize=(11, 5), sharex=True, sharey=True, constrained_layout=True\n",
    ")\n",
    "\n",
    "cs = axes[0].pcolormesh(data[\"vz\"], data[\"z\"], data[\"H\"], **vlim)\n",
    "\n",
    "cs = axes[1].pcolormesh(\n",
    "    data[\"vz\"],\n",
    "    data[\"z\"],\n",
    "    np.exp(model.ln_density(z=data[\"z\"], vz=data[\"vz\"], params=params0)),\n",
    "    **vlim\n",
    ")\n",
    "fig.colorbar(cs, ax=axes[:2])\n",
    "\n",
    "axes[0].set_title(\"data\")\n",
    "axes[1].set_title(\"initial model\")"
   ]
  },
  {
   "cell_type": "code",
   "execution_count": null,
   "id": "436c7fdb",
   "metadata": {},
   "outputs": [],
   "source": [
    "bounds = {}\n",
    "\n",
    "_dens0 = [0.01, 2] * u.Msun / u.pc**3\n",
    "bounds[\"ln_Omega\"] = np.log(np.sqrt(_dens0 * 4 * np.pi * G).to_value(1 / u.Myr))\n",
    "bounds[\"z0\"] = (-0.05, 0.05)\n",
    "bounds[\"vz0\"] = (-0.02, 0.02)\n",
    "\n",
    "bounds[\"e_params\"] = e_bounds\n",
    "bounds[\"ln_dens_params\"] = ln_dens_bounds"
   ]
  },
  {
   "cell_type": "code",
   "execution_count": null,
   "id": "6a2405de",
   "metadata": {},
   "outputs": [],
   "source": [
    "bounds_l, bounds_r = model.unpack_bounds(bounds)"
   ]
  },
  {
   "cell_type": "code",
   "execution_count": null,
   "id": "752ca939",
   "metadata": {},
   "outputs": [],
   "source": [
    "model.objective(bounds_l, data['z'], data['vz'], data['H'])"
   ]
  },
  {
   "cell_type": "code",
   "execution_count": null,
   "id": "9809b3c5",
   "metadata": {},
   "outputs": [],
   "source": [
    "model.objective(bounds_r, data['z'], data['vz'], data['H'])"
   ]
  },
  {
   "cell_type": "code",
   "execution_count": null,
   "id": "a6381878",
   "metadata": {},
   "outputs": [],
   "source": [
    "model.objective(params0, data['z'], data['vz'], data['H'])"
   ]
  },
  {
   "cell_type": "code",
   "execution_count": null,
   "id": "d2c079ff",
   "metadata": {},
   "outputs": [],
   "source": [
    "res = model.optimize(\n",
    "    params0=params0,\n",
    "    bounds=bounds, \n",
    "    jaxopt_kwargs=dict(options=dict(maxls=1000, disp=False), tol=1e-8),\n",
    "    **data\n",
    ")\n",
    "res.state"
   ]
  },
  {
   "cell_type": "code",
   "execution_count": null,
   "id": "ac61cd57",
   "metadata": {},
   "outputs": [],
   "source": [
    "res.params"
   ]
  },
  {
   "cell_type": "code",
   "execution_count": null,
   "id": "92f315d7",
   "metadata": {},
   "outputs": [],
   "source": [
    "fig, axes = plot_data_models_residual(data, model, params0, res.params, smooth_residual=1.)"
   ]
  },
  {
   "cell_type": "code",
   "execution_count": null,
   "id": "8fee243d",
   "metadata": {},
   "outputs": [],
   "source": [
    "# model.compute_action_angle([0.]*u.kpc, [0]*u.km/u.s, res.params, 101)"
   ]
  },
  {
   "cell_type": "code",
   "execution_count": null,
   "id": "ce1d8276",
   "metadata": {},
   "outputs": [],
   "source": [
    "# model.compute_action_angle(np.zeros(1000)*u.kpc, np.zeros(1000)*u.km/u.s, res.params, 101)"
   ]
  },
  {
   "cell_type": "code",
   "execution_count": null,
   "id": "022df71b",
   "metadata": {},
   "outputs": [],
   "source": [
    "plot_rz = np.linspace(0, 1, 301)\n",
    "es = model.get_es(plot_rz, res.params['e_params'])\n",
    "for n, ee in es.items():\n",
    "    plt.plot(plot_rz, ee, marker='')"
   ]
  },
  {
   "cell_type": "code",
   "execution_count": null,
   "id": "7d9e8716",
   "metadata": {},
   "outputs": [],
   "source": [
    "pars = res.params\n",
    "\n",
    "plot_rz = np.linspace(1e-3, 0.55, 101)\n",
    "dens = np.exp(model.get_ln_dens(plot_rz, pars))\n",
    "tmp_z = np.array(\n",
    "    [model.get_z(plot_rz[n], np.pi / 2, pars) for n in range(len(plot_rz))]\n",
    ")\n",
    "tmp_rzp = np.array(\n",
    "    [\n",
    "        model.get_rz_prime(plot_rz[n], 0.0, pars[\"e_params\"])\n",
    "        for n in range(len(plot_rz))\n",
    "    ]\n",
    ")\n",
    "\n",
    "tmp_aaf = model.compute_action_angle(\n",
    "    tmp_z * u.kpc, np.zeros_like(tmp_z) * u.km / u.s, pars, 101\n",
    ")\n",
    "es = model.get_es(tmp_rzp, pars[\"e_params\"])\n",
    "\n",
    "tmp_rzp, tmp_tzp = model.z_vz_to_rz_theta_prime(\n",
    "    particle_data['z'].astype(np.float64), \n",
    "    particle_data['v_z'].astype(np.float64), \n",
    "    pars\n",
    ")\n",
    "agama_rz = model.get_rz(tmp_rzp, tmp_tzp, pars[\"e_params\"])\n",
    "\n",
    "fig, axes = plt.subplots(1, 3, figsize=(16, 5), constrained_layout=True, sharex=True)\n",
    "\n",
    "ax = axes[0]\n",
    "ax.plot(plot_rz, tmp_aaf[\"Omega_z\"].value, zorder=100)\n",
    "# ax.plot(\n",
    "#     agama_rz,\n",
    "#     agama_aaf[\"Omega_z\"].value,\n",
    "#     ls=\"none\",\n",
    "#     marker=\"o\",\n",
    "#     mew=0,\n",
    "#     alpha=0.2,\n",
    "#     ms=1.0,\n",
    "#     zorder=1,\n",
    "# )\n",
    "ax.set_ylabel(r\"$\\Omega_z$ \" + f\"[{tmp_aaf['Omega_z'].unit:latex_inline}]\")\n",
    "# ax.axhline(np.exp(pars[\"ln_Omega\"]), color=\"tab:orange\", ls=\"--\", alpha=0.4)\n",
    "# ax.axhline(asym_freq.value, color=\"tab:green\", ls=\"--\", alpha=0.4)\n",
    "\n",
    "for n in es:\n",
    "    axes[1].plot(plot_rz, es[n], label=f\"$e_{n}$\")\n",
    "axes[1].set_ylabel(\"$e_m(r_z')$\")\n",
    "\n",
    "axes[2].plot(plot_rz, dens)\n",
    "axes[2].set_yscale(\"log\")\n",
    "\n",
    "axes[1].legend()\n",
    "\n",
    "for ax in axes:\n",
    "    ax.set_xlabel(r\"$r_z$\")"
   ]
  },
  {
   "cell_type": "code",
   "execution_count": null,
   "id": "bf35e9f6",
   "metadata": {},
   "outputs": [],
   "source": [
    "# plt.scatter(es[2], tmp_aaf['Omega_z'])"
   ]
  },
  {
   "cell_type": "code",
   "execution_count": null,
   "id": "e819336c",
   "metadata": {},
   "outputs": [],
   "source": [
    "pars = res.params\n",
    "\n",
    "sqrtOm = np.sqrt(np.exp(pars[\"ln_Omega\"]))\n",
    "plot_rzp = np.linspace(0, 3, 101) * sqrtOm\n",
    "es = model.get_es(plot_rzp, pars[\"e_params\"])\n",
    "\n",
    "tmp_rz = model.get_rz(plot_rzp, np.zeros_like(plot_rzp), pars[\"e_params\"])\n",
    "dens = np.exp(model.get_ln_dens(tmp_rz, pars))\n",
    "tmp_aaf = model.compute_action_angle(\n",
    "    plot_rzp / sqrtOm * u.kpc, np.zeros_like(plot_rzp) * u.km / u.s, pars, 11\n",
    ")\n",
    "sqrtJz = np.sqrt(tmp_aaf[\"J_z\"].value)\n",
    "\n",
    "fig, axes = plt.subplots(1, 3, figsize=(16, 5), constrained_layout=True, sharex=True)\n",
    "\n",
    "ax = axes[0]\n",
    "ax.plot(sqrtJz, tmp_aaf[\"Omega_z\"].value, zorder=100)\n",
    "ax.plot(\n",
    "    np.sqrt(agama_aaf[\"J_z\"].value),\n",
    "    agama_aaf[\"Omega_z\"].value,\n",
    "    ls=\"none\",\n",
    "    marker=\"o\",\n",
    "    mew=0,\n",
    "    alpha=0.2,\n",
    "    ms=1.0,\n",
    "    zorder=1,\n",
    ")\n",
    "ax.set_ylabel(r\"$\\Omega_z$ \" + f\"[{tmp_aaf['Omega_z'].unit:latex_inline}]\")\n",
    "ax.axhline(np.exp(pars[\"ln_Omega\"]), color=\"tab:orange\", ls=\"--\", alpha=0.4)\n",
    "ax.axhline(asym_freq.value, color=\"tab:green\", ls=\"--\", alpha=0.4)\n",
    "\n",
    "for n in es:\n",
    "    axes[1].plot(sqrtJz, es[n], label=f\"$e_{n}$\")\n",
    "axes[2].plot(sqrtJz, dens)\n",
    "axes[2].set_yscale(\"log\")\n",
    "\n",
    "axes[1].legend()\n",
    "\n",
    "for ax in axes:\n",
    "    ax.set_xlabel(r\"$\\sqrt{J_z}'$\")"
   ]
  },
  {
   "cell_type": "code",
   "execution_count": null,
   "id": "375c0eef",
   "metadata": {},
   "outputs": [],
   "source": [
    "grid_aaf = model.compute_action_angle(\n",
    "    data[\"z\"].ravel() * model.unit_sys[\"length\"],\n",
    "    data[\"vz\"].ravel() * model.unit_sys[\"length\"] / model.unit_sys[\"time\"],\n",
    "    params=res.params,\n",
    "    N_grid=11,\n",
    ")\n",
    "\n",
    "_rzp, _tzp = model.z_vz_to_rz_theta_prime(\n",
    "    data[\"z\"].ravel(), data[\"vz\"].ravel(), res.params\n",
    ")\n",
    "grid_rz = model.get_rz(_rzp, _tzp, res.params[\"e_params\"])"
   ]
  },
  {
   "cell_type": "code",
   "execution_count": null,
   "id": "0ca2d66b",
   "metadata": {},
   "outputs": [],
   "source": [
    "fig, axes = plt.subplots(1, 2, figsize=(10, 5), sharex=True, sharey=True, constrained_layout=True)\n",
    "\n",
    "for ax in axes:\n",
    "    ax.pcolormesh(\n",
    "        data['vz'],\n",
    "        data['z'],\n",
    "        data['H'],\n",
    "        cmap='Blues',\n",
    "        norm=mpl.colors.LogNorm()\n",
    "    )\n",
    "\n",
    "cs = axes[0].contour(\n",
    "    data[\"vz\"], data[\"z\"], grid_rz.reshape(data[\"z\"].shape),\n",
    "    # cmap='turbo',\n",
    "    colors='k',\n",
    "    levels=np.linspace(0, 0.5, 11)\n",
    ")\n",
    "axes[0].clabel(cs, cs.levels, inline=True, fontsize=10)\n",
    "axes[0].set_title('$r_z$')\n",
    "\n",
    "cs = axes[1].contour(\n",
    "    data[\"vz\"], data[\"z\"], np.sqrt(grid_aaf[\"J_z\"].value).reshape(data[\"z\"].shape),\n",
    "    # cmap='turbo',\n",
    "    colors='k',\n",
    "    levels=np.linspace(0, 0.5, 11)\n",
    ")\n",
    "axes[1].clabel(cs, cs.levels, inline=True, fontsize=10)\n",
    "axes[1].set_title(r'$\\sqrt{J_z}$')"
   ]
  },
  {
   "cell_type": "markdown",
   "id": "58a5c342",
   "metadata": {},
   "source": [
    "Zoom in:"
   ]
  },
  {
   "cell_type": "code",
   "execution_count": null,
   "id": "bb0a0822",
   "metadata": {},
   "outputs": [],
   "source": [
    "zgrid, vzgrid = np.meshgrid(np.linspace(-0.2, 0.2, 128), np.linspace(-0.014, 0.014, 128))\n",
    "\n",
    "zoom_grid_aaf = model.compute_action_angle(\n",
    "    zgrid.ravel() * u.kpc,\n",
    "    vzgrid.ravel() * u.kpc/u.Myr,\n",
    "    params=res.params,\n",
    "    N_grid=21,\n",
    ")\n",
    "\n",
    "_rzp, _tzp = model.z_vz_to_rz_theta_prime(\n",
    "    zgrid.ravel(), vzgrid.ravel(), res.params\n",
    ")\n",
    "zoom_grid_rz = model.get_rz(_rzp, _tzp, res.params[\"e_params\"])"
   ]
  },
  {
   "cell_type": "code",
   "execution_count": null,
   "id": "851353a9",
   "metadata": {},
   "outputs": [],
   "source": [
    "fig, axes = plt.subplots(1, 2, figsize=(10, 5), sharex=True, sharey=True, constrained_layout=True)\n",
    "\n",
    "for ax in axes:\n",
    "    ax.pcolormesh(\n",
    "        data['vz'],\n",
    "        data['z'],\n",
    "        data['H'],\n",
    "        cmap='Blues',\n",
    "        norm=mpl.colors.LogNorm(),\n",
    "        zorder=-100\n",
    "    )\n",
    "\n",
    "cs = axes[0].contour(\n",
    "    vzgrid, zgrid, zoom_grid_rz.reshape(zgrid.shape),\n",
    "    # cmap='turbo',\n",
    "    colors='k',\n",
    "    levels=np.linspace(0, 0.07, 15),\n",
    "    zorder=100\n",
    ")\n",
    "axes[0].clabel(cs, cs.levels, inline=True, fontsize=10)\n",
    "axes[0].set_title('$r_z$')\n",
    "\n",
    "cs = axes[1].contour(\n",
    "    vzgrid, zgrid, np.sqrt(zoom_grid_aaf[\"J_z\"].value).reshape(zgrid.shape),\n",
    "    # cmap='turbo',\n",
    "    colors='k',\n",
    "    levels=np.linspace(0, 0.07, 15), \n",
    "    zorder=100\n",
    ")\n",
    "axes[1].clabel(cs, cs.levels, inline=True, fontsize=10, zorder=100)\n",
    "axes[1].set_title(r'$\\sqrt{J_z}$')\n",
    "\n",
    "axes[0].set_xlim(vzgrid.min(), vzgrid.max())\n",
    "axes[0].set_ylim(zgrid.min(), zgrid.max())"
   ]
  },
  {
   "cell_type": "code",
   "execution_count": null,
   "id": "90b344e4",
   "metadata": {},
   "outputs": [],
   "source": [
    "# plot_rz = model.get_rz(plot_rzp, np.zeros_like(plot_rzp), res.params['e_params'])\n",
    "# # plt.plot(plot_rzp, np.sqrt(tmp_aaf['J_z']))\n",
    "# plt.plot(plot_rz, np.sqrt(tmp_aaf['J_z']))\n",
    "# plt.xlabel('$r_z$')\n",
    "# plt.ylabel(r'$\\sqrt{J_z}$')"
   ]
  },
  {
   "cell_type": "code",
   "execution_count": null,
   "id": "e5d43753",
   "metadata": {},
   "outputs": [],
   "source": [
    "# plt.plot(np.sqrt(grid_Jzs), grid_Omega_zs)\n",
    "# plt.plot(sqrtJz, tmp_aaf[\"Omega_z\"].value)"
   ]
  },
  {
   "cell_type": "code",
   "execution_count": null,
   "id": "860aee9b",
   "metadata": {},
   "outputs": [],
   "source": [
    "# model_H = np.exp(model.ln_density(z=data[\"z\"], vz=data[\"vz\"], params=res.params))"
   ]
  },
  {
   "cell_type": "code",
   "execution_count": null,
   "id": "e1feac1c",
   "metadata": {},
   "outputs": [],
   "source": [
    "# H, xe = np.histogram(np.sqrt(agama_aaf['J_z'].value), bins=np.linspace(0, 0.5, 101))\n",
    "# xc = 0.5 * (xe[:-1] + xe[1:])\n",
    "\n",
    "# huh = np.diff(data['vz'][0])[0] * np.diff(data['z'][:, 0])[0]\n",
    "\n",
    "# plt.plot(xc, H / np.diff(xe) * huh / np.sqrt(xc))\n",
    "# plt.yscale('log')"
   ]
  },
  {
   "cell_type": "code",
   "execution_count": null,
   "id": "c921a963",
   "metadata": {},
   "outputs": [],
   "source": [
    "# thp = np.linspace(0, 2*np.pi, 256)\n",
    "# for rzp in np.linspace(0, 3.0, 16):\n",
    "#     plt.plot(thp, model.get_rz(rzp, thp), marker='')"
   ]
  },
  {
   "cell_type": "markdown",
   "id": "29a7b009",
   "metadata": {},
   "source": [
    "### Compute AAF"
   ]
  },
  {
   "cell_type": "code",
   "execution_count": null,
   "id": "55dd2f4f",
   "metadata": {},
   "outputs": [],
   "source": [
    "model_aaf = model.compute_action_angle(\n",
    "    # tbl[\"z\"].astype(np.float64)[:1_000_000],\n",
    "    # tbl[\"vz\"].astype(np.float64)[:1_000_000],\n",
    "    particle_data[\"z\"].astype(np.float64)[:100_000],\n",
    "    particle_data[\"v_z\"].astype(np.float64)[:100_000],\n",
    "    res.params,\n",
    "    21,\n",
    ")\n",
    "model_aaf[:3]"
   ]
  },
  {
   "cell_type": "code",
   "execution_count": null,
   "id": "db27a407",
   "metadata": {},
   "outputs": [],
   "source": [
    "agamas = [\n",
    "    agama_aaf[\"J_z\"][:len(model_aaf)], \n",
    "    agama_aaf[\"Omega_z\"][:len(model_aaf)], \n",
    "    np.cos(agama_aaf[\"theta_z\"][:len(model_aaf)])\n",
    "]\n",
    "models = [\n",
    "    model_aaf[\"J_z\"].value,\n",
    "    model_aaf[\"Omega_z\"].value,\n",
    "    np.cos(model_aaf[\"theta_z\"]),\n",
    "]\n",
    "labels = [\"$J_z$\", r\"$\\Omega_z$\", r\"$\\cos\\theta_z$\"]\n",
    "\n",
    "fig, axes = plt.subplots(1, 3, figsize=(16, 5), constrained_layout=True)\n",
    "lims = [(0, 0.15), (0, 0.1), (-1, 1)]\n",
    "for ax, lim, x1, x2, label in zip(axes, lims, agamas, models, labels):\n",
    "    ax.hist2d(\n",
    "        x1,\n",
    "        x2,\n",
    "        bins=np.linspace(*lim, 128),\n",
    "        cmap=\"Greys\",\n",
    "        norm=mpl.colors.LogNorm(vmin=5e-1),\n",
    "    )\n",
    "\n",
    "    xx = np.linspace(*lim, 10)\n",
    "    ax.plot(xx, xx, marker=\"\", color=\"tab:green\", ls=\"--\", alpha=0.3)\n",
    "    ax.set_xlim(*lim)\n",
    "    ax.set_ylim(*lim)\n",
    "\n",
    "    ax.set_xlabel(f\"Agama {label}\")\n",
    "    ax.set_ylabel(f\"empaf {label}\")"
   ]
  },
  {
   "cell_type": "code",
   "execution_count": null,
   "id": "ab05e4aa",
   "metadata": {},
   "outputs": [],
   "source": [
    "agamas = [\n",
    "    agama_aaf[\"J_z\"][:len(model_aaf)], \n",
    "    agama_aaf[\"Omega_z\"][:len(model_aaf)], \n",
    "    # np.cos(agama_aaf[\"theta_z\"][:len(model_aaf)])\n",
    "    agama_aaf[\"theta_z\"][:len(model_aaf)]\n",
    "]\n",
    "models = [\n",
    "    model_aaf[\"J_z\"].value,\n",
    "    model_aaf[\"Omega_z\"].value,\n",
    "    # np.cos(model_aaf[\"theta_z\"]),\n",
    "    model_aaf[\"theta_z\"].value % (2*np.pi)\n",
    "]\n",
    "labels = [\"$J_z$\", r\"$\\Omega_z$\", r\"$\\cos\\theta_z$\"]\n",
    "\n",
    "fig, axes = plt.subplots(1, 3, figsize=(16, 5), constrained_layout=True)\n",
    "# lims = [(0, 0.15), (0, 0.1), (-1, 1)]\n",
    "lims = [(0, 0.15), (0, 0.1), (0, 2*np.pi)]\n",
    "for ax, lim, x1, x2, label in zip(axes, lims, agamas, models, labels):\n",
    "    ax.hist2d(\n",
    "        x1,\n",
    "        (x2 - x1),\n",
    "        bins=(\n",
    "            np.linspace(*lim, 128),\n",
    "            np.linspace(-0.5*lim[1], 0.5*lim[1], 128)\n",
    "        ),\n",
    "        cmap=\"Greys\",\n",
    "        norm=mpl.colors.LogNorm(vmin=5e-1),\n",
    "    )\n",
    "\n",
    "    ax.axhline(0, marker=\"\", color=\"tab:green\", ls=\"--\", alpha=0.3)\n",
    "    ax.set_xlim(*lim)\n",
    "    # ax.set_ylim(-0.5, 0.5)\n",
    "    ax.set_ylim(-0.3*lim[1], 0.3*lim[1])\n",
    "\n",
    "    ax.set_xlabel(f\"Agama {label}\")\n",
    "    ax.set_ylabel(f\"empaf {label}\")\n",
    "    \n",
    "axes[2].set_ylim(-0.3, 0.3)"
   ]
  },
  {
   "cell_type": "code",
   "execution_count": null,
   "id": "f9f39454",
   "metadata": {},
   "outputs": [],
   "source": []
  },
  {
   "cell_type": "markdown",
   "id": "6df620f7",
   "metadata": {},
   "source": [
    "---"
   ]
  },
  {
   "cell_type": "markdown",
   "id": "b63cfa31",
   "metadata": {},
   "source": [
    "Compare a 10% different Agama potential to truth:"
   ]
  },
  {
   "cell_type": "code",
   "execution_count": null,
   "id": "0bc5e1a8",
   "metadata": {},
   "outputs": [],
   "source": [
    "agama_pot2 = agama.Potential(\n",
    "    dict(type='miyamotonagai', mass=6.8e10 * 1.1, scaleradius=3.0, scaleheight=0.28 * 0.9),\n",
    "    dict(type='dehnen', mass=5.00e9, scaleradius=1.0),\n",
    "    dict(type='dehnen', mass=1.71e9, scaleradius=0.07),\n",
    "    dict(type='nfw',    mass=5.4e11, scaleradius=15.62),\n",
    ")\n",
    "\n",
    "act_finder2 = agama.ActionFinder(agama_pot2)\n",
    "agama_act2, agama_ang2, agama_freq2 = act_finder2(xv, angles=True)\n",
    "agama_aaf2 = at.Table({\n",
    "    \"J_z\": agama_act2[:, 1],\n",
    "    \"theta_z\": agama_ang2[:, 1],\n",
    "    \"Omega_z\": agama_freq2[:, 1],\n",
    "    \"T_z\": 2*np.pi / agama_freq2[:, 1]\n",
    "})"
   ]
  },
  {
   "cell_type": "code",
   "execution_count": null,
   "id": "5a2f74df",
   "metadata": {},
   "outputs": [],
   "source": [
    "agamas = [agama_aaf['J_z'], agama_aaf['Omega_z'], np.cos(agama_aaf['theta_z'])]\n",
    "models = [agama_aaf2['J_z'], agama_aaf2['Omega_z'], np.cos(agama_aaf2['theta_z'])]\n",
    "labels = [\"$J_z$\", r\"$\\Omega_z$\", r\"$\\cos\\theta_z$\"]\n",
    "\n",
    "fig, axes = plt.subplots(1, 3, figsize=(16, 5), constrained_layout=True)\n",
    "lims = [(0, 0.15), (0, 0.1), (-1, 1)]\n",
    "for ax, lim, x1, x2, label in zip(axes, lims, agamas, models, labels):\n",
    "    ax.hist2d(x1, x2, bins=np.linspace(*lim, 128), \n",
    "              cmap='Greys', norm=mpl.colors.LogNorm(vmin=1e1))\n",
    "    \n",
    "    xx = np.linspace(*lim, 10)\n",
    "    ax.plot(xx, xx, marker='', color='tab:green', ls='--', alpha=0.3)\n",
    "    ax.set_xlim(*lim)\n",
    "    ax.set_ylim(*lim)\n",
    "    \n",
    "    ax.set_xlabel(f\"agama {label}\")\n",
    "    ax.set_ylabel(f\"agama2 {label}\")"
   ]
  },
  {
   "cell_type": "code",
   "execution_count": null,
   "id": "11341301",
   "metadata": {},
   "outputs": [],
   "source": []
  }
 ],
 "metadata": {
  "kernelspec": {
   "display_name": "Python [conda env:root] *",
   "language": "python",
   "name": "conda-root-py"
  },
  "language_info": {
   "codemirror_mode": {
    "name": "ipython",
    "version": 3
   },
   "file_extension": ".py",
   "mimetype": "text/x-python",
   "name": "python",
   "nbconvert_exporter": "python",
   "pygments_lexer": "ipython3",
   "version": "3.10.4"
  },
  "toc": {
   "base_numbering": 1,
   "nav_menu": {},
   "number_sections": true,
   "sideBar": true,
   "skip_h1_title": false,
   "title_cell": "Table of Contents",
   "title_sidebar": "Contents",
   "toc_cell": false,
   "toc_position": {},
   "toc_section_display": true,
   "toc_window_display": false
  }
 },
 "nbformat": 4,
 "nbformat_minor": 5
}
