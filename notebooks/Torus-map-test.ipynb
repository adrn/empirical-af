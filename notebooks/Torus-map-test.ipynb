{
 "cells": [
  {
   "cell_type": "code",
   "execution_count": null,
   "id": "ddd62d55",
   "metadata": {},
   "outputs": [],
   "source": [
    "import os\n",
    "\n",
    "import astropy.table as at\n",
    "import astropy.coordinates as coord\n",
    "import astropy.units as u\n",
    "import matplotlib as mpl\n",
    "import matplotlib.pyplot as plt\n",
    "%matplotlib inline\n",
    "import numpy as np\n",
    "\n",
    "# gala\n",
    "import gala.coordinates as gc\n",
    "import gala.dynamics as gd\n",
    "import gala.potential as gp\n",
    "import gala.integrate as gi\n",
    "from gala.units import galactic\n",
    "\n",
    "import jax\n",
    "jax.config.update('jax_enable_x64', True)\n",
    "import jax.numpy as jnp\n",
    "\n",
    "from empaf import DensityOrbitModel\n",
    "from empaf.plot import plot_data_models_residual"
   ]
  },
  {
   "cell_type": "code",
   "execution_count": null,
   "id": "e66bf6bb",
   "metadata": {},
   "outputs": [],
   "source": [
    "import sys\n",
    "sys.path.append('/mnt/home/apricewhelan/downloads/Agama-zone/')\n",
    "import agama\n",
    "agama.setUnits(mass=u.Msun, length=u.kpc, time=u.Myr)"
   ]
  },
  {
   "cell_type": "markdown",
   "id": "22250e8c",
   "metadata": {},
   "source": [
    "### Use Agama to sample z,vz:"
   ]
  },
  {
   "cell_type": "code",
   "execution_count": null,
   "id": "655c1f70",
   "metadata": {},
   "outputs": [],
   "source": [
    "gala_pot = gp.MilkyWayPotential()\n",
    "agama_pot = agama.Potential(\n",
    "    dict(type='miyamotonagai', mass=6.8e10, scaleradius=3.0, scaleheight=0.28),\n",
    "    dict(type='dehnen', mass=5.00e9, scaleradius=1.0),\n",
    "    dict(type='dehnen', mass=1.71e9, scaleradius=0.07),\n",
    "    dict(type='nfw',    mass=5.4e11, scaleradius=15.62),\n",
    ")"
   ]
  },
  {
   "cell_type": "code",
   "execution_count": null,
   "id": "d7b3340c",
   "metadata": {},
   "outputs": [],
   "source": [
    "vcirc = 229 * u.km/u.s\n",
    "Rsun = 8.275 * u.kpc\n",
    "\n",
    "Jphi0 = (vcirc * Rsun).decompose(galactic).value\n",
    "dJphi = 0.22 * 8. * 0.04\n",
    "dJr   = 0.05 * 1. * 0.04\n",
    "dJz   = 0.04 * 0.5\n",
    "\n",
    "N     = 50_000_000\n",
    "def df(J):\n",
    "    Jr, Jz, Jphi = J.T\n",
    "    return np.exp(-0.5*Jr**2/dJr**2 - 0.5*((Jphi-Jphi0)/dJphi)**2 - np.abs(Jz)/dJz)\n",
    "\n",
    "if not os.path.exists('../test-data/agama-galaxymodel-df.npy'):\n",
    "    gm = agama.GalaxyModel(agama_pot, df)\n",
    "    xv = gm.sample(N)[0]\n",
    "    np.save('../test-data/agama-galaxymodel-df.npy', xv)\n",
    "else:\n",
    "    xv = np.load('../test-data/agama-galaxymodel-df.npy')\n",
    "    \n",
    "xv = xv[:1_000_000]"
   ]
  },
  {
   "cell_type": "code",
   "execution_count": null,
   "id": "afaeda77",
   "metadata": {},
   "outputs": [],
   "source": [
    "act_finder = agama.ActionFinder(agama_pot)\n",
    "agama_act, agama_ang, agama_freq = act_finder(xv, angles=True)\n",
    "agama_aaf = at.Table({\n",
    "    \"J_z\": agama_act[:, 1],\n",
    "    \"theta_z\": agama_ang[:, 1],\n",
    "    \"Omega_z\": agama_freq[:, 1],\n",
    "    \"T_z\": 2*np.pi / agama_freq[:, 1]\n",
    "})"
   ]
  },
  {
   "cell_type": "code",
   "execution_count": null,
   "id": "bb900e80",
   "metadata": {},
   "outputs": [],
   "source": [
    "from astropy.constants import G\n",
    "nu = (0.075/u.Myr)\n",
    "(nu**2 / G).to(u.Msun/u.pc**3) / (4*np.pi)"
   ]
  },
  {
   "cell_type": "code",
   "execution_count": null,
   "id": "7bd977c1",
   "metadata": {},
   "outputs": [],
   "source": [
    "gala_pot.density([8., 0, 0]).to(u.Msun/u.pc**3)"
   ]
  },
  {
   "cell_type": "code",
   "execution_count": null,
   "id": "0ec6550c",
   "metadata": {},
   "outputs": [],
   "source": [
    "# w = gd.PhaseSpacePosition.from_w(xv.T, units=galactic)\n",
    "# w.plot();"
   ]
  },
  {
   "cell_type": "code",
   "execution_count": null,
   "id": "afb2ccdf",
   "metadata": {},
   "outputs": [],
   "source": [
    "# for shift in [0, 3]:\n",
    "#     fig, axes = plt.subplots(\n",
    "#         1, 3, figsize=(15, 5), sharex=True, sharey=True, constrained_layout=True\n",
    "#     )\n",
    "#     for i, ax in enumerate(axes):\n",
    "#         ax.hist(xv[:, i + shift], bins=151)"
   ]
  },
  {
   "cell_type": "code",
   "execution_count": null,
   "id": "f96cb110",
   "metadata": {},
   "outputs": [],
   "source": [
    "# plt.hist2d(xv[:, 5], xv[:, 2], bins=(np.linspace(-0.08, 0.08, 101), np.linspace(-2, 2, 101)));\n",
    "# plt.xlabel('$v_z$')\n",
    "# plt.ylabel('$z$')"
   ]
  },
  {
   "cell_type": "code",
   "execution_count": null,
   "id": "e7ee9eaa",
   "metadata": {},
   "outputs": [],
   "source": [
    "# tbl = at.Table.read('../scripts/zvz-random.fits')\n",
    "# tbl = tbl.filled()\n",
    "# tbl = tbl[np.abs(tbl['vz']) < 0.08]\n",
    "\n",
    "# tbl['z'].unit = u.kpc\n",
    "# tbl['vz'].unit = u.kpc/u.Myr\n",
    "# tbl = at.QTable(tbl)\n",
    "\n",
    "tbl = at.QTable()\n",
    "tbl['z'] = xv[:, 2] * u.kpc\n",
    "tbl['vz'] = xv[:, 5] * u.kpc/u.Myr\n",
    "\n",
    "bins = (np.linspace(-0.1, 0.1, 151), np.linspace(-2.5, 2.5, 151))\n",
    "plt.hist2d(\n",
    "    tbl['vz'].value,\n",
    "    tbl['z'].value,\n",
    "    bins=bins,\n",
    "    norm=mpl.colors.LogNorm(),\n",
    ")\n",
    "plt.xlim(bins[0].min(), bins[0].max())\n",
    "plt.ylim(bins[1].min(), bins[1].max())\n",
    "plt.xlabel(\"$v_z$\")\n",
    "plt.ylabel(\"$z$\")"
   ]
  },
  {
   "cell_type": "code",
   "execution_count": null,
   "id": "8a33a7f4",
   "metadata": {},
   "outputs": [],
   "source": [
    "init_model = DensityOrbitModel(\n",
    "    ln_dens_knots=jnp.linspace(0, np.sqrt(1.5), 21) ** 2,\n",
    "    e_knots={\n",
    "        2: jnp.linspace(0, np.sqrt(3), 15) ** 2,\n",
    "        4: jnp.linspace(0, np.sqrt(3), 9) ** 2,\n",
    "        # 6: jnp.linspace(0, np.sqrt(3), 5) ** 2,\n",
    "        # 8: jnp.linspace(0, np.sqrt(3), 5) ** 2,\n",
    "    },\n",
    "    e_signs={2: 1.0, 4: -1.0}, # , 6: -1.0, 8: -1.0},\n",
    "    unit_sys=galactic,\n",
    ")"
   ]
  },
  {
   "cell_type": "code",
   "execution_count": null,
   "id": "15baf09b",
   "metadata": {},
   "outputs": [],
   "source": [
    "model0 = init_model.get_params_init(tbl['z'], tbl['vz'])\n",
    "model = model0.copy()\n",
    "params0 = model0.get_params()\n",
    "model0.state"
   ]
  },
  {
   "cell_type": "code",
   "execution_count": null,
   "id": "887a7444",
   "metadata": {},
   "outputs": [],
   "source": [
    "im_bins = {'z': np.linspace(-2, 2, 151)}\n",
    "im_bins['vz'] = im_bins['z'] * model0.state['nu']\n",
    "data_H = model0.get_data_im(tbl['z'], tbl['vz'], im_bins)"
   ]
  },
  {
   "cell_type": "code",
   "execution_count": null,
   "id": "6f286c2e",
   "metadata": {},
   "outputs": [],
   "source": [
    "model0.get_aaf(\n",
    "    tbl[\"z\"].astype(np.float64)[:10],\n",
    "    tbl[\"vz\"].astype(np.float64)[:10],\n",
    "    101\n",
    ")"
   ]
  },
  {
   "cell_type": "code",
   "execution_count": null,
   "id": "f13f4c5a",
   "metadata": {},
   "outputs": [],
   "source": [
    "bounds_l = {\n",
    "    \"vz0\": -0.1,\n",
    "    \"z0\": -0.5,\n",
    "    \"ln_dens_vals\": np.full_like(model0.state[\"ln_dens_vals\"], -5.0),\n",
    "    \"ln_nu\": -5.0,\n",
    "    \"e_vals\": {},\n",
    "}\n",
    "\n",
    "bounds_r = {\n",
    "    \"vz0\": 0.1,\n",
    "    \"z0\": 0.5,\n",
    "    \"ln_dens_vals\": np.full_like(model0.state[\"ln_dens_vals\"], 15.0),\n",
    "    \"ln_nu\": 0.0,\n",
    "    \"e_vals\": {},\n",
    "}\n",
    "\n",
    "for m in model0.e_knots:\n",
    "    # bounds_l[\"e_vals\"][m] = np.full_like(model0.state[\"e_vals\"][m], -0.4)\n",
    "    bounds_l[\"e_vals\"][m] = np.full_like(model0.state[\"e_vals\"][m], 0.)\n",
    "    bounds_r[\"e_vals\"][m] = np.full_like(model0.state[\"e_vals\"][m], 0.4)"
   ]
  },
  {
   "cell_type": "code",
   "execution_count": null,
   "id": "4cfd43cc",
   "metadata": {},
   "outputs": [],
   "source": [
    "vlim = dict(\n",
    "    norm=mpl.colors.LogNorm(vmax=3e4, vmin=1e-1), shading=\"auto\"\n",
    ")  # vmin=0, vmax=30)\n",
    "\n",
    "fig, axes = plt.subplots(\n",
    "    1, 2, figsize=(11, 5), sharex=True, sharey=True, constrained_layout=True\n",
    ")\n",
    "\n",
    "cs = axes[0].pcolormesh(data_H[\"vz\"], data_H[\"z\"], data_H[\"H\"], **vlim)\n",
    "\n",
    "cs = axes[1].pcolormesh(\n",
    "    data_H[\"vz\"],\n",
    "    data_H[\"z\"],\n",
    "    np.exp(model0.ln_density(z=data_H[\"z\"], vz=data_H[\"vz\"])),\n",
    "    **vlim\n",
    ")\n",
    "fig.colorbar(cs, ax=axes[:2])\n",
    "\n",
    "axes[0].set_title(\"data\")\n",
    "axes[1].set_title(\"initial model\")"
   ]
  },
  {
   "cell_type": "code",
   "execution_count": null,
   "id": "674a78d9",
   "metadata": {},
   "outputs": [],
   "source": [
    "model.objective(params0, **data_H)"
   ]
  },
  {
   "cell_type": "code",
   "execution_count": null,
   "id": "d2c079ff",
   "metadata": {},
   "outputs": [],
   "source": [
    "res = model.optimize(\n",
    "    **data_H, \n",
    "    params0=params0,\n",
    "    bounds=(bounds_l, bounds_r), \n",
    "    jaxopt_kwargs=dict(options=dict(maxls=1000, disp=False))\n",
    ")\n",
    "res.state"
   ]
  },
  {
   "cell_type": "code",
   "execution_count": null,
   "id": "32821237",
   "metadata": {},
   "outputs": [],
   "source": [
    "res.params"
   ]
  },
  {
   "cell_type": "code",
   "execution_count": null,
   "id": "92f315d7",
   "metadata": {},
   "outputs": [],
   "source": [
    "fig, axes = plot_data_models_residual(data_H, model0, model)"
   ]
  },
  {
   "cell_type": "code",
   "execution_count": null,
   "id": "8fee243d",
   "metadata": {},
   "outputs": [],
   "source": [
    "model.get_aaf([0.]*u.kpc, [0]*u.km/u.s, 101)"
   ]
  },
  {
   "cell_type": "code",
   "execution_count": null,
   "id": "e819336c",
   "metadata": {},
   "outputs": [],
   "source": [
    "plot_rz = np.linspace(0, 4, 51)\n",
    "es = model.get_es(plot_rz)\n",
    "dens = np.exp(model.get_ln_dens(plot_rz))\n",
    "tmp_aaf = model.get_aaf(plot_rz * u.kpc, np.zeros_like(plot_rz) * u.km / u.s, 101)\n",
    "sqrtJz = np.sqrt(tmp_aaf[\"J_z\"].value)\n",
    "\n",
    "fig, axes = plt.subplots(1, 3, figsize=(16, 5), constrained_layout=True, sharex=True)\n",
    "\n",
    "ax = axes[0]\n",
    "ax.plot(sqrtJz, tmp_aaf[\"Omega_z\"].value, zorder=100)\n",
    "ax.plot(\n",
    "    np.sqrt(agama_aaf[\"J_z\"].value),\n",
    "    agama_aaf[\"Omega_z\"].value,\n",
    "    ls=\"none\",\n",
    "    marker=\"o\",\n",
    "    mew=0,\n",
    "    alpha=0.2,\n",
    "    ms=1.0,\n",
    "    zorder=1,\n",
    ")\n",
    "ax.set_ylabel(r\"$\\Omega_z$ \" + f\"[{tmp_aaf['Omega_z'].unit:latex_inline}]\")\n",
    "ax.axhline(model.state['nu'], color='tab:green', ls='--', alpha=0.4)\n",
    "\n",
    "for n in es:\n",
    "    axes[1].plot(sqrtJz, es[n], label=f\"$e_{n}$\")\n",
    "axes[2].plot(sqrtJz, dens)\n",
    "axes[2].set_yscale(\"log\")\n",
    "\n",
    "axes[1].legend()\n",
    "\n",
    "for ax in axes:\n",
    "    ax.set_xlabel(r\"$\\sqrt{J_z}'$\")"
   ]
  },
  {
   "cell_type": "code",
   "execution_count": null,
   "id": "c921a963",
   "metadata": {},
   "outputs": [],
   "source": [
    "thp = np.linspace(0, 2*np.pi, 256)\n",
    "for rzp in np.linspace(0, 3.0, 16):\n",
    "    plt.plot(thp, model.get_rz(rzp, thp), marker='')"
   ]
  },
  {
   "cell_type": "code",
   "execution_count": null,
   "id": "a169f897",
   "metadata": {},
   "outputs": [],
   "source": [
    "# thp = np.linspace(0, 2*np.pi, 256)\n",
    "# for rz in np.linspace(0, 1.0, 16):\n",
    "#     plt.plot(thp, model.get_rz_prime(rz, thp), marker='')"
   ]
  },
  {
   "cell_type": "code",
   "execution_count": null,
   "id": "55dd2f4f",
   "metadata": {},
   "outputs": [],
   "source": [
    "model_aaf = model.get_aaf(\n",
    "    tbl[\"z\"].astype(np.float64),\n",
    "    tbl[\"vz\"].astype(np.float64),\n",
    "    101,\n",
    ")\n",
    "model_aaf[:3]"
   ]
  },
  {
   "cell_type": "code",
   "execution_count": null,
   "id": "db27a407",
   "metadata": {},
   "outputs": [],
   "source": [
    "agamas = [agama_aaf[\"J_z\"], agama_aaf[\"Omega_z\"], np.cos(agama_aaf[\"theta_z\"])]\n",
    "models = [\n",
    "    model_aaf[\"J_z\"].value,\n",
    "    model_aaf[\"Omega_z\"].value,\n",
    "    np.cos(model_aaf[\"theta_z\"]),\n",
    "]\n",
    "labels = [\"$J_z$\", r\"$\\Omega_z$\", r\"$\\cos\\theta_z$\"]\n",
    "\n",
    "fig, axes = plt.subplots(1, 3, figsize=(16, 5), constrained_layout=True)\n",
    "lims = [(0, 0.15), (0, 0.1), (-1, 1)]\n",
    "for ax, lim, x1, x2, label in zip(axes, lims, agamas, models, labels):\n",
    "    ax.hist2d(\n",
    "        x1,\n",
    "        x2,\n",
    "        bins=np.linspace(*lim, 128),\n",
    "        cmap=\"Greys\",\n",
    "        norm=mpl.colors.LogNorm(vmin=1e1),\n",
    "    )\n",
    "\n",
    "    xx = np.linspace(*lim, 10)\n",
    "    ax.plot(xx, xx, marker=\"\", color=\"tab:green\", ls=\"--\", alpha=0.3)\n",
    "    ax.set_xlim(*lim)\n",
    "    ax.set_ylim(*lim)\n",
    "\n",
    "    ax.set_xlabel(f\"agama {label}\")\n",
    "    ax.set_ylabel(f\"empaf {label}\")"
   ]
  },
  {
   "cell_type": "code",
   "execution_count": null,
   "id": "0bc5e1a8",
   "metadata": {},
   "outputs": [],
   "source": [
    "agama_pot2 = agama.Potential(\n",
    "    dict(type='miyamotonagai', mass=6.8e10 * 1.1, scaleradius=3.0, scaleheight=0.28 * 0.9),\n",
    "    dict(type='dehnen', mass=5.00e9, scaleradius=1.0),\n",
    "    dict(type='dehnen', mass=1.71e9, scaleradius=0.07),\n",
    "    dict(type='nfw',    mass=5.4e11, scaleradius=15.62),\n",
    ")\n",
    "\n",
    "act_finder2 = agama.ActionFinder(agama_pot2)\n",
    "agama_act2, agama_ang2, agama_freq2 = act_finder2(xv, angles=True)\n",
    "agama_aaf2 = at.Table({\n",
    "    \"J_z\": agama_act2[:, 1],\n",
    "    \"theta_z\": agama_ang2[:, 1],\n",
    "    \"Omega_z\": agama_freq2[:, 1],\n",
    "    \"T_z\": 2*np.pi / agama_freq2[:, 1]\n",
    "})"
   ]
  },
  {
   "cell_type": "code",
   "execution_count": null,
   "id": "5a2f74df",
   "metadata": {},
   "outputs": [],
   "source": [
    "agamas = [agama_aaf['J_z'], agama_aaf['Omega_z'], np.cos(agama_aaf['theta_z'])]\n",
    "models = [agama_aaf2['J_z'], agama_aaf2['Omega_z'], np.cos(agama_aaf2['theta_z'])]\n",
    "labels = [\"$J_z$\", r\"$\\Omega_z$\", r\"$\\cos\\theta_z$\"]\n",
    "\n",
    "fig, axes = plt.subplots(1, 3, figsize=(16, 5), constrained_layout=True)\n",
    "lims = [(0, 0.15), (0, 0.1), (-1, 1)]\n",
    "for ax, lim, x1, x2, label in zip(axes, lims, agamas, models, labels):\n",
    "    ax.hist2d(x1, x2, bins=np.linspace(*lim, 128), \n",
    "              cmap='Greys', norm=mpl.colors.LogNorm(vmin=1e1))\n",
    "    \n",
    "    xx = np.linspace(*lim, 10)\n",
    "    ax.plot(xx, xx, marker='', color='tab:green', ls='--', alpha=0.3)\n",
    "    ax.set_xlim(*lim)\n",
    "    ax.set_ylim(*lim)\n",
    "    \n",
    "    ax.set_xlabel(f\"agama {label}\")\n",
    "    ax.set_ylabel(f\"agama2 {label}\")"
   ]
  },
  {
   "cell_type": "code",
   "execution_count": null,
   "id": "c8f0984f",
   "metadata": {},
   "outputs": [],
   "source": []
  }
 ],
 "metadata": {
  "kernelspec": {
   "display_name": "apw-py3-2022",
   "language": "python",
   "name": "apw-py3-2022"
  },
  "language_info": {
   "codemirror_mode": {
    "name": "ipython",
    "version": 3
   },
   "file_extension": ".py",
   "mimetype": "text/x-python",
   "name": "python",
   "nbconvert_exporter": "python",
   "pygments_lexer": "ipython3",
   "version": "3.10.4"
  },
  "toc": {
   "base_numbering": 1,
   "nav_menu": {},
   "number_sections": true,
   "sideBar": true,
   "skip_h1_title": false,
   "title_cell": "Table of Contents",
   "title_sidebar": "Contents",
   "toc_cell": false,
   "toc_position": {},
   "toc_section_display": true,
   "toc_window_display": false
  }
 },
 "nbformat": 4,
 "nbformat_minor": 5
}
