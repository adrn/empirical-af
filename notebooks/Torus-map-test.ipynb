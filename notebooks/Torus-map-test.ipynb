{
 "cells": [
  {
   "cell_type": "code",
   "execution_count": null,
   "id": "ddd62d55",
   "metadata": {},
   "outputs": [],
   "source": [
    "import copy\n",
    "import os\n",
    "\n",
    "from astropy.constants import G\n",
    "import astropy.table as at\n",
    "import astropy.coordinates as coord\n",
    "import astropy.units as u\n",
    "import matplotlib as mpl\n",
    "import matplotlib.pyplot as plt\n",
    "%matplotlib inline\n",
    "import numpy as np\n",
    "\n",
    "# gala\n",
    "import gala.coordinates as gc\n",
    "import gala.dynamics as gd\n",
    "import gala.potential as gp\n",
    "import gala.integrate as gi\n",
    "from gala.units import galactic\n",
    "\n",
    "import jax\n",
    "jax.config.update('jax_enable_x64', True)\n",
    "import jax.numpy as jnp\n",
    "\n",
    "from empaf import DensityOrbitModel\n",
    "from empaf.plot import plot_data_models_residual"
   ]
  },
  {
   "cell_type": "code",
   "execution_count": null,
   "id": "3cb7af35",
   "metadata": {},
   "outputs": [],
   "source": [
    "import sys\n",
    "# sys.path.append('/mnt/home/apricewhelan/downloads/Agama-zone/')\n",
    "sys.path.append('/Users/apricewhelan/projects/others/Agama-zone/')\n",
    "import agama\n",
    "agama.setUnits(mass=u.Msun, length=u.kpc, time=u.Myr)"
   ]
  },
  {
   "cell_type": "code",
   "execution_count": null,
   "id": "7af9cae0",
   "metadata": {},
   "outputs": [],
   "source": [
    "gala_pot = gp.MilkyWayPotential()\n",
    "agama_pot = agama.Potential(\n",
    "    dict(type='miyamotonagai', mass=6.8e10, scaleradius=3.0, scaleheight=0.28),\n",
    "    dict(type='dehnen', mass=5.00e9, scaleradius=1.0),\n",
    "    dict(type='dehnen', mass=1.71e9, scaleradius=0.07),\n",
    "    dict(type='nfw',    mass=5.4e11, scaleradius=15.62),\n",
    ")"
   ]
  },
  {
   "cell_type": "code",
   "execution_count": null,
   "id": "8e5b3b07",
   "metadata": {},
   "outputs": [],
   "source": [
    "xv = np.load('../test-data/agama-galaxymodel-df-small.npy')"
   ]
  },
  {
   "cell_type": "code",
   "execution_count": null,
   "id": "38110d44",
   "metadata": {},
   "outputs": [],
   "source": [
    "act_finder = agama.ActionFinder(agama_pot)\n",
    "agama_act, agama_ang, agama_freq = act_finder(xv, angles=True)\n",
    "agama_aaf = at.Table({\n",
    "    \"J_z\": agama_act[:, 1],\n",
    "    \"theta_z\": agama_ang[:, 1],\n",
    "    \"Omega_z\": agama_freq[:, 1],\n",
    "    \"T_z\": 2*np.pi / agama_freq[:, 1]\n",
    "})"
   ]
  },
  {
   "cell_type": "code",
   "execution_count": null,
   "id": "e7ee9eaa",
   "metadata": {},
   "outputs": [],
   "source": [
    "tbl = at.QTable()\n",
    "tbl['z'] = xv[:, 2] * u.kpc\n",
    "tbl['vz'] = xv[:, 5] * u.kpc/u.Myr\n",
    "\n",
    "bins = (np.linspace(-0.1, 0.1, 151), np.linspace(-2.5, 2.5, 151))\n",
    "plt.hist2d(\n",
    "    tbl['vz'].value,\n",
    "    tbl['z'].value,\n",
    "    bins=bins,\n",
    "    norm=mpl.colors.LogNorm(),\n",
    ")\n",
    "plt.xlim(bins[0].min(), bins[0].max())\n",
    "plt.ylim(bins[1].min(), bins[1].max())\n",
    "plt.xlabel(\"$v_z$\")\n",
    "plt.ylabel(\"$z$\")"
   ]
  },
  {
   "cell_type": "code",
   "execution_count": null,
   "id": "8a33a7f4",
   "metadata": {},
   "outputs": [],
   "source": [
    "init_model = DensityOrbitModel(\n",
    "    e_signs={2: 1.0, 4: -1.0}, # , 6: -1.0, 8: -1.0},\n",
    "    unit_sys=galactic,\n",
    ")"
   ]
  },
  {
   "cell_type": "code",
   "execution_count": null,
   "id": "9718d4a2",
   "metadata": {},
   "outputs": [],
   "source": [
    "params0 = {}\n",
    "params0[\"e_params\"] = {m: {} for m in [2, 4]}\n",
    "\n",
    "# params0[\"e_params\"][2][\"A\"] = 0.1\n",
    "params0[\"e_params\"][2][\"f1\"] = 0.1\n",
    "params0[\"e_params\"][2][\"alpha\"] = 0.33\n",
    "params0[\"e_params\"][2][\"x0\"] = 3.0\n",
    "\n",
    "# params0[\"e_params\"][4][\"A\"] = 0.05\n",
    "params0[\"e_params\"][4][\"f1\"] = 0.02\n",
    "params0[\"e_params\"][4][\"alpha\"] = 0.45\n",
    "params0[\"e_params\"][4][\"x0\"] = 3.0\n",
    "\n",
    "params0[\"ln_dens_params\"] = {\"f0\": 8.0, \"f1\": -10.0, \"alpha\": 0.6, \"x0\": 5.0}\n",
    "\n",
    "params0[\"ln_Omega\"] = np.log(0.06)\n",
    "params0[\"z0\"] = 0.0\n",
    "params0[\"vz0\"] = 0.0"
   ]
  },
  {
   "cell_type": "code",
   "execution_count": null,
   "id": "15baf09b",
   "metadata": {},
   "outputs": [],
   "source": [
    "# model0 = init_model.get_params_init(tbl['z'], tbl['vz'])\n",
    "# model0 = init_model.copy()\n",
    "# model0.set_state(params0)\n",
    "\n",
    "# model0.state = params0.copy()\n",
    "# model0.state['Omega'] = np.exp(model0.state['ln_Omega'])"
   ]
  },
  {
   "cell_type": "code",
   "execution_count": null,
   "id": "887a7444",
   "metadata": {},
   "outputs": [],
   "source": [
    "im_bins = {'z': np.linspace(-2, 2, 211)}\n",
    "im_bins['vz'] = im_bins['z'] * np.exp(params0['ln_Omega'])\n",
    "data_H = init_model.get_data_im(tbl['z'], tbl['vz'], im_bins)"
   ]
  },
  {
   "cell_type": "code",
   "execution_count": null,
   "id": "4cfd43cc",
   "metadata": {},
   "outputs": [],
   "source": [
    "vlim = dict(\n",
    "    norm=mpl.colors.LogNorm(vmax=3e4, vmin=1e-1), shading=\"auto\"\n",
    ")  # vmin=0, vmax=30)\n",
    "\n",
    "fig, axes = plt.subplots(\n",
    "    1, 2, figsize=(11, 5), sharex=True, sharey=True, constrained_layout=True\n",
    ")\n",
    "\n",
    "cs = axes[0].pcolormesh(data_H[\"vz\"], data_H[\"z\"], data_H[\"H\"], **vlim)\n",
    "\n",
    "cs = axes[1].pcolormesh(\n",
    "    data_H[\"vz\"],\n",
    "    data_H[\"z\"],\n",
    "    np.exp(init_model.ln_density(z=data_H[\"z\"], vz=data_H[\"vz\"], params=params0)),\n",
    "    **vlim\n",
    ")\n",
    "fig.colorbar(cs, ax=axes[:2])\n",
    "\n",
    "axes[0].set_title(\"data\")\n",
    "axes[1].set_title(\"initial model\")"
   ]
  },
  {
   "cell_type": "code",
   "execution_count": null,
   "id": "6f286c2e",
   "metadata": {},
   "outputs": [],
   "source": [
    "init_model.get_aaf(\n",
    "    tbl[\"z\"].astype(np.float64)[:3],\n",
    "    tbl[\"vz\"].astype(np.float64)[:3],\n",
    "    params0,\n",
    "    101\n",
    ")"
   ]
  },
  {
   "cell_type": "code",
   "execution_count": null,
   "id": "436c7fdb",
   "metadata": {},
   "outputs": [],
   "source": [
    "bounds_l = {}\n",
    "bounds_l[\"ln_Omega\"] = np.log(\n",
    "    np.sqrt(0.01 * u.Msun / u.pc**3 * 4 * np.pi * G).to_value(1 / u.Myr)\n",
    ")\n",
    "\n",
    "bounds_l[\"z0\"] = -0.05\n",
    "bounds_l[\"vz0\"] = -0.02\n",
    "\n",
    "bounds_l[\"e_params\"] = {m: {} for m in [2, 4]}\n",
    "\n",
    "# bounds_l[\"e_params\"][2][\"A\"] = 0.0\n",
    "bounds_l[\"e_params\"][2][\"f1\"] = 0.0\n",
    "bounds_l[\"e_params\"][2][\"alpha\"] = 0.25\n",
    "bounds_l[\"e_params\"][2][\"x0\"] = 2.0\n",
    "\n",
    "# bounds_l[\"e_params\"][4][\"A\"] = 0.0\n",
    "bounds_l[\"e_params\"][4][\"f1\"] = 0.0\n",
    "bounds_l[\"e_params\"][4][\"alpha\"] = 0.25\n",
    "bounds_l[\"e_params\"][4][\"x0\"] = 2.0\n",
    "\n",
    "bounds_l[\"ln_dens_params\"] = {\"f0\": 0, \"f1\": -40.0, \"alpha\": 0.3, \"x0\": 3.0}\n",
    "\n",
    "\n",
    "bounds_r = {}\n",
    "bounds_r[\"ln_Omega\"] = np.log(\n",
    "    np.sqrt(2 * u.Msun / u.pc**3 * 4 * np.pi * G).to_value(1 / u.Myr)\n",
    ")\n",
    "bounds_r[\"z0\"] = abs(bounds_l[\"z0\"])\n",
    "bounds_r[\"vz0\"] = abs(bounds_l[\"vz0\"])\n",
    "\n",
    "bounds_r[\"e_params\"] = {m: {} for m in [2, 4]}\n",
    "\n",
    "# bounds_r[\"e_params\"][2][\"A\"] = 0.7\n",
    "bounds_r[\"e_params\"][2][\"f1\"] = 0.7\n",
    "bounds_r[\"e_params\"][2][\"alpha\"] = 0.5\n",
    "bounds_r[\"e_params\"][2][\"x0\"] = 30.0\n",
    "\n",
    "# bounds_r[\"e_params\"][4][\"A\"] = 0.7\n",
    "bounds_r[\"e_params\"][4][\"f1\"] = 0.3\n",
    "bounds_r[\"e_params\"][4][\"alpha\"] = 0.5\n",
    "bounds_r[\"e_params\"][4][\"x0\"] = 30.0\n",
    "\n",
    "bounds_r[\"ln_dens_params\"] = {\"f0\": 12.0, \"f1\": -5.0, \"alpha\": 0.7, \"x0\": 30.0}"
   ]
  },
  {
   "cell_type": "code",
   "execution_count": null,
   "id": "921b2516",
   "metadata": {},
   "outputs": [],
   "source": [
    "fig, axes = plt.subplots(1, 2, figsize=(13, 5), sharex=True, sharey=True)\n",
    "\n",
    "for ax, p in zip(axes, [bounds_l, bounds_r]):    \n",
    "    cs = ax.pcolormesh(\n",
    "        data_H[\"vz\"],\n",
    "        data_H[\"z\"],\n",
    "        np.exp(init_model.ln_density(z=data_H[\"z\"], vz=data_H[\"vz\"], params=p)),\n",
    "        norm=mpl.colors.LogNorm()\n",
    "    )\n",
    "    fig.colorbar(cs, ax=ax)"
   ]
  },
  {
   "cell_type": "code",
   "execution_count": null,
   "id": "752ca939",
   "metadata": {},
   "outputs": [],
   "source": [
    "init_model.objective(bounds_l, **data_H)"
   ]
  },
  {
   "cell_type": "code",
   "execution_count": null,
   "id": "9809b3c5",
   "metadata": {},
   "outputs": [],
   "source": [
    "init_model.objective(bounds_r, **data_H)"
   ]
  },
  {
   "cell_type": "code",
   "execution_count": null,
   "id": "a6381878",
   "metadata": {},
   "outputs": [],
   "source": [
    "init_model.objective(params0, **data_H)"
   ]
  },
  {
   "cell_type": "code",
   "execution_count": null,
   "id": "d2c079ff",
   "metadata": {},
   "outputs": [],
   "source": [
    "res = init_model.optimize(\n",
    "    **data_H, \n",
    "    params0=params0,\n",
    "    bounds=(bounds_l, bounds_r), \n",
    "    jaxopt_kwargs=dict(options=dict(maxls=1000, disp=False))\n",
    ")\n",
    "res.state"
   ]
  },
  {
   "cell_type": "code",
   "execution_count": null,
   "id": "92f315d7",
   "metadata": {},
   "outputs": [],
   "source": [
    "fig, axes = plot_data_models_residual(data_H, init_model, params0, res.params)"
   ]
  },
  {
   "cell_type": "code",
   "execution_count": null,
   "id": "c0bc025f",
   "metadata": {},
   "outputs": [],
   "source": [
    "# vals, treedef = jax.tree_util.tree_flatten(res.params)\n",
    "# vals = [float(x) for x in vals]\n",
    "# pars = jax.tree_util.tree_unflatten(treedef, vals)\n",
    "# fig, axes = plot_data_models_residual(data_H, init_model, params0, pars)"
   ]
  },
  {
   "cell_type": "code",
   "execution_count": null,
   "id": "8fee243d",
   "metadata": {},
   "outputs": [],
   "source": [
    "init_model.get_aaf([0.]*u.kpc, [0]*u.km/u.s, res.params, 101)"
   ]
  },
  {
   "cell_type": "code",
   "execution_count": null,
   "id": "022df71b",
   "metadata": {},
   "outputs": [],
   "source": [
    "plot_rz = np.linspace(0, 1, 301)\n",
    "es = init_model.get_es(plot_rz, res.params['e_params'])\n",
    "for n, ee in es.items():\n",
    "    plt.plot(plot_rz, ee, marker='')"
   ]
  },
  {
   "cell_type": "code",
   "execution_count": null,
   "id": "e819336c",
   "metadata": {},
   "outputs": [],
   "source": [
    "# vals, treedef = jax.tree_util.tree_flatten(res.params)\n",
    "# vals = [float(x) for x in vals]\n",
    "# pars = jax.tree_util.tree_unflatten(treedef, vals)\n",
    "pars = res.params\n",
    "\n",
    "# pars['ln_Omega'] = np.log(0.078)\n",
    "# pars['e_params'][2]['alpha'] = 0.5\n",
    "\n",
    "sqrtOm = np.sqrt(np.exp(pars[\"ln_Omega\"]))\n",
    "plot_rzp = np.linspace(0, 3, 101) * sqrtOm\n",
    "es = init_model.get_es(plot_rzp, pars[\"e_params\"])\n",
    "\n",
    "dens = np.exp(init_model.get_ln_dens(plot_rzp, pars))\n",
    "tmp_aaf = init_model.get_aaf(\n",
    "    plot_rzp / sqrtOm * u.kpc, np.zeros_like(plot_rzp) * u.km / u.s, pars, 101\n",
    ")\n",
    "sqrtJz = np.sqrt(tmp_aaf[\"J_z\"].value)\n",
    "\n",
    "fig, axes = plt.subplots(1, 3, figsize=(16, 5), constrained_layout=True, sharex=True)\n",
    "\n",
    "ax = axes[0]\n",
    "ax.plot(sqrtJz, tmp_aaf[\"Omega_z\"].value, zorder=100)\n",
    "ax.plot(\n",
    "    np.sqrt(agama_aaf[\"J_z\"].value),\n",
    "    agama_aaf[\"Omega_z\"].value,\n",
    "    ls=\"none\",\n",
    "    marker=\"o\",\n",
    "    mew=0,\n",
    "    alpha=0.2,\n",
    "    ms=1.0,\n",
    "    zorder=1,\n",
    ")\n",
    "ax.set_ylabel(r\"$\\Omega_z$ \" + f\"[{tmp_aaf['Omega_z'].unit:latex_inline}]\")\n",
    "ax.axhline(np.exp(pars[\"ln_Omega\"]), color=\"tab:green\", ls=\"--\", alpha=0.4)\n",
    "\n",
    "for n in es:\n",
    "    axes[1].plot(sqrtJz, es[n], label=f\"$e_{n}$\")\n",
    "axes[2].plot(sqrtJz, dens)\n",
    "axes[2].set_yscale(\"log\")\n",
    "\n",
    "axes[1].legend()\n",
    "\n",
    "for ax in axes:\n",
    "    ax.set_xlabel(r\"$\\sqrt{J_z}'$\")"
   ]
  },
  {
   "cell_type": "code",
   "execution_count": null,
   "id": "cf28ae45",
   "metadata": {},
   "outputs": [],
   "source": [
    "# model_H = np.exp(init_model.ln_density(z=data_H[\"z\"], vz=data_H[\"vz\"], params=res.params))"
   ]
  },
  {
   "cell_type": "code",
   "execution_count": null,
   "id": "b990f4cf",
   "metadata": {},
   "outputs": [],
   "source": [
    "# H, xe = np.histogram(np.sqrt(agama_aaf['J_z'].value), bins=np.linspace(0, 0.5, 101))\n",
    "# xc = 0.5 * (xe[:-1] + xe[1:])\n",
    "\n",
    "# huh = np.diff(data_H['vz'][0])[0] * np.diff(data_H['z'][:, 0])[0]\n",
    "\n",
    "# plt.plot(xc, H / np.diff(xe) * huh / np.sqrt(xc))\n",
    "# plt.yscale('log')"
   ]
  },
  {
   "cell_type": "code",
   "execution_count": null,
   "id": "c921a963",
   "metadata": {},
   "outputs": [],
   "source": [
    "# thp = np.linspace(0, 2*np.pi, 256)\n",
    "# for rzp in np.linspace(0, 3.0, 16):\n",
    "#     plt.plot(thp, model.get_rz(rzp, thp), marker='')"
   ]
  },
  {
   "cell_type": "markdown",
   "id": "29a7b009",
   "metadata": {},
   "source": [
    "### Compute AAF"
   ]
  },
  {
   "cell_type": "code",
   "execution_count": null,
   "id": "55dd2f4f",
   "metadata": {},
   "outputs": [],
   "source": [
    "model_aaf = init_model.get_aaf(\n",
    "    # tbl[\"z\"].astype(np.float64)[:1_000_000],\n",
    "    # tbl[\"vz\"].astype(np.float64)[:1_000_000],\n",
    "    tbl[\"z\"].astype(np.float64)[:100_000],\n",
    "    tbl[\"vz\"].astype(np.float64)[:100_000],\n",
    "    res.params,\n",
    "    101,\n",
    ")\n",
    "model_aaf[:3]"
   ]
  },
  {
   "cell_type": "code",
   "execution_count": null,
   "id": "db27a407",
   "metadata": {},
   "outputs": [],
   "source": [
    "agamas = [\n",
    "    agama_aaf[\"J_z\"][:len(model_aaf)], \n",
    "    agama_aaf[\"Omega_z\"][:len(model_aaf)], \n",
    "    np.cos(agama_aaf[\"theta_z\"][:len(model_aaf)])\n",
    "]\n",
    "models = [\n",
    "    model_aaf[\"J_z\"].value,\n",
    "    model_aaf[\"Omega_z\"].value,\n",
    "    np.cos(model_aaf[\"theta_z\"]),\n",
    "]\n",
    "labels = [\"$J_z$\", r\"$\\Omega_z$\", r\"$\\cos\\theta_z$\"]\n",
    "\n",
    "fig, axes = plt.subplots(1, 3, figsize=(16, 5), constrained_layout=True)\n",
    "lims = [(0, 0.15), (0, 0.1), (-1, 1)]\n",
    "for ax, lim, x1, x2, label in zip(axes, lims, agamas, models, labels):\n",
    "    ax.hist2d(\n",
    "        x1,\n",
    "        x2,\n",
    "        bins=np.linspace(*lim, 128),\n",
    "        cmap=\"Greys\",\n",
    "        norm=mpl.colors.LogNorm(vmin=1e0),\n",
    "    )\n",
    "\n",
    "    xx = np.linspace(*lim, 10)\n",
    "    ax.plot(xx, xx, marker=\"\", color=\"tab:green\", ls=\"--\", alpha=0.3)\n",
    "    ax.set_xlim(*lim)\n",
    "    ax.set_ylim(*lim)\n",
    "\n",
    "    ax.set_xlabel(f\"Agama {label}\")\n",
    "    ax.set_ylabel(f\"empaf {label}\")"
   ]
  },
  {
   "cell_type": "markdown",
   "id": "6df620f7",
   "metadata": {},
   "source": [
    "---"
   ]
  },
  {
   "cell_type": "markdown",
   "id": "b63cfa31",
   "metadata": {},
   "source": [
    "Compare a 10% different Agama potential to truth:"
   ]
  },
  {
   "cell_type": "code",
   "execution_count": null,
   "id": "0bc5e1a8",
   "metadata": {},
   "outputs": [],
   "source": [
    "agama_pot2 = agama.Potential(\n",
    "    dict(type='miyamotonagai', mass=6.8e10 * 1.1, scaleradius=3.0, scaleheight=0.28 * 0.9),\n",
    "    dict(type='dehnen', mass=5.00e9, scaleradius=1.0),\n",
    "    dict(type='dehnen', mass=1.71e9, scaleradius=0.07),\n",
    "    dict(type='nfw',    mass=5.4e11, scaleradius=15.62),\n",
    ")\n",
    "\n",
    "act_finder2 = agama.ActionFinder(agama_pot2)\n",
    "agama_act2, agama_ang2, agama_freq2 = act_finder2(xv, angles=True)\n",
    "agama_aaf2 = at.Table({\n",
    "    \"J_z\": agama_act2[:, 1],\n",
    "    \"theta_z\": agama_ang2[:, 1],\n",
    "    \"Omega_z\": agama_freq2[:, 1],\n",
    "    \"T_z\": 2*np.pi / agama_freq2[:, 1]\n",
    "})"
   ]
  },
  {
   "cell_type": "code",
   "execution_count": null,
   "id": "5a2f74df",
   "metadata": {},
   "outputs": [],
   "source": [
    "agamas = [agama_aaf['J_z'], agama_aaf['Omega_z'], np.cos(agama_aaf['theta_z'])]\n",
    "models = [agama_aaf2['J_z'], agama_aaf2['Omega_z'], np.cos(agama_aaf2['theta_z'])]\n",
    "labels = [\"$J_z$\", r\"$\\Omega_z$\", r\"$\\cos\\theta_z$\"]\n",
    "\n",
    "fig, axes = plt.subplots(1, 3, figsize=(16, 5), constrained_layout=True)\n",
    "lims = [(0, 0.15), (0, 0.1), (-1, 1)]\n",
    "for ax, lim, x1, x2, label in zip(axes, lims, agamas, models, labels):\n",
    "    ax.hist2d(x1, x2, bins=np.linspace(*lim, 128), \n",
    "              cmap='Greys', norm=mpl.colors.LogNorm(vmin=1e1))\n",
    "    \n",
    "    xx = np.linspace(*lim, 10)\n",
    "    ax.plot(xx, xx, marker='', color='tab:green', ls='--', alpha=0.3)\n",
    "    ax.set_xlim(*lim)\n",
    "    ax.set_ylim(*lim)\n",
    "    \n",
    "    ax.set_xlabel(f\"agama {label}\")\n",
    "    ax.set_ylabel(f\"agama2 {label}\")"
   ]
  },
  {
   "cell_type": "code",
   "execution_count": null,
   "id": "11341301",
   "metadata": {},
   "outputs": [],
   "source": []
  },
  {
   "cell_type": "code",
   "execution_count": null,
   "id": "c8f0984f",
   "metadata": {},
   "outputs": [],
   "source": []
  }
 ],
 "metadata": {
  "kernelspec": {
   "display_name": "Python [conda env:root] *",
   "language": "python",
   "name": "conda-root-py"
  },
  "language_info": {
   "codemirror_mode": {
    "name": "ipython",
    "version": 3
   },
   "file_extension": ".py",
   "mimetype": "text/x-python",
   "name": "python",
   "nbconvert_exporter": "python",
   "pygments_lexer": "ipython3",
   "version": "3.10.4"
  },
  "toc": {
   "base_numbering": 1,
   "nav_menu": {},
   "number_sections": true,
   "sideBar": true,
   "skip_h1_title": false,
   "title_cell": "Table of Contents",
   "title_sidebar": "Contents",
   "toc_cell": false,
   "toc_position": {},
   "toc_section_display": true,
   "toc_window_display": false
  }
 },
 "nbformat": 4,
 "nbformat_minor": 5
}
