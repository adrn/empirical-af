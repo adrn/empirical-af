{
 "cells": [
  {
   "cell_type": "code",
   "execution_count": null,
   "id": "ddd62d55",
   "metadata": {},
   "outputs": [],
   "source": [
    "import pathlib\n",
    "import pickle\n",
    "\n",
    "import astropy.table as at\n",
    "import astropy.coordinates as coord\n",
    "import astropy.units as u\n",
    "import matplotlib as mpl\n",
    "import matplotlib.pyplot as plt\n",
    "%matplotlib inline\n",
    "import numpy as np\n",
    "from scipy.stats import binned_statistic_2d\n",
    "\n",
    "# gala\n",
    "import gala.coordinates as gc\n",
    "import gala.dynamics as gd\n",
    "import gala.potential as gp\n",
    "import gala.integrate as gi\n",
    "from gala.units import galactic\n",
    "\n",
    "import agama\n",
    "agama.setUnits(mass=u.Msun, length=u.kpc, time=u.Myr)"
   ]
  },
  {
   "cell_type": "markdown",
   "id": "22250e8c",
   "metadata": {},
   "source": [
    "# Use Agama to sample positions and velocities:"
   ]
  },
  {
   "cell_type": "code",
   "execution_count": null,
   "id": "4e329891",
   "metadata": {},
   "outputs": [],
   "source": [
    "gala_pot = gp.load(\"../../gaia-actions/potentials/MilkyWayPotential2022.yml\")\n",
    "\n",
    "agama_components = []\n",
    "for p in gala_pot[\"disk\"].get_three_potentials().values():\n",
    "    agama_components.append(\n",
    "        dict(\n",
    "            type=\"miyamotonagai\",\n",
    "            mass=p.parameters[\"m\"].value,\n",
    "            scaleradius=p.parameters[\"a\"].value,\n",
    "            scaleheight=p.parameters[\"b\"].value,\n",
    "        )\n",
    "    )\n",
    "\n",
    "for k in [\"bulge\", \"nucl\"]:\n",
    "    p = gala_pot[k]\n",
    "    agama_components.append(\n",
    "        dict(\n",
    "            type=\"dehnen\",\n",
    "            mass=p.parameters[\"m\"].value,\n",
    "            scaleradius=p.parameters[\"c\"].value,\n",
    "            gamma=1.0,\n",
    "        )\n",
    "    )\n",
    "\n",
    "p = gala_pot[\"halo\"]\n",
    "agama_components.append(\n",
    "    dict(\n",
    "        type=\"nfw\", mass=p.parameters[\"m\"].value, scaleradius=p.parameters[\"r_s\"].value\n",
    "    )\n",
    ")\n",
    "agama_pot = agama.Potential(*agama_components)"
   ]
  },
  {
   "cell_type": "code",
   "execution_count": null,
   "id": "d81f53ff",
   "metadata": {},
   "outputs": [],
   "source": [
    "import pickle\n",
    "with open(\"../test-data/agama-pot.pkl\", \"wb\") as f:\n",
    "    pickle.dump(agama_components, f)\n",
    "    \n",
    "gala_pot.save(\"../test-data/gala-pot.yml\")"
   ]
  },
  {
   "cell_type": "code",
   "execution_count": null,
   "id": "655c1f70",
   "metadata": {},
   "outputs": [],
   "source": [
    "# gala_pot = gp.MilkyWayPotential(disk={\"m\": 6.565e10, \"a\": 3.0, \"b\": 0.25})\n",
    "\n",
    "# agama_pot = agama.Potential(\n",
    "#     dict(\n",
    "#         type=\"miyamotonagai\",\n",
    "#         mass=gala_pot[\"disk\"].parameters[\"m\"].value,\n",
    "#         scaleradius=gala_pot[\"disk\"].parameters[\"a\"].value,\n",
    "#         scaleheight=gala_pot[\"disk\"].parameters[\"b\"].value,\n",
    "#     ),\n",
    "#     dict(\n",
    "#         type=\"dehnen\",\n",
    "#         mass=gala_pot[\"nucleus\"].parameters[\"m\"].value,\n",
    "#         scaleradius=gala_pot[\"nucleus\"].parameters[\"c\"].value,\n",
    "#         gamma=1.\n",
    "#     ),\n",
    "#     dict(\n",
    "#         type=\"dehnen\",\n",
    "#         mass=gala_pot[\"bulge\"].parameters[\"m\"].value,\n",
    "#         scaleradius=gala_pot[\"bulge\"].parameters[\"c\"].value,\n",
    "#         gamma=1.\n",
    "#     ),\n",
    "#     dict(\n",
    "#         type=\"nfw\",\n",
    "#         mass=gala_pot[\"halo\"].parameters[\"m\"].value,\n",
    "#         scaleradius=gala_pot[\"halo\"].parameters[\"r_s\"].value,\n",
    "#     ),\n",
    "# )"
   ]
  },
  {
   "cell_type": "code",
   "execution_count": null,
   "id": "2c8e0e5c",
   "metadata": {},
   "outputs": [],
   "source": [
    "test_xyz = np.array([-8.3, 0, 0.208])\n",
    "gala_pot.acceleration(test_xyz)[:, 0].value - agama_pot.force(*test_xyz)"
   ]
  },
  {
   "cell_type": "code",
   "execution_count": null,
   "id": "0ca523dd",
   "metadata": {},
   "outputs": [],
   "source": [
    "vcirc = gala_pot.circular_velocity(test_xyz)[0]\n",
    "print(vcirc)\n",
    "Rsun = 8.275 * u.kpc\n",
    "Jphi0 = (vcirc * Rsun).decompose(galactic).value"
   ]
  },
  {
   "cell_type": "markdown",
   "id": "0baa3709",
   "metadata": {},
   "source": [
    "# Case 1: near-zero $J_R$"
   ]
  },
  {
   "cell_type": "markdown",
   "id": "7a538be6",
   "metadata": {},
   "source": [
    "## Sample from DF:"
   ]
  },
  {
   "cell_type": "code",
   "execution_count": null,
   "id": "d7b3340c",
   "metadata": {},
   "outputs": [],
   "source": [
    "dJphi = Jphi0 * 0.05  # 5% solar\n",
    "dJr   = 0.05 * 1. * 0.05  # 5% solar\n",
    "dJz   = 0.04 * 0.5\n",
    "\n",
    "N     = 20_000_000\n",
    "def df(J):\n",
    "    Jr, Jz, Jphi = J.T\n",
    "    return np.exp(-0.5*Jr**2/dJr**2 - 0.5*((Jphi-Jphi0)/dJphi)**2 - np.abs(Jz)/dJz)\n",
    "\n",
    "gm = agama.GalaxyModel(agama_pot, df)\n",
    "xv = gm.sample(N)[0]"
   ]
  },
  {
   "cell_type": "code",
   "execution_count": null,
   "id": "8bc78f86",
   "metadata": {},
   "outputs": [],
   "source": [
    "bins = (np.linspace(-0.1, 0.1, 151), np.linspace(-2.5, 2.5, 151))\n",
    "plt.hist2d(\n",
    "    xv[:, 5],\n",
    "    xv[:, 2],\n",
    "    bins=bins,\n",
    "    norm=mpl.colors.LogNorm(),\n",
    ")\n",
    "plt.xlim(bins[0].min(), bins[0].max())\n",
    "plt.ylim(bins[1].min(), bins[1].max())\n",
    "plt.xlabel(\"$v_z$\")\n",
    "plt.ylabel(\"$z$\")"
   ]
  },
  {
   "cell_type": "code",
   "execution_count": null,
   "id": "afaeda77",
   "metadata": {},
   "outputs": [],
   "source": [
    "act_finder = agama.ActionFinder(agama_pot)\n",
    "agama_act = act_finder(xv)  # JR, Jz, Jphiaps"
   ]
  },
  {
   "cell_type": "code",
   "execution_count": null,
   "id": "671f3600",
   "metadata": {},
   "outputs": [],
   "source": [
    "mask = (\n",
    "    (agama_act[:, 0] < 1e-3)  # 2%\n",
    "    & (np.abs(agama_act[:, 2] - Jphi0) < 0.02*Jphi0)  # 2%\n",
    ")\n",
    "sub_xv = xv[mask]\n",
    "mask.sum()"
   ]
  },
  {
   "cell_type": "code",
   "execution_count": null,
   "id": "9223e538",
   "metadata": {},
   "outputs": [],
   "source": [
    "Norbits = 12\n",
    "orbits = []\n",
    "\n",
    "Nt = 1024\n",
    "zeros = np.zeros(Nt)\n",
    "\n",
    "Jzs = np.linspace(1.5e-2, np.sqrt(0.12), Norbits) ** 2 # u.kpc**2 / u.Myr\n",
    "Omzs = []\n",
    "for Jz in Jzs:\n",
    "    act = u.Quantity([0, Jz, Jphi0])\n",
    "    torus_mapper = agama.ActionMapper(agama_pot, act)\n",
    "\n",
    "    t_grid = np.linspace(0, 2 * np.pi / torus_mapper.Omegaz, Nt)\n",
    "    thz = torus_mapper.Omegaz * t_grid\n",
    "    Omzs.append(torus_mapper.Omegaz)\n",
    "    angles = np.stack((zeros, thz, zeros)).T\n",
    "    z, vz = torus_mapper(angles)[:, [2, 5]].T\n",
    "\n",
    "    # vz = (vz * u.kpc / u.Myr).to_value(u.km / u.s)\n",
    "    \n",
    "    orbits.append((z, vz))"
   ]
  },
  {
   "cell_type": "markdown",
   "id": "c73a126a",
   "metadata": {},
   "source": [
    "## Make binned representation:"
   ]
  },
  {
   "cell_type": "code",
   "execution_count": null,
   "id": "7e0dc0bd",
   "metadata": {},
   "outputs": [],
   "source": [
    "bins = (np.linspace(-0.1, 0.1, 151), np.linspace(-2.5, 2.5, 151))"
   ]
  },
  {
   "cell_type": "code",
   "execution_count": null,
   "id": "38932858",
   "metadata": {},
   "outputs": [],
   "source": [
    "H, xe, ye = np.histogram2d(\n",
    "    sub_xv[:, 5],\n",
    "    sub_xv[:, 2],\n",
    "    bins=bins,\n",
    ")"
   ]
  },
  {
   "cell_type": "code",
   "execution_count": null,
   "id": "296e2645",
   "metadata": {},
   "outputs": [],
   "source": [
    "fig, axes = plt.subplots(\n",
    "    1, 2, figsize=(10, 5), sharex=True, sharey=True, constrained_layout=True\n",
    ")\n",
    "\n",
    "axes[0].set(\n",
    "    xlim=(bins[0].min(), bins[0].max()),\n",
    "    ylim=(bins[1].min(), bins[1].max()),\n",
    "    xlabel=\"$v_z$\",\n",
    "    ylabel=\"$z$\"\n",
    ")\n",
    "\n",
    "for ax in axes:\n",
    "    ax.pcolormesh(\n",
    "        xe, ye, H.T,\n",
    "        norm=mpl.colors.LogNorm(),\n",
    "    )\n",
    "    \n",
    "for (z, vz), Jz in zip(orbits, Jzs):\n",
    "    axes[1].plot(\n",
    "        vz, z, marker=\"\", ls=\"-\", lw=1, color='c'\n",
    "    )"
   ]
  },
  {
   "cell_type": "markdown",
   "id": "b316fa9f",
   "metadata": {},
   "source": [
    "## Fake element abundances:"
   ]
  },
  {
   "cell_type": "code",
   "execution_count": null,
   "id": "e529a131",
   "metadata": {},
   "outputs": [],
   "source": [
    "# Mg/Fe\n",
    "rng = np.random.default_rng(seed=42)\n",
    "\n",
    "# Trend and dispersion eyeballed from APOGEE:\n",
    "mgfe = rng.normal(\n",
    "    np.sqrt(0.15) * agama_act[mask, 1]**0.5,\n",
    "    0.04\n",
    ")"
   ]
  },
  {
   "cell_type": "code",
   "execution_count": null,
   "id": "8863111a",
   "metadata": {},
   "outputs": [],
   "source": [
    "mgfe_stat = binned_statistic_2d(sub_xv[:, 5], sub_xv[:, 2], mgfe, bins=bins)\n",
    "\n",
    "fig, ax = plt.subplots(1, 1, figsize=(6, 5), constrained_layout=True)\n",
    "\n",
    "cs = ax.pcolormesh(\n",
    "    mgfe_stat.x_edge,\n",
    "    mgfe_stat.y_edge,\n",
    "    mgfe_stat.statistic.T,\n",
    "    cmap=\"cividis_r\",\n",
    "    vmin=0,\n",
    "    vmax=0.15,\n",
    ")\n",
    "cb = fig.colorbar(cs)"
   ]
  },
  {
   "cell_type": "markdown",
   "id": "cd4e1f25",
   "metadata": {},
   "source": [
    "## Save test data: \n",
    "\n",
    "Both particle data, and binned data"
   ]
  },
  {
   "cell_type": "code",
   "execution_count": null,
   "id": "04c500e0",
   "metadata": {},
   "outputs": [],
   "source": [
    "test_data_path = pathlib.Path('../test-data').absolute()\n",
    "test_data_path.mkdir(exist_ok=True)"
   ]
  },
  {
   "cell_type": "code",
   "execution_count": null,
   "id": "61eccdf9",
   "metadata": {},
   "outputs": [],
   "source": [
    "sub_act, sub_ang, sub_freq = act_finder(sub_xv, angles=True)"
   ]
  },
  {
   "cell_type": "code",
   "execution_count": null,
   "id": "636f6383",
   "metadata": {},
   "outputs": [],
   "source": [
    "test_data = at.QTable()"
   ]
  },
  {
   "cell_type": "code",
   "execution_count": null,
   "id": "51bfc5ee",
   "metadata": {},
   "outputs": [],
   "source": [
    "for i, name in enumerate([\"x\", \"y\", \"z\"]):\n",
    "    test_data[name] = sub_xv[:, i] * u.kpc\n",
    "    test_data[f\"v_{name}\"] = sub_xv[:, i + 3] * u.kpc/u.Myr"
   ]
  },
  {
   "cell_type": "code",
   "execution_count": null,
   "id": "72100309",
   "metadata": {},
   "outputs": [],
   "source": [
    "for i, name in enumerate([\"R\", \"z\", \"phi\"]):\n",
    "    test_data[f\"J_{name}\"] = sub_act[:, i] * u.kpc**2/u.Myr\n",
    "    test_data[f\"theta_{name}\"] = sub_ang[:, i] * u.rad\n",
    "    test_data[f\"Omega_{name}\"] = sub_freq[:, i] * u.rad/u.Myr"
   ]
  },
  {
   "cell_type": "code",
   "execution_count": null,
   "id": "06e68596",
   "metadata": {},
   "outputs": [],
   "source": [
    "test_data['MG_FE'] = mgfe"
   ]
  },
  {
   "cell_type": "code",
   "execution_count": null,
   "id": "fc67554f",
   "metadata": {},
   "outputs": [],
   "source": [
    "test_data.write(test_data_path / 'agama-galaxymodel-particles.fits', overwrite=True)\n",
    "gp.save(gala_pot, test_data_path / 'agama-galaxymodel-gala_pot.yml')"
   ]
  },
  {
   "cell_type": "code",
   "execution_count": null,
   "id": "f8b6f699",
   "metadata": {},
   "outputs": [],
   "source": [
    "ps_density_data = {}\n",
    "ps_density_data['vz_bins'] = bins[0]\n",
    "ps_density_data['z_bins'] = bins[1]\n",
    "ps_density_data['H'] = H.T\n",
    "np.savez(test_data_path / \"binned-density.npz\", **ps_density_data)"
   ]
  },
  {
   "cell_type": "code",
   "execution_count": null,
   "id": "1cea8d49",
   "metadata": {},
   "outputs": [],
   "source": [
    "label_data = {}\n",
    "label_data['vz'] = mgfe_stat.x_edge\n",
    "label_data['z'] = mgfe_stat.y_edge\n",
    "label_data['label_H'] = mgfe_stat.statistic.T\n",
    "np.savez(test_data_path / \"binned-label.npz\", **label_data)"
   ]
  },
  {
   "cell_type": "markdown",
   "id": "96bf8f68",
   "metadata": {},
   "source": [
    "---"
   ]
  },
  {
   "cell_type": "markdown",
   "id": "03c259aa",
   "metadata": {},
   "source": [
    "# Again, but with a quasi-iso DF"
   ]
  },
  {
   "cell_type": "markdown",
   "id": "94d3342e",
   "metadata": {},
   "source": [
    "## Sample from DF:"
   ]
  },
  {
   "cell_type": "markdown",
   "id": "108e76b2",
   "metadata": {},
   "source": [
    "Simple fitting function to get $R_c$ from $L_z$:"
   ]
  },
  {
   "cell_type": "code",
   "execution_count": null,
   "id": "0ce13130",
   "metadata": {},
   "outputs": [],
   "source": [
    "xyz = np.zeros((3, 128)) * u.kpc\n",
    "xyz[0] = np.linspace(4, 14, 128) * u.kpc\n",
    "Lz_circ = (xyz[0] * gala_pot.circular_velocity(xyz)).decompose(galactic).value\n",
    "\n",
    "plt.plot(xyz[0], Lz_circ, marker='')\n",
    "\n",
    "coef = np.polyfit(Lz_circ, xyz[0].value, deg=5)\n",
    "poly_Lz_to_Rc = np.poly1d(coef)\n",
    "\n",
    "Lz_grid = np.linspace(0.95, 3.1, 128)\n",
    "plt.plot(poly_Lz_to_Rc(Lz_grid), Lz_grid, marker='')\n",
    "\n",
    "plt.axvline(5)\n",
    "plt.axvline(12)\n",
    "plt.xlabel(\"$R$\")\n",
    "plt.ylabel(\"$L_z$\")"
   ]
  },
  {
   "cell_type": "code",
   "execution_count": null,
   "id": "91335cf6",
   "metadata": {},
   "outputs": [],
   "source": [
    "dPhi2_dR2 = gala_pot.hessian(xyz)[0, 0].decompose(galactic).value\n",
    "dPhi2_dz2 = gala_pot.hessian(xyz)[2, 2].decompose(galactic).value\n",
    "kappa = np.sqrt(dPhi2_dR2 + 3 * Lz_circ**2 / xyz[0].value**4)\n",
    "nu = np.sqrt(dPhi2_dz2)\n",
    "\n",
    "plt.plot(xyz[0], kappa, marker='', color='r')\n",
    "plt.plot(xyz[0], nu, marker='', color='g')\n",
    "\n",
    "coef = np.polyfit(xyz[0].value, kappa, deg=4)\n",
    "poly_Rc_to_kappa = np.poly1d(coef)\n",
    "\n",
    "coef = np.polyfit(xyz[0].value, nu, deg=4)\n",
    "poly_Rc_to_nu = np.poly1d(coef)\n",
    "\n",
    "plt.plot(xyz[0].value, poly_Rc_to_kappa(xyz[0].value), marker='', color='c', ls='--')\n",
    "plt.plot(xyz[0].value, poly_Rc_to_nu(xyz[0].value), marker='', color='orange', ls='--')\n",
    "\n",
    "plt.axvline(5)\n",
    "plt.axvline(12)\n",
    "plt.xlabel(\"$R$\")"
   ]
  },
  {
   "cell_type": "code",
   "execution_count": null,
   "id": "140d8c36",
   "metadata": {},
   "outputs": [],
   "source": [
    "N = 10_000_000\n",
    "\n",
    "def df(J):\n",
    "    Jr, Jz, Jphi = J.T\n",
    "    \n",
    "    R_c = poly_Lz_to_Rc(Jphi)\n",
    "    Omega_c = Jphi / R_c**2\n",
    "    kappa = poly_Rc_to_kappa(R_c)\n",
    "    nu = poly_Rc_to_nu(R_c)\n",
    "    \n",
    "    Sigma_0 = 1. # normalization doesn't matter?\n",
    "    \n",
    "#     # Table 2, thin disk\n",
    "#     R_d = 2.8\n",
    "#     q = 0.142\n",
    "#     R0 = 8.3\n",
    "#     sigma_r0 = 42.2 / 1e3\n",
    "#     sigma_z0 = 19.5 / 1e3\n",
    "\n",
    "    # Table 2, thick disk\n",
    "    R_d = 2.5\n",
    "    q = 0.705\n",
    "    R0 = 8.3\n",
    "    sigma_r0 = 25.2 / 1e3\n",
    "    sigma_z0 = 32.7 / 1e3\n",
    "\n",
    "    Sigma = Sigma_0 * np.exp(- R_c / R_d)\n",
    "    sigma_r = sigma_r0 * np.exp(q * (R0 - R_c) / R_d)\n",
    "    sigma_z = sigma_z0 * np.exp(q * (R0 - R_c) / R_d)\n",
    "    \n",
    "    L0 = 0.01 # 10 km/s*kpc\n",
    "    A = Omega_c * Sigma / (np.pi * sigma_r**2 * kappa)\n",
    "    f_r = A * (1 + np.tanh(Jphi / L0)) * np.exp(- kappa * Jr / sigma_r**2)\n",
    "    \n",
    "    f_z = nu / (2*np.pi * sigma_z**2) * np.exp(- nu * Jz / sigma_z**2)\n",
    "    \n",
    "    val = f_r * f_z\n",
    "    \n",
    "    val[~np.isfinite(val) | (val < 0.) | (Jphi < 1) | (Jphi > 3.)] = 0.\n",
    "    return val\n",
    "\n",
    "gm = agama.GalaxyModel(agama_pot, df)\n",
    "xv = gm.sample(N)[0]"
   ]
  },
  {
   "cell_type": "code",
   "execution_count": null,
   "id": "1fcc8d85",
   "metadata": {},
   "outputs": [],
   "source": [
    "fig, axes = plt.subplots(1, 2, figsize=(12, 5), sharey=True)\n",
    "\n",
    "ax = axes[0]\n",
    "bins = (np.linspace(-0.1, 0.1, 151), np.linspace(-2.5, 2.5, 151))\n",
    "ax.hist2d(\n",
    "    xv[:, 5],\n",
    "    xv[:, 2],\n",
    "    bins=bins,\n",
    "    norm=mpl.colors.LogNorm(),\n",
    ")\n",
    "ax.set(\n",
    "    xlim=(bins[0].min(), bins[0].max()),\n",
    "    ylim=(bins[1].min(), bins[1].max()),\n",
    "    xlabel=\"$v_z$\",\n",
    "    ylabel=\"$z$\"\n",
    ")\n",
    "\n",
    "ax = axes[1]\n",
    "bins = (np.linspace(0, 15, 151), np.linspace(-2.5, 2.5, 151))\n",
    "ax.hist2d(\n",
    "    np.sqrt(xv[:, 0]**2 + xv[:, 1]**2),\n",
    "    xv[:, 2],\n",
    "    bins=bins,\n",
    "    norm=mpl.colors.LogNorm(),\n",
    ")\n",
    "ax.set(\n",
    "    xlim=(bins[0].min(), bins[0].max()),\n",
    "    ylim=(bins[1].min(), bins[1].max()),\n",
    "    xlabel=\"$R$\",\n",
    "    ylabel=\"$z$\"\n",
    ")\n",
    "ax.axvline(8.3)"
   ]
  },
  {
   "cell_type": "code",
   "execution_count": null,
   "id": "e3569eec",
   "metadata": {},
   "outputs": [],
   "source": [
    "act_finder = agama.ActionFinder(agama_pot)\n",
    "agama_act = act_finder(xv)  # JR, Jz, Jphi"
   ]
  },
  {
   "cell_type": "code",
   "execution_count": null,
   "id": "8dce1048",
   "metadata": {},
   "outputs": [],
   "source": [
    "ww = gd.PhaseSpacePosition.from_w(xv.T, units=galactic)\n",
    "xv_Lz = ww.angular_momentum()[2].value"
   ]
  },
  {
   "cell_type": "code",
   "execution_count": null,
   "id": "50a49995",
   "metadata": {},
   "outputs": [],
   "source": [
    "mask = (\n",
    "    (np.abs(xv_Lz - Jphi0) < 0.25)\n",
    ")\n",
    "sub_xv = xv[mask]\n",
    "mask.sum()"
   ]
  },
  {
   "cell_type": "code",
   "execution_count": null,
   "id": "1bc5fa36",
   "metadata": {},
   "outputs": [],
   "source": [
    "fig, axes = plt.subplots(1, 2, figsize=(12, 5), sharey=True)\n",
    "\n",
    "ax = axes[0]\n",
    "bins = (np.linspace(-0.1, 0.1, 151), np.linspace(-2.5, 2.5, 151))\n",
    "ax.hist2d(\n",
    "    xv[mask, 5],\n",
    "    xv[mask, 2],\n",
    "    bins=bins,\n",
    "    norm=mpl.colors.LogNorm(),\n",
    ")\n",
    "ax.set(\n",
    "    xlim=(bins[0].min(), bins[0].max()),\n",
    "    ylim=(bins[1].min(), bins[1].max()),\n",
    "    xlabel=\"$v_z$\",\n",
    "    ylabel=\"$z$\"\n",
    ")\n",
    "\n",
    "ax = axes[1]\n",
    "bins = (np.linspace(0, 15, 151), np.linspace(-2.5, 2.5, 151))\n",
    "ax.hist2d(\n",
    "    np.sqrt(xv[mask, 0]**2 + xv[mask, 1]**2),\n",
    "    xv[mask, 2],\n",
    "    bins=bins,\n",
    "    norm=mpl.colors.LogNorm(),\n",
    ")\n",
    "ax.set(\n",
    "    xlim=(bins[0].min(), bins[0].max()),\n",
    "    ylim=(bins[1].min(), bins[1].max()),\n",
    "    xlabel=\"$R$\",\n",
    "    ylabel=\"$z$\"\n",
    ")\n",
    "ax.axvline(8.3)"
   ]
  },
  {
   "cell_type": "code",
   "execution_count": null,
   "id": "239400cf",
   "metadata": {},
   "outputs": [],
   "source": [
    "Norbits = 12\n",
    "orbits = []\n",
    "\n",
    "Nt = 1024\n",
    "zeros = np.zeros(Nt)\n",
    "\n",
    "Jzs = np.linspace(1.5e-2, np.sqrt(0.12), Norbits) ** 2 # u.kpc**2 / u.Myr\n",
    "Omzs = []\n",
    "for Jz in Jzs:\n",
    "    act = u.Quantity([0, Jz, Jphi0])\n",
    "    torus_mapper = agama.ActionMapper(agama_pot, act)\n",
    "\n",
    "    t_grid = np.linspace(0, 2 * np.pi / torus_mapper.Omegaz, Nt)\n",
    "    thz = torus_mapper.Omegaz * t_grid\n",
    "    Omzs.append(torus_mapper.Omegaz)\n",
    "    angles = np.stack((zeros, thz, zeros)).T\n",
    "    z, vz = torus_mapper(angles)[:, [2, 5]].T\n",
    "\n",
    "    # vz = (vz * u.kpc / u.Myr).to_value(u.km / u.s)\n",
    "    \n",
    "    orbits.append((z, vz))"
   ]
  },
  {
   "cell_type": "markdown",
   "id": "24bc026f",
   "metadata": {},
   "source": [
    "## Make binned representation:"
   ]
  },
  {
   "cell_type": "code",
   "execution_count": null,
   "id": "c5a0da10",
   "metadata": {},
   "outputs": [],
   "source": [
    "bins = (np.linspace(-0.1, 0.1, 151), np.linspace(-2.5, 2.5, 151))"
   ]
  },
  {
   "cell_type": "code",
   "execution_count": null,
   "id": "9693e3e8",
   "metadata": {},
   "outputs": [],
   "source": [
    "H, xe, ye = np.histogram2d(\n",
    "    sub_xv[:, 5],\n",
    "    sub_xv[:, 2],\n",
    "    bins=bins,\n",
    ")"
   ]
  },
  {
   "cell_type": "code",
   "execution_count": null,
   "id": "e8a03af2",
   "metadata": {},
   "outputs": [],
   "source": [
    "fig, axes = plt.subplots(\n",
    "    1, 2, figsize=(10, 5), sharex=True, sharey=True, constrained_layout=True\n",
    ")\n",
    "\n",
    "axes[0].set(\n",
    "    xlim=(bins[0].min(), bins[0].max()),\n",
    "    ylim=(bins[1].min(), bins[1].max()),\n",
    "    xlabel=\"$v_z$\",\n",
    "    ylabel=\"$z$\"\n",
    ")\n",
    "\n",
    "for ax in axes:\n",
    "    ax.pcolormesh(\n",
    "        xe, ye, H.T,\n",
    "        norm=mpl.colors.LogNorm(),\n",
    "    )\n",
    "    \n",
    "for (z, vz), Jz in zip(orbits, Jzs):\n",
    "    axes[1].plot(\n",
    "        vz, z, marker=\"\", ls=\"-\", lw=1, color='c'\n",
    "    )"
   ]
  },
  {
   "cell_type": "markdown",
   "id": "b577e179",
   "metadata": {},
   "source": [
    "## Fake element abundances:"
   ]
  },
  {
   "cell_type": "code",
   "execution_count": null,
   "id": "c83a225b",
   "metadata": {},
   "outputs": [],
   "source": [
    "# Mg/Fe\n",
    "rng = np.random.default_rng(seed=42)\n",
    "\n",
    "# Trend and dispersion eyeballed from APOGEE:\n",
    "mgfe = rng.normal(\n",
    "    np.sqrt(0.15) * agama_act[:, 1]**0.5,\n",
    "    0.04\n",
    ")"
   ]
  },
  {
   "cell_type": "code",
   "execution_count": null,
   "id": "f41957c1",
   "metadata": {},
   "outputs": [],
   "source": [
    "mgfe_stat = binned_statistic_2d(sub_xv[:, 5], sub_xv[:, 2], mgfe[mask], bins=bins)\n",
    "\n",
    "fig, ax = plt.subplots(1, 1, figsize=(6, 5), constrained_layout=True)\n",
    "\n",
    "cs = ax.pcolormesh(\n",
    "    mgfe_stat.x_edge,\n",
    "    mgfe_stat.y_edge,\n",
    "    mgfe_stat.statistic.T,\n",
    "    cmap=\"cividis_r\",\n",
    "    vmin=0,\n",
    "    vmax=0.15,\n",
    ")\n",
    "cb = fig.colorbar(cs)"
   ]
  },
  {
   "cell_type": "markdown",
   "id": "974aa98a",
   "metadata": {},
   "source": [
    "## Save test data: \n",
    "\n",
    "Both particle data, and binned data"
   ]
  },
  {
   "cell_type": "code",
   "execution_count": null,
   "id": "72c12a8f",
   "metadata": {},
   "outputs": [],
   "source": [
    "test_data_path = pathlib.Path('../test-data').absolute()\n",
    "test_data_path.mkdir(exist_ok=True)"
   ]
  },
  {
   "cell_type": "code",
   "execution_count": null,
   "id": "9bb10ed9",
   "metadata": {},
   "outputs": [],
   "source": [
    "sub_act, sub_ang, sub_freq = act_finder(xv, angles=True)"
   ]
  },
  {
   "cell_type": "code",
   "execution_count": null,
   "id": "451e8239",
   "metadata": {},
   "outputs": [],
   "source": [
    "test_data = at.QTable()"
   ]
  },
  {
   "cell_type": "code",
   "execution_count": null,
   "id": "4a9da5bf",
   "metadata": {},
   "outputs": [],
   "source": [
    "test_data[\"xyz\"] = xv[:, :3] * u.kpc\n",
    "test_data[f\"v_xyz\"] = xv[:, 3:6] * u.kpc/u.Myr"
   ]
  },
  {
   "cell_type": "code",
   "execution_count": null,
   "id": "39b45508",
   "metadata": {},
   "outputs": [],
   "source": [
    "for i, name in enumerate([\"R\", \"z\", \"phi\"]):\n",
    "    test_data[f\"J_{name}\"] = sub_act[:, i] * u.kpc**2/u.Myr\n",
    "    test_data[f\"theta_{name}\"] = sub_ang[:, i] * u.rad\n",
    "    test_data[f\"Omega_{name}\"] = sub_freq[:, i] * u.rad/u.Myr"
   ]
  },
  {
   "cell_type": "code",
   "execution_count": null,
   "id": "95e6a371",
   "metadata": {},
   "outputs": [],
   "source": [
    "test_data['MG_FE'] = mgfe"
   ]
  },
  {
   "cell_type": "code",
   "execution_count": null,
   "id": "cfaeb4b0",
   "metadata": {},
   "outputs": [],
   "source": [
    "test_data.write(test_data_path / 'agama-galaxymodel-particles-qIso.fits', overwrite=True)"
   ]
  },
  {
   "cell_type": "code",
   "execution_count": null,
   "id": "f97add9b",
   "metadata": {},
   "outputs": [],
   "source": []
  }
 ],
 "metadata": {
  "kernelspec": {
   "display_name": "apw-py310",
   "language": "python",
   "name": "apw-py310"
  },
  "language_info": {
   "codemirror_mode": {
    "name": "ipython",
    "version": 3
   },
   "file_extension": ".py",
   "mimetype": "text/x-python",
   "name": "python",
   "nbconvert_exporter": "python",
   "pygments_lexer": "ipython3",
   "version": "3.10.8"
  },
  "toc": {
   "base_numbering": 1,
   "nav_menu": {},
   "number_sections": true,
   "sideBar": true,
   "skip_h1_title": false,
   "title_cell": "Table of Contents",
   "title_sidebar": "Contents",
   "toc_cell": false,
   "toc_position": {},
   "toc_section_display": true,
   "toc_window_display": true
  }
 },
 "nbformat": 4,
 "nbformat_minor": 5
}
